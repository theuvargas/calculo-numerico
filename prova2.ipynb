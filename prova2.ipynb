{
 "cells": [
  {
   "cell_type": "markdown",
   "id": "b0227769-1b25-444e-b7e1-b942b8125e01",
   "metadata": {},
   "source": [
    "### 1"
   ]
  },
  {
   "cell_type": "markdown",
   "id": "a4109dd0-69a6-4fb7-a5d0-1f4afbe8049d",
   "metadata": {},
   "source": [
    "a)"
   ]
  },
  {
   "cell_type": "code",
   "execution_count": 17,
   "id": "e1a58556-5ae5-474c-a5b3-6171ec7b89fd",
   "metadata": {},
   "outputs": [],
   "source": [
    "# tabela\n",
    "x = [0.8,   1,   2,   3,   4]\n",
    "y = [2.4, 2.5, 2.8, 3.1, 3.4]"
   ]
  },
  {
   "cell_type": "markdown",
   "id": "e8e128f8-4645-434d-845c-abff52fc7819",
   "metadata": {},
   "source": [
    "Linearizando"
   ]
  },
  {
   "cell_type": "markdown",
   "id": "8604e1f7-bcb4-47c9-831c-990fc5f0d960",
   "metadata": {},
   "source": [
    "$$\n",
    "y = A \\frac{1}{x^m} \\\\\n",
    "\\frac{1}{y} = \\frac{1}{A} x^m \\\\\n",
    "\\ln \\left( \\frac{1}{y} \\right) = \\ln \\left(  \\frac{1}{A} x^m \\right) \\\\\n",
    "\\ln \\left( \\frac{1}{y} \\right) = \\ln \\left(  \\frac{1}{A} \\right) + m\\ln(x) \\\\\n",
    "$$"
   ]
  },
  {
   "cell_type": "markdown",
   "id": "2c647c0b-a2f7-4bfb-8193-2b94c50f12cb",
   "metadata": {},
   "source": [
    "É preciso resolver\n",
    "$$\n",
    "\\phi^T \\phi a = \\phi^T y\n",
    "$$"
   ]
  },
  {
   "cell_type": "markdown",
   "id": "a29a6223-b020-43a4-8c77-e5dad5559b42",
   "metadata": {},
   "source": [
    "$$\n",
    "\\phi = \\left[\\begin{matrix}1.0 & -0.22314355131421\\\\1.0 & 0.0\\\\1.0 & 0.693147180559945\\\\1.0 & 1.09861228866811\\\\1.0 & 1.38629436111989\\end{matrix}\\right] \\quad\n",
    "y = \\left[\\begin{matrix}-0.8754687373539\\\\-0.916290731874155\\\\-1.02961941718116\\\\-1.1314021114911\\\\-1.22377543162212\\end{matrix}\\right] \\quad\n",
    "\\beta = \\left[\\begin{matrix}\\beta_1\\\\\\beta_2\\end{matrix}\\right]\n",
    "$$"
   ]
  },
  {
   "cell_type": "markdown",
   "id": "133d80bf-1fa8-412b-8d9e-93512c96b86e",
   "metadata": {},
   "source": [
    "Onde $\\phi$ é a matriz de Vandermonde"
   ]
  },
  {
   "cell_type": "code",
   "execution_count": 14,
   "id": "41b1d5d4-8937-4a4f-a6ad-6b32f21d2a22",
   "metadata": {},
   "outputs": [
    {
     "data": {
      "text/latex": [
       "$\\displaystyle \\left[\\begin{matrix}-0.912166845959462\\\\-0.208372553337376\\end{matrix}\\right]$"
      ],
      "text/plain": [
       "Matrix([\n",
       "[-0.912166845959462],\n",
       "[-0.208372553337376]])"
      ]
     },
     "execution_count": 14,
     "metadata": {},
     "output_type": "execute_result"
    }
   ],
   "source": [
    "import sympy as sp\n",
    "from math import log\n",
    "\n",
    "def equacoes_normais(lista_x, lista_y, grau):\n",
    "    vandermonde = [[x**p for p in range(grau+1)] for x in lista_x] # cria a matriz de Vandermonde\n",
    "    \n",
    "    phi = sp.Matrix(vandermonde)\n",
    "    y = sp.Matrix(lista_y) # matriz coluna dos valores de f(x)\n",
    "    \n",
    "    A = phi.T * phi\n",
    "    B = phi.T * y\n",
    "    \n",
    "    return A.gauss_jordan_solve(B)[0] # resolve Ax = B e retorna x\n",
    "\n",
    "equacoes_normais(lista_x=[log(x) for x in x], lista_y=[log(1/y) for y in y], grau=1)"
   ]
  },
  {
   "cell_type": "markdown",
   "id": "bcbc1868-2866-4062-891b-a37675b76677",
   "metadata": {},
   "source": [
    "$$\n",
    "m = -0.208 \\\\\n",
    "\\ln \\left(  \\frac{1}{A} \\right) = -0.912 \\\\\n",
    "e^{\\ln \\left(  \\frac{1}{A} \\right)} = e^{-0.912} \\\\\n",
    "\\frac{1}{A} = e^{-0.912} \\\\\n",
    "A = \\frac{1}{e^{-0.912}} \\\\\n",
    "A = 2.489\n",
    "$$"
   ]
  },
  {
   "cell_type": "markdown",
   "id": "0019d4f9-5ff2-4c43-a561-f03bed6d2a01",
   "metadata": {},
   "source": [
    "Então\n",
    "$$\n",
    "y = 2.489 \\frac{1}{x^{-0.208}}\n",
    "$$"
   ]
  },
  {
   "cell_type": "markdown",
   "id": "a324e12f-5c35-41c8-bc5b-51258378b4cb",
   "metadata": {},
   "source": [
    "b) $a e^{b \\sin(x) + cx^2}$"
   ]
  },
  {
   "cell_type": "markdown",
   "id": "33392af8-d712-41af-8d99-65212b2dbf8b",
   "metadata": {},
   "source": [
    "Linearizando"
   ]
  },
  {
   "cell_type": "markdown",
   "id": "1220b8d6-85c3-4698-b552-0c245e177a89",
   "metadata": {},
   "source": [
    "$$\n",
    "y = a e^{b \\sin(x) + cx^2} \\\\\n",
    "\\ln(y) = \\ln(a e^{b \\sin(x) + cx^2}) \\\\\n",
    "\\ln(y) = \\ln(a) + \\ln(e^{b \\sin(x) + cx^2}) \\\\\n",
    "\\ln(y) = \\ln(a) + b \\sin(x) + cx^2 \\\\\n",
    "$$"
   ]
  },
  {
   "cell_type": "code",
   "execution_count": 16,
   "id": "1fca76d5-4839-4b57-bd34-cbab3cb533f6",
   "metadata": {},
   "outputs": [
    {
     "data": {
      "text/latex": [
       "$\\displaystyle \\left[\\begin{matrix}-1.11064943916063\\\\0.175391180412714\\\\0.0196009239601559\\end{matrix}\\right]$"
      ],
      "text/plain": [
       "Matrix([\n",
       "[ -1.11064943916063],\n",
       "[ 0.175391180412714],\n",
       "[0.0196009239601559]])"
      ]
     },
     "execution_count": 16,
     "metadata": {},
     "output_type": "execute_result"
    }
   ],
   "source": [
    "from math import sin\n",
    "equacoes_normais(lista_x=[sin(x) for x in x], lista_y=[log(1/y) for y in y], grau=2)"
   ]
  },
  {
   "cell_type": "markdown",
   "id": "c03b0332-7a67-4a71-8f35-622f832b16b8",
   "metadata": {},
   "source": [
    "$$\n",
    "\\ln(a) = -1.11 \\quad a = e^{-1.11} \\quad a = 0.33 \\\\\n",
    "b = 0.175 \\\\\n",
    "c = 0.020 \n",
    "$$"
   ]
  },
  {
   "cell_type": "markdown",
   "id": "a8fd9633-b2ff-49f0-b6ce-b05c813914d8",
   "metadata": {},
   "source": [
    "$$\n",
    "0.33 e^{0.175 \\sin(x) + 0.02x^2}\n",
    "$$"
   ]
  },
  {
   "cell_type": "markdown",
   "id": "f25928a5-1143-4563-a71b-1b7c5ea065b9",
   "metadata": {},
   "source": [
    "### 2)"
   ]
  },
  {
   "cell_type": "code",
   "execution_count": 4,
   "id": "3001e94d-7099-4ff2-9dd0-ef480b251078",
   "metadata": {},
   "outputs": [],
   "source": [
    "f = lambda x,y: 3*y - x "
   ]
  },
  {
   "cell_type": "markdown",
   "id": "a9883b0a-9f20-4a65-9518-4f4236293d3d",
   "metadata": {},
   "source": [
    "Usando o método de Euler"
   ]
  },
  {
   "cell_type": "code",
   "execution_count": 6,
   "id": "8b6ac5cc-9e1e-4bf0-b9a2-097943dcea82",
   "metadata": {},
   "outputs": [],
   "source": [
    "from numpy import arange\n",
    "\n",
    "def euler(x0, x_f, h, f, y0):\n",
    "    resultado = y0\n",
    "    for x in arange(x0, x_f, h):\n",
    "        resultado = resultado + h * f(x, resultado)\n",
    "        \n",
    "    return resultado"
   ]
  },
  {
   "cell_type": "code",
   "execution_count": 7,
   "id": "c92fee58-fad0-4c18-bf82-0aca40b61ded",
   "metadata": {},
   "outputs": [
    {
     "data": {
      "text/plain": [
       "0.32793600000000006"
      ]
     },
     "execution_count": 7,
     "metadata": {},
     "output_type": "execute_result"
    }
   ],
   "source": [
    "euler(0, 1, 0.2, f, 0.1)"
   ]
  },
  {
   "cell_type": "markdown",
   "id": "a032f5ee-16ec-4c5d-a384-d6af2965562d",
   "metadata": {},
   "source": [
    "a) 0.3279"
   ]
  },
  {
   "cell_type": "code",
   "execution_count": 8,
   "id": "a27f766a-019b-4e0d-a6b9-a7dd4723191d",
   "metadata": {},
   "outputs": [
    {
     "data": {
      "text/plain": [
       "0.375"
      ]
     },
     "execution_count": 8,
     "metadata": {},
     "output_type": "execute_result"
    }
   ],
   "source": [
    "euler(0, 1, 0.5, f, 0.1)"
   ]
  },
  {
   "cell_type": "markdown",
   "id": "9c569a33-b03a-4e73-bf5f-e3df9bb66b1a",
   "metadata": {},
   "source": [
    "b) 0.375"
   ]
  },
  {
   "cell_type": "markdown",
   "id": "f4c95714-c5f9-47cd-be5c-69c9d3835362",
   "metadata": {},
   "source": [
    "c)"
   ]
  },
  {
   "cell_type": "code",
   "execution_count": 11,
   "id": "736577a7-73bc-4686-b46a-abc0ffbea104",
   "metadata": {},
   "outputs": [
    {
     "data": {
      "text/plain": [
       "0.14351580796252925"
      ]
     },
     "execution_count": 11,
     "metadata": {},
     "output_type": "execute_result"
    }
   ],
   "source": [
    "abs((0.327936 - 0.375) / 0.327936)"
   ]
  },
  {
   "cell_type": "markdown",
   "id": "7718444d-e3ae-4290-8a6b-7839e5bac7e2",
   "metadata": {},
   "source": [
    "O erro relativo é de 0.14351"
   ]
  },
  {
   "cell_type": "markdown",
   "id": "c9a278e3-d142-43bd-8977-a25c0b1cd344",
   "metadata": {},
   "source": [
    "### 3"
   ]
  },
  {
   "cell_type": "markdown",
   "id": "87e404ca-1f90-4b91-9eeb-36b2a0a68132",
   "metadata": {},
   "source": [
    "a)"
   ]
  },
  {
   "cell_type": "markdown",
   "id": "ea232ae2-0ffd-4b0e-b222-6233181e5935",
   "metadata": {},
   "source": [
    "Com 5 pontos, temos 4 intervalos. h = 0.25"
   ]
  },
  {
   "cell_type": "markdown",
   "id": "d336338e-e885-4d69-8a60-51ddfb3b82ce",
   "metadata": {},
   "source": [
    "$$\n",
    "(f(0) + 4 f(0.25) + 2 f(0.5) + 4 f(0.75) + f(1)) \\cdot \\frac{0.25}{3} \\\\\n",
    "(1.0 + 4 \\cdot 1.06449 + 2 \\cdot 1.28403 + 4 \\cdot 1.75505 + 2.71828) \\cdot \\frac{0.25}{3} \\\\\n",
    "(1.0 + 4.25798 + 2.56805 + 7.02022 + 2.71828) \\cdot 0.08333 = 1.46371\n",
    "$$"
   ]
  },
  {
   "cell_type": "markdown",
   "id": "183c3523-62d0-4f7a-a813-7e00f4b32575",
   "metadata": {},
   "source": [
    "b)"
   ]
  },
  {
   "cell_type": "markdown",
   "id": "1b448d7a-8610-4fb3-b6f5-fc391e9f5396",
   "metadata": {},
   "source": [
    "$$\n",
    "R_T(n) \\leq \\frac{M (b - a)^3}{12n^2}\n",
    "$$\n",
    "Onde $M = \\mathrm{max} |f''(x)|$ para $x \\in [0, 1]$ e $n$ é o número de intervalos."
   ]
  },
  {
   "cell_type": "markdown",
   "id": "f5b678f4-c48b-46e9-802c-2cb69a950492",
   "metadata": {},
   "source": [
    "$$\n",
    "f''(x) = 2 e^{(x^2)} (1 + 2 x^2)\n",
    "$$\n",
    "Então x = 1\n",
    "$$\n",
    "M = 6e\n",
    "$$"
   ]
  },
  {
   "cell_type": "markdown",
   "id": "a3702a32-f5da-4878-b40a-54785125da61",
   "metadata": {},
   "source": [
    "$$\n",
    "10^{-2} \\geq \\frac{6e (1 - 0)^3}{12n^2} \\\\\n",
    "10^{-2} \\geq \\frac{e}{2n^2} \\\\\n",
    "n^2 \\geq \\frac{e}{10^{-2}2} \\\\\n",
    "n^2 \\geq 136 \\\\\n",
    "n \\geq 11.66 \\\\\n",
    "n = 12\n",
    "$$"
   ]
  },
  {
   "cell_type": "code",
   "execution_count": 3,
   "id": "9dba2034-e0f4-45fd-bfa3-e5f75f96b2f9",
   "metadata": {},
   "outputs": [
    {
     "data": {
      "text/plain": [
       "1.4657942734011131"
      ]
     },
     "execution_count": 3,
     "metadata": {},
     "output_type": "execute_result"
    }
   ],
   "source": [
    "from numpy import linspace\n",
    "def regra_trapezio(f, a, b, intervalos):\n",
    "    soma = f(a) + f(b) # inicializa a soma com o valor de f(a) + f(b)\n",
    "    \n",
    "    for x in linspace(a, b, intervalos+1)[1:-1]: # divide [a, b] em intervalos\n",
    "        soma += 2 * f(x)\n",
    "    \n",
    "    delta_x = (b-a)/intervalos\n",
    "    \n",
    "    return (delta_x/2) * soma\n",
    "\n",
    "from math import exp\n",
    "\n",
    "f = lambda x: exp(x**2)\n",
    "regra_trapezio(f, 0, 1, 12)"
   ]
  },
  {
   "cell_type": "markdown",
   "id": "5ba44683-f40f-478f-950d-b8eba52aa264",
   "metadata": {},
   "source": [
    "$$\n",
    "I = 1.4657942734011131\n",
    "$$"
   ]
  },
  {
   "cell_type": "markdown",
   "id": "932e82cf-2fe4-4116-97a1-d4fc77062838",
   "metadata": {},
   "source": [
    "c)"
   ]
  },
  {
   "cell_type": "markdown",
   "id": "ab1b7827-3356-4695-b890-c55d54e37e1b",
   "metadata": {},
   "source": [
    "$$\n",
    "10^{-4} \\geq \\frac{6e (1 - 0)^3}{12n^2} \\\\\n",
    "10^{-4} \\geq \\frac{e}{2n^2} \\\\\n",
    "n^2 \\geq \\frac{e}{10^{-4}2} \\\\\n",
    "n^2 \\geq 13591.41 \\\\\n",
    "n \\geq 116.58 \\\\\n",
    "$$"
   ]
  },
  {
   "cell_type": "markdown",
   "id": "f6e53d60-0f4a-4309-9502-802eb5bfc46d",
   "metadata": {},
   "source": [
    "117 pontos, então."
   ]
  },
  {
   "cell_type": "markdown",
   "id": "46305fa7-b7c7-462c-89ff-d222ca49e423",
   "metadata": {},
   "source": [
    "### 4)"
   ]
  },
  {
   "cell_type": "markdown",
   "id": "6da240c9-5d9d-455c-b3b3-e94a408cfbf2",
   "metadata": {},
   "source": [
    "a)"
   ]
  },
  {
   "cell_type": "code",
   "execution_count": 1,
   "id": "02254e51-0165-4714-8e57-74dd56c2c1b9",
   "metadata": {},
   "outputs": [],
   "source": [
    "# Tabela\n",
    "x = [0.5, 1.2, 2.3, 3.4, 4.5]\n",
    "y = [3.4, 4.5, 2.8, 1.1, 6.4]"
   ]
  },
  {
   "cell_type": "markdown",
   "id": "c4bf09d4-d86b-450d-a078-d227102132bb",
   "metadata": {},
   "source": [
    "$$\n",
    "\\frac{x-2.3}{1.2-2.3} \\cdot \\frac{x-3.4}{1.2-3.4} \\cdot 4.5 + \\frac{x-1.2}{2.3-1.2} \\cdot \\frac{x-3.4}{2.3-3.4} \\cdot 2.8 + \\frac{x-1.2}{3.4-1.2} \\cdot \\frac{x-2.3}{3.4-2.3} \\cdot 1.1 \\\\\n",
    "1.86x^2 - 10.599x + 14.541 + -2.314x^2 + 10.645x - 9.441 + 0.455x^2 - 1.591x + 1.255 \\\\\n",
    "6.355 - 1.545x\n",
    "$$"
   ]
  },
  {
   "cell_type": "code",
   "execution_count": 2,
   "id": "66d81b63-f540-4339-bd68-6013ab7f0c06",
   "metadata": {},
   "outputs": [
    {
     "data": {
      "text/plain": [
       "2.4925000000000006"
      ]
     },
     "execution_count": 2,
     "metadata": {},
     "output_type": "execute_result"
    }
   ],
   "source": [
    "(lambda x: 6.355 - 1.545*x)(2.5)"
   ]
  },
  {
   "cell_type": "markdown",
   "id": "7a750c16-dad6-4ab9-aa8a-5f10b34c9f31",
   "metadata": {},
   "source": [
    "$$\n",
    "p(2.5) = 2.492\n",
    "$$"
   ]
  },
  {
   "cell_type": "markdown",
   "id": "7d82e772-30fa-46a7-b1b7-5d4920d2bff3",
   "metadata": {},
   "source": [
    "b)"
   ]
  },
  {
   "cell_type": "code",
   "execution_count": 29,
   "id": "47eb3d66-defa-4f9d-9c5b-7d655369d436",
   "metadata": {},
   "outputs": [],
   "source": [
    "def diferencas_divididas(points):\n",
    "    if len(points) == 1:\n",
    "        return points[0][1]\n",
    "    \n",
    "    return (diferencas_divididas(points[1:]) - diferencas_divididas(points[:-1]))/(points[-1][0] - points[0][0])"
   ]
  },
  {
   "cell_type": "code",
   "execution_count": 36,
   "id": "da29d2e4-62b6-47f6-9fdc-9b78ae63dbe2",
   "metadata": {},
   "outputs": [
    {
     "name": "stdout",
     "output_type": "stream",
     "text": [
      "[(0.5, 3.4), (1.2, 4.5), (2.3, 2.8), (3.4, 1.1), (4.5, 6.4)]\n"
     ]
    },
    {
     "data": {
      "text/plain": [
       "0.8765339343851739"
      ]
     },
     "execution_count": 36,
     "metadata": {},
     "output_type": "execute_result"
    }
   ],
   "source": [
    "x = [0.5, 1.2, 2.3, 3.4, 4.5]\n",
    "y = [3.4, 4.5, 2.8, 1.1, 6.4]\n",
    "\n",
    "pontos = [(x,y) for x,y in zip(x, y)]\n",
    "print(pontos)\n",
    "diferencas_divididas(pontos[1:])"
   ]
  },
  {
   "cell_type": "markdown",
   "id": "825889ae-4be6-472d-9f9e-c158dddfa40b",
   "metadata": {},
   "source": [
    "$$\n",
    "erro(2.5) \\leq |(2.5-1.2)*(2.5-2.3)*(2.5-3.4)| * 0.8653 \\\\\n",
    "erro(2.5) \\leq 0.234 * 0.8653 \\\\\n",
    "erro(2.5) \\leq 0.20510\n",
    "$$"
   ]
  }
 ],
 "metadata": {
  "kernelspec": {
   "display_name": "Python 3 (ipykernel)",
   "language": "python",
   "name": "python3"
  },
  "language_info": {
   "codemirror_mode": {
    "name": "ipython",
    "version": 3
   },
   "file_extension": ".py",
   "mimetype": "text/x-python",
   "name": "python",
   "nbconvert_exporter": "python",
   "pygments_lexer": "ipython3",
   "version": "3.9.5"
  }
 },
 "nbformat": 4,
 "nbformat_minor": 5
}
