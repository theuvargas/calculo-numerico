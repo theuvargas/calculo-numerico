{
 "cells": [
  {
   "cell_type": "markdown",
   "id": "b27455ac-7e0e-48b0-a8dc-dcb6fc57d8ec",
   "metadata": {},
   "source": [
    "### 1)\n",
    "\n",
    "a) $ (5,987)_{10}  = 5,987 \\cdot 10^0 $ \\\n",
    "b) $ (630)_{10} = 6,30 \\cdot 10^2 $ \\\n",
    "c) $ (0,000000512)_{10} = 5,12 \\cdot 10^{-7} $ \\\n",
    "d) $ (1111)_2 = 1,111 \\cdot 2^3 $ \\\n",
    "e) $ (10, 11)_2 = 1,011 \\cdot 2^1 $ \\\n",
    "f) $ (0, 0001000)_2 = 1 \\cdot 2^{-4} $"
   ]
  },
  {
   "cell_type": "markdown",
   "id": "5c0e0a9f-7b4b-4b1d-b240-f16aa2e3b369",
   "metadata": {},
   "source": [
    "### 2)\n",
    "\n",
    "| Letra | Truncamento            | Arredondamento         |\n",
    "|-------|------------------------|------------------------|\n",
    "| a)    | $ 5.98 \\cdot 10^0 $    | $ 5.99 \\cdot 10^0 $    |\n",
    "| b)    | $ 6.30 \\cdot 10^2 $    | $ 6.30 \\cdot 10^2 $    |\n",
    "| c)    | $ 5.12 \\cdot 10^{-7} $ | $ 5.12 \\cdot 10^{-7} $ |\n",
    "| d)    | $ 1.11 \\cdot 2^3 $     | $ 1.00 \\cdot 2^4 $     |\n",
    "| e)    | $ 1.01 \\cdot 2^1 $     | $ 1.10 \\cdot 2^1 $     |\n",
    "| d)    | $ 1.00 \\cdot 2^{-4} $  | $ 1.00 \\cdot 2^{-4} $  |"
   ]
  },
  {
   "cell_type": "markdown",
   "id": "d96dd90a-23e0-495a-956f-e2645dd19151",
   "metadata": {},
   "source": [
    "### 3)\n",
    "\n",
    "a) Menor: $ 10^{-6} = 1,00000 \\cdot 10^{-6} $ /// Maior: $ 9,99999 \\cdot 106 = 9999990 $\n",
    "\n",
    "\n",
    "b) $ 1,89248 \\cdot 10^5 $ com arredondamento, e $ 1,89247 * 10^5 $ com truncamento\n",
    "\n",
    "\n",
    "c) $ 257820 + 0,6 = 257820,6 $\n",
    "\n",
    "   $ 2,57820 $ com truncamento (não muda)\n",
    "   \n",
    "   $ 2,57821 $ com arredondamento, pois $ 6 \\geqslant 5 $, então o último algarismo aumenta em $ 1 $.\n",
    "   \n",
    "\n",
    "d) O resultado será $ 257820 $, pois a cada operação $ 257820 + 0,6 $ o resultado será truncado de volta para $ 257820 $.\n",
    "\n",
    "\n",
    "e) $ 6 + 257820 = 257826 → 2,57826 \\cdot 10^5 $\n",
    "\n",
    "\n",
    "\n",
    "f) Comutatividade: é comutativa, pois não faz diferença fazer x+y ou y+x \n",
    "\n",
    "Associatividade: não é associativa, pois realizar operações em ordens diferentes gera resultados diferentes (como visto na letras ‘d)’ e ‘e)’) \n",
    "\n",
    "Elemento neutro: o elemento neutro é o 0, pois para qualquer x, x+0 = x e 0+x = x\n"
   ]
  },
  {
   "cell_type": "markdown",
   "id": "1215d084-90b3-4a2a-b9ee-50fab58380f5",
   "metadata": {},
   "source": [
    "### 4)\n",
    "\n",
    "\n",
    "##### a) \n",
    "$x_1 = 1.4 \\cdot 10^{q}$:\n",
    "$$\n",
    "10^{−q}(1.4 \\cdot 10^q)^2 - (1.4 + 2.5 \\cdot 10^{-q}) (1.4 \\cdot 10^q) + 3.5 = 0 \\\\\n",
    "1.96 \\cdot 10^q - 1.96 \\cdot 10^q - 3.5 + 3.5 = 0 \\\\\n",
    "0 = 0\n",
    "$$\n",
    "\n",
    "$x_2 = 2.5$:\n",
    "$$\n",
    "10^{-q} (2.5)^2 - (1.4 + 2.5 \\cdot 10^{-q}) \\cdot 2.5 + 3.5 = 0 \\\\\n",
    "6.25 \\cdot 10^{-q} - 3.5 - 6.25 \\cdot 10^{-q} + 3.5 = 0 \\\\\n",
    "6.25 \\cdot 10^{-q} - 6.25 \\cdot 10^{-q} + 3.5 - 3.5 = 0 \\\\\n",
    "0 = 0\n",
    "$$\n"
   ]
  },
  {
   "cell_type": "markdown",
   "id": "c2c6dc2c-c78d-473a-bb76-708622a7ef18",
   "metadata": {},
   "source": [
    "##### b)\n",
    "Código em Python:"
   ]
  },
  {
   "cell_type": "code",
   "execution_count": 1,
   "id": "458b3944-2f15-442c-8c74-2d1bf628db8f",
   "metadata": {},
   "outputs": [],
   "source": [
    "import math\n",
    "import numpy as np"
   ]
  },
  {
   "cell_type": "code",
   "execution_count": 2,
   "id": "fb3c3e6c-41b3-4dad-b4c3-0026c3e5758b",
   "metadata": {},
   "outputs": [],
   "source": [
    "def bhaskara(a, b, c):\n",
    "    x1 = (-b + math.sqrt(b**2 - 4*a*c))/ (2*a)\n",
    "    x2 = (-b - math.sqrt(b**2 - 4*a*c))/ (2*a)\n",
    "    return (x1, x2)"
   ]
  },
  {
   "cell_type": "code",
   "execution_count": 3,
   "id": "c412977c-ed47-472f-bb4a-a121bd386984",
   "metadata": {},
   "outputs": [],
   "source": [
    "def letra_b(q):\n",
    "    return bhaskara(10**-q, -((10**-q) * 2.5 + 1.4), 3.5)"
   ]
  },
  {
   "cell_type": "markdown",
   "id": "41b9c33a-c082-4014-b353-1ecdd44316d5",
   "metadata": {},
   "source": [
    "Resultados:"
   ]
  },
  {
   "cell_type": "code",
   "execution_count": 4,
   "id": "7947f5b6-fb89-476e-b9bd-cadfb6eba276",
   "metadata": {},
   "outputs": [
    {
     "name": "stdout",
     "output_type": "stream",
     "text": [
      "(139999.99999999997, 2.500000000005276)\n",
      "(140000000000.0, 2.5000002068509275)\n",
      "(1400000000000.0, 2.5000002068509275)\n",
      "(1399999999999999.8, 2.4424906541753444)\n"
     ]
    }
   ],
   "source": [
    "print(letra_b(5))\n",
    "print(letra_b(11))\n",
    "print(letra_b(12))\n",
    "print(letra_b(15))"
   ]
  },
  {
   "cell_type": "markdown",
   "id": "85eac931-8423-491e-accf-411975230093",
   "metadata": {},
   "source": [
    "##### c) \n",
    "O desacordo acontece por erros de precisão de ponto flutuante."
   ]
  },
  {
   "cell_type": "code",
   "execution_count": 5,
   "id": "8f516af3-0fda-4211-9757-71446d70bbb3",
   "metadata": {},
   "outputs": [],
   "source": [
    "def bhaskara_alt(a, b, c):\n",
    "    s = 0\n",
    "    if b < 0:\n",
    "        s = 1\n",
    "    x1 = (-b - s*math.sqrt(b**2 - 4*a*c)) / (2*a)\n",
    "    x2 = c / (a*x1)\n",
    "    return (x2, x1)"
   ]
  },
  {
   "cell_type": "markdown",
   "id": "900c9bdd-fd60-417c-ad60-534465ac2cbb",
   "metadata": {},
   "source": [
    "##### e)"
   ]
  },
  {
   "cell_type": "code",
   "execution_count": 6,
   "id": "dfe3859f-4921-4350-b4b1-f61c93ee11c1",
   "metadata": {},
   "outputs": [],
   "source": [
    "def letra_d(q):\n",
    "    return bhaskara_alt(10**-q, -((10**-q) * 2.5 + 1.4), 3.5)"
   ]
  },
  {
   "cell_type": "markdown",
   "id": "41a7540a-4fa0-4377-b1ea-5c3637c9efcc",
   "metadata": {},
   "source": [
    "Resultados:"
   ]
  },
  {
   "cell_type": "code",
   "execution_count": 7,
   "id": "c31c3842-71a9-47cd-9168-6a810ce78dfc",
   "metadata": {},
   "outputs": [
    {
     "name": "stdout",
     "output_type": "stream",
     "text": [
      "(139999.99999970454, 2.500000000005276)\n",
      "(139999988416.34903, 2.5000002068509275)\n",
      "(1399999884163.4902, 2.5000002068509275)\n",
      "(1432963517799703.2, 2.4424906541753444)\n"
     ]
    }
   ],
   "source": [
    "print(letra_d(5))\n",
    "print(letra_d(11))\n",
    "print(letra_d(12))\n",
    "print(letra_d(15))"
   ]
  },
  {
   "cell_type": "markdown",
   "id": "ab905fae-c6b1-4ba7-9f2a-413ae9ffdda0",
   "metadata": {},
   "source": [
    "### 5)"
   ]
  },
  {
   "cell_type": "code",
   "execution_count": 8,
   "id": "74ca7220-a067-420c-9247-2ef243808bec",
   "metadata": {},
   "outputs": [],
   "source": [
    "def fatorial(n):\n",
    "    if n == np.intc(1):\n",
    "        return np.intc(1)\n",
    "    return n * fatorial(n-np.intc(1))"
   ]
  },
  {
   "cell_type": "code",
   "execution_count": 9,
   "id": "01c47112-cc3e-4a84-9d68-bdcefcfb1991",
   "metadata": {},
   "outputs": [
    {
     "name": "stdout",
     "output_type": "stream",
     "text": [
      "17\n"
     ]
    },
    {
     "name": "stderr",
     "output_type": "stream",
     "text": [
      "C:\\Users\\Mathe\\AppData\\Local\\Temp/ipykernel_3452/79573571.py:4: RuntimeWarning: overflow encountered in int_scalars\n",
      "  return n * fatorial(n-np.intc(1))\n"
     ]
    }
   ],
   "source": [
    "n = np.intc(1)\n",
    "while fatorial(n) > 0:\n",
    "    n += 1\n",
    "print(n)"
   ]
  },
  {
   "cell_type": "markdown",
   "id": "ff3787c1-b177-4f0e-a1c6-25e478a6ff62",
   "metadata": {},
   "source": [
    "O programa acima acusa overflow para k = 17. Isso ocorre porque o número fica tão \n",
    "grande que ultrapassa a representação máxima de inteiros positivos e “dá a volta” e vira negativo, como se fosse uma operação de módulo."
   ]
  },
  {
   "cell_type": "markdown",
   "id": "666f1022-a344-41b5-9a1f-ae32df8a4581",
   "metadata": {},
   "source": [
    "### 6)\n",
    "\n",
    "##### a)"
   ]
  },
  {
   "cell_type": "code",
   "execution_count": 10,
   "id": "32158f02-2d39-4a14-a750-3f40f9b55770",
   "metadata": {},
   "outputs": [],
   "source": [
    "# precisao_var é a precisão da variável: float ou double\n",
    "def num6(precisao_var):\n",
    "    A = precisao_var(1)\n",
    "    s = precisao_var(1 + A)\n",
    "    while s > 1:\n",
    "        A = A/2\n",
    "        s = 1+A\n",
    "    Prec = precisao_var(A*2)\n",
    "    return Prec"
   ]
  },
  {
   "cell_type": "markdown",
   "id": "43345e5f-9378-4ee4-af9e-92b581ebbff4",
   "metadata": {},
   "source": [
    "Saída:"
   ]
  },
  {
   "cell_type": "code",
   "execution_count": 11,
   "id": "4a266975-67bb-4085-904a-2f4399a71a0e",
   "metadata": {},
   "outputs": [
    {
     "name": "stdout",
     "output_type": "stream",
     "text": [
      "2.220446e-16\n",
      "2.220446049250313e-16\n"
     ]
    }
   ],
   "source": [
    "print(num6(np.single))\n",
    "print(num6(np.double))"
   ]
  },
  {
   "cell_type": "markdown",
   "id": "2e02abfc-5459-4f30-bc52-a8a784253eec",
   "metadata": {},
   "source": [
    "##### b)\n",
    "O número A*2 é escolhido porque é o último valor em que 1 + A é diferente de 1, ou seja, é o menor número significativo, e por isso representa a precisão."
   ]
  },
  {
   "cell_type": "markdown",
   "id": "b769c89b-2b2a-4a3d-9cf2-f1ad0b7acf85",
   "metadata": {},
   "source": [
    "##### c)"
   ]
  },
  {
   "cell_type": "code",
   "execution_count": 12,
   "id": "3e288c63-675e-411f-bbc8-539e3544a364",
   "metadata": {},
   "outputs": [
    {
     "name": "stdout",
     "output_type": "stream",
     "text": [
      "1.110223e-17\n",
      "1.110223e-20\n",
      "1.110223e-24\n",
      "1.110223e-15\n",
      "1.8873791e-15\n",
      "1.110223e-14\n",
      "2.0428104e-14\n",
      "1.110223e-13\n",
      "1.7486013e-13\n",
      "1.110223e-12\n",
      "1.986522e-12\n"
     ]
    }
   ],
   "source": [
    "def num6_c(precisao_var, w):\n",
    "    A = precisao_var(w)\n",
    "    s = precisao_var(w + A)\n",
    "    while s > w:\n",
    "        A = A/2\n",
    "        s = w+A\n",
    "    Prec = precisao_var(A*2)\n",
    "    return Prec\n",
    "\n",
    "for valor_de_w in [1e-1, 1e-4, 1e-8, 10, 17, 100, 184, 1000, 1575, 10000, 17893]:\n",
    "    print(num6_c(np.single, valor_de_w))"
   ]
  },
  {
   "cell_type": "markdown",
   "id": "34cb0c3c-a54f-47cf-844c-1dac02ed1f45",
   "metadata": {},
   "source": [
    "### 7)"
   ]
  },
  {
   "cell_type": "markdown",
   "id": "b8a69e16-14d3-4ef5-8ffe-d3d3abdb65cc",
   "metadata": {},
   "source": [
    "##### a)\n",
    "Função baseada no método de Horner (https://en.wikipedia.org/wiki/Horner%27s_method)"
   ]
  },
  {
   "cell_type": "code",
   "execution_count": 13,
   "id": "9c1edadd-c44d-4fae-964a-b35f1f39d4d0",
   "metadata": {},
   "outputs": [],
   "source": [
    "def taylor(x, n):\n",
    "    soma = 0\n",
    "    for i in range(n, 0, -1):\n",
    "        soma = 1 + x * soma/i\n",
    "    return soma"
   ]
  },
  {
   "cell_type": "markdown",
   "id": "02904119-d98c-46aa-8339-5f2d3ded7592",
   "metadata": {},
   "source": [
    "##### b)\n",
    "Testando para vários valores:"
   ]
  },
  {
   "cell_type": "code",
   "execution_count": 14,
   "id": "7d62d39d-bfb6-41be-b875-11237a21f37e",
   "metadata": {},
   "outputs": [],
   "source": [
    "def num_7(x, n):\n",
    "    print(f'math.exp({x})      \\t\\t-> {math.exp(x)}')\n",
    "    print(f'taylor({x}, {n})   \\t\\t-> {taylor(x, n)}')\n",
    "    print('----------------------------------------------------------')"
   ]
  },
  {
   "cell_type": "code",
   "execution_count": 15,
   "id": "862e7e4f-5124-47d7-8901-53d1d47f7fa4",
   "metadata": {},
   "outputs": [
    {
     "name": "stdout",
     "output_type": "stream",
     "text": [
      "math.exp(0.0001)      \t\t-> 1.0001000050001667\n",
      "taylor(0.0001, 10)   \t\t-> 1.0001000050001667\n",
      "----------------------------------------------------------\n",
      "math.exp(-0.0001)      \t\t-> 0.9999000049998333\n",
      "taylor(-0.0001, 10)   \t\t-> 0.9999000049998333\n",
      "----------------------------------------------------------\n",
      "math.exp(21)      \t\t-> 1318815734.4832146\n",
      "taylor(21, 5)   \t\t-> 9889.375\n",
      "----------------------------------------------------------\n",
      "math.exp(21)      \t\t-> 1318815734.4832146\n",
      "taylor(21, 10)   \t\t-> 3647291.828125\n",
      "----------------------------------------------------------\n",
      "math.exp(21)      \t\t-> 1318815734.4832146\n",
      "taylor(21, 100)   \t\t-> 1318815734.4832144\n",
      "----------------------------------------------------------\n",
      "math.exp(5)      \t\t-> 148.4131591025766\n",
      "taylor(5, 5)   \t\t-> 65.375\n",
      "----------------------------------------------------------\n",
      "math.exp(5)      \t\t-> 148.4131591025766\n",
      "taylor(5, 10)   \t\t-> 143.68945656966488\n",
      "----------------------------------------------------------\n",
      "math.exp(-5)      \t\t-> 0.006737946999085467\n",
      "taylor(-5, 100)   \t\t-> 0.00673794699908381\n",
      "----------------------------------------------------------\n",
      "math.exp(-21)      \t\t-> 7.582560427911907e-10\n",
      "taylor(-21, 100)   \t\t-> 7.534344037551932e-09\n",
      "----------------------------------------------------------\n"
     ]
    }
   ],
   "source": [
    "num_7(0.0001, 10)\n",
    "num_7(-0.0001, 10)\n",
    "num_7(21, 5)\n",
    "num_7(21, 10)\n",
    "num_7(21, 100)\n",
    "num_7(5, 5)\n",
    "num_7(5, 10)\n",
    "num_7(-5, 100)\n",
    "num_7(-21, 100)"
   ]
  },
  {
   "cell_type": "markdown",
   "id": "cc342fb5-b565-4027-abdf-32d590602a7f",
   "metadata": {},
   "source": [
    "A série tem acurácia maior com valores de x mais próximos de 0, precisando de um valor de n menor para um bom resultado, ou seja, quanto mais distante de x, maior precisa ser o n."
   ]
  }
 ],
 "metadata": {
  "kernelspec": {
   "display_name": "Python 3 (ipykernel)",
   "language": "python",
   "name": "python3"
  },
  "language_info": {
   "codemirror_mode": {
    "name": "ipython",
    "version": 3
   },
   "file_extension": ".py",
   "mimetype": "text/x-python",
   "name": "python",
   "nbconvert_exporter": "python",
   "pygments_lexer": "ipython3",
   "version": "3.9.5"
  }
 },
 "nbformat": 4,
 "nbformat_minor": 5
}
