{
 "cells": [
  {
   "cell_type": "markdown",
   "id": "7e8dfef4-3aa8-4d28-932c-391417e06c14",
   "metadata": {},
   "source": [
    "### 1) Calcule as integrais a seguir pela regra dos trapézios e 1/3 de Simpson, usando quatro e seis divisões de $[a, b]$. Obtenha um limitante superior para o erro cometido e compare com o valor exato, quando possível."
   ]
  },
  {
   "cell_type": "markdown",
   "id": "ee351b00-7e9a-4941-b59d-da49298a0553",
   "metadata": {},
   "source": [
    "#### (a) $\\int_1^2 e^x \\, dx$"
   ]
  },
  {
   "cell_type": "markdown",
   "id": "519a48f1-54f8-4598-8b77-fcb6ecbc4310",
   "metadata": {},
   "source": [
    "$$\n",
    "\\int_1^2 e^x \\, dx = \\frac{b-a}{2n} \\left( f(a) + f(b) + 2 \\sum_{i=1}^{n-1} f(x_i) \\right) \\\\\n",
    "\\int_1^2 e^x \\, dx = \\frac{2-1}{2(4)} \\left( f(1) + f(2) + 2 \\sum_{i=1}^{4-1} f(x_i) \\right) \\\\\n",
    "\\int_1^2 e^x \\, dx = \\frac{1}{8} \\left( e + e^2 + 2 \\sum_{i=1}^{3} f(x_i) \\right)\n",
    "$$"
   ]
  },
  {
   "cell_type": "code",
   "execution_count": 1,
   "id": "3dfa1a73-4824-471f-abec-29723e5d1139",
   "metadata": {},
   "outputs": [],
   "source": [
    "from numpy import linspace\n",
    "def regra_trapezio(f, a, b, intervalos):\n",
    "    soma = f(a) + f(b) # inicializa a soma com o valor de f(a) + f(b)\n",
    "    \n",
    "    for x in linspace(a, b, intervalos+1)[1:-1]: # divide [a, b] em intervalos\n",
    "        soma += 2 * f(x)\n",
    "    \n",
    "    delta_x = (b-a)/intervalos\n",
    "    \n",
    "    return (delta_x/2) * soma"
   ]
  },
  {
   "cell_type": "code",
   "execution_count": 2,
   "id": "7725b022-3d11-4554-8111-bccb32bb12e7",
   "metadata": {},
   "outputs": [],
   "source": [
    "from numpy import linspace\n",
    "def simpson_terco(f, a, b, intervalos):\n",
    "    delta_x = (b-a)/intervalos # tamanho dos intervalos\n",
    "\n",
    "    soma = f(a) + f(b)\n",
    "    for i, x in enumerate(linspace(a, b, intervalos+1)[1:-1], start=1):\n",
    "        if i % 2 == 0:\n",
    "            soma += 2 * f(x)\n",
    "        else:\n",
    "            soma += 4 * f(x)\n",
    "\n",
    "    return (delta_x/3) * soma"
   ]
  },
  {
   "cell_type": "code",
   "execution_count": 3,
   "id": "37fc2681-c99f-4080-97c5-58cce067f736",
   "metadata": {},
   "outputs": [
    {
     "name": "stdout",
     "output_type": "stream",
     "text": [
      "Trapézio com 4 intervalos:        4.695075916875121\n",
      "Trapézio com 6 intervalos:        4.6815812457126675\n",
      "1/3 de Simpson com 4 intervalos:  4.670874883494676\n",
      "1/3 de Simpson com 6 intervalos:  4.670794226633774\n"
     ]
    }
   ],
   "source": [
    "from math import exp\n",
    "print(f'Trapézio com 4 intervalos:        {regra_trapezio(exp, 1, 2, 4)}')\n",
    "print(f'Trapézio com 6 intervalos:        {regra_trapezio(exp, 1, 2, 6)}')\n",
    "print(f'1/3 de Simpson com 4 intervalos:  {simpson_terco(exp, 1, 2, 4)}')\n",
    "print(f'1/3 de Simpson com 6 intervalos:  {simpson_terco(exp, 1, 2, 6)}')"
   ]
  },
  {
   "cell_type": "markdown",
   "id": "42a7253d-1ced-4e7f-a786-660e9fe1a3ad",
   "metadata": {},
   "source": [
    "Agora calculando o erro da Regra do Trapézio\n",
    "$$\n",
    "R_T(n) \\leq \\frac{M (b - a)^3}{12n^2}\n",
    "$$\n",
    "Onde $M = \\mathrm{max} |f''(x)|$ para $x \\in [a, b]$ e $n$ é o número de intervalos."
   ]
  },
  {
   "cell_type": "markdown",
   "id": "9fbe50c2-6b26-4437-947e-4b7b4167bebe",
   "metadata": {},
   "source": [
    "$$\n",
    "f''(x) = e^x\n",
    "$$"
   ]
  },
  {
   "cell_type": "markdown",
   "id": "a374c85f-772f-4515-aaa2-c6db713d042d",
   "metadata": {},
   "source": [
    "Caso 1: $a = 1$, $b = 2$ e $n = 4$\n",
    "\n",
    "$$\n",
    "M = e^2 \\\\\n",
    "R_T(4) \\leq \\frac{e^2 (2-1)^3}{12 \\cdot 4^2} \\\\\n",
    "R_T(4) \\leq \\frac{e^2}{192}\n",
    "$$"
   ]
  },
  {
   "cell_type": "code",
   "execution_count": 4,
   "id": "4742fbae-65bf-49c5-9111-951d55f48e7e",
   "metadata": {},
   "outputs": [
    {
     "data": {
      "text/plain": [
       "0.03848466718193047"
      ]
     },
     "execution_count": 4,
     "metadata": {},
     "output_type": "execute_result"
    }
   ],
   "source": [
    "exp(2) / 192"
   ]
  },
  {
   "cell_type": "markdown",
   "id": "7d7b77f8-99e6-4748-abd0-176ea8645a8c",
   "metadata": {},
   "source": [
    "$$\n",
    "R_T(4) \\leq 0.038485\n",
    "$$"
   ]
  },
  {
   "cell_type": "markdown",
   "id": "41248b56-d934-4d6f-813d-639fa2f1671e",
   "metadata": {},
   "source": [
    "Caso 2: $a = 1$, $b = 2$ e $n = 6$\n",
    "\n",
    "$$\n",
    "R_T(6) \\leq \\frac{e^2 (2-1)^3}{12 \\cdot 6^2} \\\\\n",
    "$$"
   ]
  },
  {
   "cell_type": "code",
   "execution_count": 5,
   "id": "0d94b9b0-c8e2-4913-8d06-0e9a8efb1db0",
   "metadata": {},
   "outputs": [
    {
     "data": {
      "text/plain": [
       "0.01710429652530243"
      ]
     },
     "execution_count": 5,
     "metadata": {},
     "output_type": "execute_result"
    }
   ],
   "source": [
    "exp(2) / (12 * 6**2)"
   ]
  },
  {
   "cell_type": "markdown",
   "id": "f31bd37a-4399-4f9d-b73d-7c9fdd4ae8bb",
   "metadata": {},
   "source": [
    "$$\n",
    "R_T(6) \\leq 0.017104\n",
    "$$"
   ]
  },
  {
   "cell_type": "markdown",
   "id": "e569a4f8-0a9d-4fe7-9332-ae89b4e351c5",
   "metadata": {},
   "source": [
    "O erro da Regra de Simpson é dado por\n",
    "$$\n",
    "R_S(n) = \\frac{M (b-a)^5}{180n^4}\n",
    "$$\n",
    "Onde $M = \\mathrm{max} |f^{(4)}(x)|$ para $x \\in [a, b]$ e $n$ é o número de intervalos."
   ]
  },
  {
   "cell_type": "markdown",
   "id": "8d3f88d7-6307-43b4-b172-66028a97aa0c",
   "metadata": {},
   "source": [
    "Caso 1: $a = 1$, $b = 2$ e $n = 4$\n",
    "\n",
    "$$\n",
    "M = e^2 \\\\\n",
    "R_S(4) \\leq \\frac{e^2 (2-1)^5}{180 \\cdot 4^4} \\\\\n",
    "$$"
   ]
  },
  {
   "cell_type": "code",
   "execution_count": 6,
   "id": "bc94f376-4bd5-42cd-aaa1-dba005f29eb7",
   "metadata": {},
   "outputs": [
    {
     "data": {
      "text/plain": [
       "0.0001603527799247103"
      ]
     },
     "execution_count": 6,
     "metadata": {},
     "output_type": "execute_result"
    }
   ],
   "source": [
    "exp(2) / (180 * 4**4)"
   ]
  },
  {
   "cell_type": "markdown",
   "id": "54628b68-37d9-4ef3-925f-19ecc2a100d3",
   "metadata": {},
   "source": [
    "$$\n",
    "R_S(4) \\leq 0.000160\n",
    "$$"
   ]
  },
  {
   "cell_type": "markdown",
   "id": "4975b4f7-ccf8-4b9f-9993-260db2be7d76",
   "metadata": {},
   "source": [
    "Caso 2: $a = 1$, $b = 2$ e $n = 6$\n",
    "\n",
    "$$\n",
    "R_S(6) \\leq \\frac{e^2 (2-1)^5}{180 \\cdot 6^4} \\\\\n",
    "$$"
   ]
  },
  {
   "cell_type": "code",
   "execution_count": 7,
   "id": "d57b63fd-0cef-4d58-ae85-1150a38fd0b9",
   "metadata": {},
   "outputs": [
    {
     "data": {
      "text/plain": [
       "3.16746231950045e-05"
      ]
     },
     "execution_count": 7,
     "metadata": {},
     "output_type": "execute_result"
    }
   ],
   "source": [
    "exp(2) / (180 * 6**4)"
   ]
  },
  {
   "cell_type": "markdown",
   "id": "1b54a9af-6428-4b98-b720-fa98499cdd06",
   "metadata": {},
   "source": [
    "$$\n",
    "R_S(6) \\leq 3.16 \\cdot 10^{-5}\n",
    "$$"
   ]
  },
  {
   "cell_type": "markdown",
   "id": "fdbc4757-bb7c-4590-b5f9-a59a1ab90a67",
   "metadata": {},
   "source": [
    "#### (b) $\\int_1^4 \\sqrt{x} \\, dx$"
   ]
  },
  {
   "cell_type": "code",
   "execution_count": 8,
   "id": "c17fd0c1-b4ae-4b38-8256-2698e2f878cf",
   "metadata": {},
   "outputs": [
    {
     "name": "stdout",
     "output_type": "stream",
     "text": [
      "Trapézio com 4 intervalos:        4.65509259251136\n",
      "Trapézio com 6 intervalos:        4.661488382402361\n",
      "1/3 de Simpson com 4 intervalos:  4.666220708306385\n",
      "1/3 de Simpson com 6 intervalos:  4.6665630532224895\n"
     ]
    }
   ],
   "source": [
    "from math import sqrt\n",
    "print(f'Trapézio com 4 intervalos:        {regra_trapezio(sqrt, 1, 4, 4)}')\n",
    "print(f'Trapézio com 6 intervalos:        {regra_trapezio(sqrt, 1, 4, 6)}')\n",
    "print(f'1/3 de Simpson com 4 intervalos:  {simpson_terco(sqrt, 1, 4, 4)}')\n",
    "print(f'1/3 de Simpson com 6 intervalos:  {simpson_terco(sqrt, 1, 4, 6)}')"
   ]
  },
  {
   "cell_type": "code",
   "execution_count": 9,
   "id": "3fe34237-865b-4502-85a3-10d1c7beb174",
   "metadata": {},
   "outputs": [],
   "source": [
    "def erro_trapezio(a, b, M, n):\n",
    "    return (M * (b-a)**3) / (12 * n**2)"
   ]
  },
  {
   "cell_type": "code",
   "execution_count": 10,
   "id": "faf2eb92-74ea-4344-ba15-c75b878b7651",
   "metadata": {},
   "outputs": [],
   "source": [
    "def erro_simpson(a, b, M, n):\n",
    "    return (M * (b-a)**5) / (180 * n**4)"
   ]
  },
  {
   "cell_type": "markdown",
   "id": "bf115be0-fd44-4a59-a496-f993b16f0a21",
   "metadata": {},
   "source": [
    "Encontrando os erros, começando com os Trapézios:"
   ]
  },
  {
   "cell_type": "markdown",
   "id": "fbb01e7b-780e-4749-ae18-b1fb02a70466",
   "metadata": {},
   "source": [
    "$$\n",
    "M = \\mathrm{max} |f''(x)|, x \\in [1, 4] \\\\\n",
    "M = \\mathrm{max} \\left| \\frac{-1}{4x^{3/2}} \\right|, x \\in [1, 4] \\\\\n",
    "$$"
   ]
  },
  {
   "cell_type": "markdown",
   "id": "c3e322be-4518-40e1-9bb6-153564d43d72",
   "metadata": {},
   "source": [
    "O ponto que maximiza a função é $x = 1$."
   ]
  },
  {
   "cell_type": "markdown",
   "id": "f96c73f8-bc4f-40ca-8a7f-2b9924f70aa1",
   "metadata": {},
   "source": [
    "$$\n",
    "M = \\frac{1}{4}\n",
    "$$"
   ]
  },
  {
   "cell_type": "markdown",
   "id": "a1892795-0f1c-4c1b-903c-5ae7c145fc3b",
   "metadata": {},
   "source": [
    "Calculando os erros"
   ]
  },
  {
   "cell_type": "code",
   "execution_count": 11,
   "id": "dd86c5d1-d095-480a-94d1-eb484c39b239",
   "metadata": {},
   "outputs": [
    {
     "name": "stdout",
     "output_type": "stream",
     "text": [
      "0.03515625\n",
      "0.015625\n"
     ]
    }
   ],
   "source": [
    "print(erro_trapezio(1, 4, 1/4, 4))\n",
    "print(erro_trapezio(1, 4, 1/4, 6))"
   ]
  },
  {
   "cell_type": "markdown",
   "id": "3586c630-7189-4eac-a76a-c9c1c64173ea",
   "metadata": {},
   "source": [
    "Então\n",
    "$$\n",
    "R_T(4) \\leq 0.035156 \\\\\n",
    "R_T(6) \\leq 0.015625\n",
    "$$"
   ]
  },
  {
   "cell_type": "markdown",
   "id": "0349900f-ee27-40ee-98e6-d2cadb9834ec",
   "metadata": {},
   "source": [
    "Agora os erros de Simpson"
   ]
  },
  {
   "cell_type": "markdown",
   "id": "aa9f9bc5-8f5a-43ce-9b5f-0402183c884e",
   "metadata": {},
   "source": [
    "$$\n",
    "M = \\mathrm{max} |f^{(4)}(x)|, x \\in [1, 4] \\\\\n",
    "M = \\mathrm{max} \\left| \\frac{-15}{16 x^{7/2}} \\right|, x \\in [1, 4]\n",
    "$$"
   ]
  },
  {
   "cell_type": "markdown",
   "id": "2ecdcb03-baa4-43bc-9a29-a3c3f61a9767",
   "metadata": {},
   "source": [
    "Novamente, $x = 1$ maximiza a função."
   ]
  },
  {
   "cell_type": "markdown",
   "id": "64b5c43d-6b70-42fd-9b4d-d9ec21271001",
   "metadata": {},
   "source": [
    "$$\n",
    "M = \\frac{15}{16}\n",
    "$$"
   ]
  },
  {
   "cell_type": "markdown",
   "id": "844f2f5d-538e-47db-af48-279417d87deb",
   "metadata": {},
   "source": [
    "Calculando os erros"
   ]
  },
  {
   "cell_type": "code",
   "execution_count": 12,
   "id": "49e3458d-0424-481a-a30a-22acf8e60f43",
   "metadata": {},
   "outputs": [
    {
     "name": "stdout",
     "output_type": "stream",
     "text": [
      "0.00494384765625\n",
      "0.0009765625\n"
     ]
    }
   ],
   "source": [
    "print(erro_simpson(1, 4, 15/16, 4))\n",
    "print(erro_simpson(1, 4, 15/16, 6))"
   ]
  },
  {
   "cell_type": "markdown",
   "id": "5317129c-d2b7-4cae-b1e5-30c2d80ebbd4",
   "metadata": {},
   "source": [
    "Portanto\n",
    "$$\n",
    "R_S(4) \\leq 0.004944 \\\\\n",
    "R_S(6) \\leq 0.000977\n",
    "$$"
   ]
  },
  {
   "cell_type": "markdown",
   "id": "78708e2f-0da2-4f40-a492-ac37a9e8baa0",
   "metadata": {},
   "source": [
    "#### (c) $\\int_2^{14} \\frac{1}{\\sqrt{x}} \\, dx$"
   ]
  },
  {
   "cell_type": "code",
   "execution_count": 13,
   "id": "3fef16a3-df27-4525-9c7c-66a9f9b3e45f",
   "metadata": {},
   "outputs": [
    {
     "name": "stdout",
     "output_type": "stream",
     "text": [
      "Trapézio com 4 intervalos:        4.768387026661444\n",
      "Trapézio com 6 intervalos:        4.707777186436547\n",
      "1/3 de Simpson com 4 intervalos:  4.676374564596406\n",
      "1/3 de Simpson com 4 intervalos:  4.66148949120848\n"
     ]
    }
   ],
   "source": [
    "from math import sqrt\n",
    "f = lambda x: 1/sqrt(x)\n",
    "print(f'Trapézio com 4 intervalos:        {regra_trapezio(f, 2, 14, 4)}')\n",
    "print(f'Trapézio com 6 intervalos:        {regra_trapezio(f, 2, 14, 6)}')\n",
    "print(f'1/3 de Simpson com 4 intervalos:  {simpson_terco(f, 2, 14, 4)}')\n",
    "print(f'1/3 de Simpson com 4 intervalos:  {simpson_terco(f, 2, 14, 6)}')"
   ]
  },
  {
   "cell_type": "markdown",
   "id": "efcdc961-9ed1-4ae9-ba7e-f9860806c17f",
   "metadata": {},
   "source": [
    "Encontrando os erros, começando pelos Trapézios"
   ]
  },
  {
   "cell_type": "markdown",
   "id": "e9b191c8-4103-4e55-a748-0f3b92b793c9",
   "metadata": {},
   "source": [
    "$$\n",
    "M = \\mathrm{max} |f''(x)|, x \\in [2, 14] \\\\\n",
    "M = \\mathrm{max} \\left| \\frac{3}{4 x^{5/2}} \\right|, x \\in [2, 14] \\\\\n",
    "$$"
   ]
  },
  {
   "cell_type": "markdown",
   "id": "628b68b2-be9a-452a-92b1-43026c70b32b",
   "metadata": {},
   "source": [
    "Essa função é maximizada em $x = 2$."
   ]
  },
  {
   "cell_type": "markdown",
   "id": "14e70539-d016-47b3-b4e4-6e1acff3896f",
   "metadata": {},
   "source": [
    "$$\n",
    "M = \\frac{3}{16 \\sqrt{2}}\n",
    "$$"
   ]
  },
  {
   "cell_type": "markdown",
   "id": "4eee4db5-d775-419c-bc14-7123c83cd378",
   "metadata": {},
   "source": [
    "Calculando os erros"
   ]
  },
  {
   "cell_type": "code",
   "execution_count": 14,
   "id": "ff78a8d5-60cc-43d7-aef8-b2e0d56e2036",
   "metadata": {},
   "outputs": [
    {
     "name": "stdout",
     "output_type": "stream",
     "text": [
      "1.1932426932522988\n",
      "0.5303300858899106\n"
     ]
    }
   ],
   "source": [
    "print(erro_trapezio(2, 14, 3/(16*sqrt(2)), 4))\n",
    "print(erro_trapezio(2, 14, 3/(16*sqrt(2)), 6))"
   ]
  },
  {
   "cell_type": "markdown",
   "id": "c335a1c8-e46b-420c-b127-bd4f98d2683e",
   "metadata": {},
   "source": [
    "Portanto\n",
    "$$\n",
    "R_T(4) \\leq 1.193243 \\\\\n",
    "R_T(6) \\leq 0.530330\n",
    "$$"
   ]
  },
  {
   "cell_type": "markdown",
   "id": "d9fedbcd-5c10-4b50-97d4-7289bb6192ae",
   "metadata": {},
   "source": [
    "Agora os erros de Simpson"
   ]
  },
  {
   "cell_type": "markdown",
   "id": "918d2b37-63ba-43d6-8384-673661f7ced5",
   "metadata": {},
   "source": [
    "$$\n",
    "M = \\mathrm{max} |f^{(4)}(x)|, x \\in [1, 4] \\\\\n",
    "M = \\mathrm{max} \\left| \\frac{105}{16 x^{9/2}} \\right|, x \\in [1, 4]\n",
    "$$"
   ]
  },
  {
   "cell_type": "markdown",
   "id": "159e7354-acfd-423f-8eba-7a020f9577bb",
   "metadata": {},
   "source": [
    "Novamente, o máximo ocorre em $x = 2$."
   ]
  },
  {
   "cell_type": "markdown",
   "id": "caa69653-4fd8-4b11-9c3a-49ff6cf94aea",
   "metadata": {},
   "source": [
    "$$\n",
    "M = \\frac{105}{256 \\sqrt{2}}\n",
    "$$"
   ]
  },
  {
   "cell_type": "markdown",
   "id": "4ba35c8a-4261-4055-a12a-ea2c8c6102d2",
   "metadata": {},
   "source": [
    "Calculando os erros"
   ]
  },
  {
   "cell_type": "code",
   "execution_count": 15,
   "id": "4a8ed067-1898-49c7-a8c0-7810c6a8973f",
   "metadata": {},
   "outputs": [
    {
     "name": "stdout",
     "output_type": "stream",
     "text": [
      "0.0015294248387633222\n",
      "0.00030210861012608837\n"
     ]
    }
   ],
   "source": [
    "print(erro_simpson(1, 4, 105/(256*sqrt(2)), 4))\n",
    "print(erro_simpson(1, 4, 105/(256*sqrt(2)), 6))"
   ]
  },
  {
   "cell_type": "markdown",
   "id": "59f605d2-5ed4-467e-a769-13cfaeb0f755",
   "metadata": {},
   "source": [
    "Portanto\n",
    "$$\n",
    "R_S(4) \\leq 0.001529 \\\\\n",
    "R_S(6) \\leq 0.000302\n",
    "$$"
   ]
  },
  {
   "cell_type": "markdown",
   "id": "aaff26f8-7656-4b18-a5e9-35b013093be9",
   "metadata": {},
   "source": [
    "### 4) Dada a tabela:"
   ]
  },
  {
   "cell_type": "code",
   "execution_count": 16,
   "id": "236d776c-8625-439c-9a61-7afbd83d7ddd",
   "metadata": {},
   "outputs": [],
   "source": [
    "x  = [0.0,    0.2,    0.4,    0.6,    0.8,    1.0]\n",
    "fx = [1.0, 1.2408, 1.5735, 2.0333, 2.6965, 3.7183]"
   ]
  },
  {
   "cell_type": "markdown",
   "id": "f9ab533b-a921-46a6-b169-7cffd4c271f8",
   "metadata": {},
   "source": [
    "e sabendo que a regra 1/3 de Simpson é, em geral, mais precisa que a dos trapézios, qual seria o modo mais adequado de calcular $I = \\int_0^1 f(x) \\, dx$, usando a tabela acima? Aplique este processo e determine esta integral."
   ]
  },
  {
   "cell_type": "markdown",
   "id": "09484cae-5618-4c51-b1fe-ed2181bafcc7",
   "metadata": {},
   "source": [
    "Como o número de intervalos é ímpar, não se pode usar a regra de Simpson diretamente. Para contornar isso, pode-se usar a regra do trapézio no primeiro intervalo e somar com a regra de Simpson nos intervalos restantes."
   ]
  },
  {
   "cell_type": "markdown",
   "id": "cba810b7-a458-4858-a054-291cb7d1f1d8",
   "metadata": {},
   "source": [
    "Começando pela regra do trapézio\n",
    "$$\n",
    "\\frac{h}{2} (f(x_0) + f(x_1)) \\\\\n",
    "\\frac{0.2}{2} (1 + 1.2408) = 0.22408\n",
    "$$"
   ]
  },
  {
   "cell_type": "markdown",
   "id": "f4962139-8e8d-4ef5-9a89-c8b987ff5a2c",
   "metadata": {},
   "source": [
    "E o restante será"
   ]
  },
  {
   "cell_type": "code",
   "execution_count": 17,
   "id": "5cf5b47b-9fde-4ede-8752-992d8f658248",
   "metadata": {},
   "outputs": [],
   "source": [
    "def simpson_terco_discreto(x, fx):\n",
    "    delta_x = x[1] - x[0] # descobre o tamanho do intervalo\n",
    "    \n",
    "    soma = fx[0] + fx[-1]\n",
    "    for i, y in enumerate(fx[1:-1], start=1):\n",
    "        if i % 2 == 0:\n",
    "            soma += 2 * y\n",
    "        else:\n",
    "            soma += 4 * y\n",
    "    \n",
    "    return (delta_x/3) * soma"
   ]
  },
  {
   "cell_type": "code",
   "execution_count": 18,
   "id": "8714cdb1-3fca-4051-a6b8-669f25ddaebf",
   "metadata": {},
   "outputs": [
    {
     "data": {
      "text/plain": [
       "1.7403799999999998"
      ]
     },
     "execution_count": 18,
     "metadata": {},
     "output_type": "execute_result"
    }
   ],
   "source": [
    "simpson_terco_discreto(x[1:], fx[1:])"
   ]
  },
  {
   "cell_type": "markdown",
   "id": "3bc4dc52-5d1a-47f6-8e2f-7539d5ba0ecf",
   "metadata": {},
   "source": [
    "Então\n",
    "$$\n",
    "I = 1.74038 + 0.22408 \\\\\n",
    "I = 1.96446\n",
    "$$"
   ]
  }
 ],
 "metadata": {
  "kernelspec": {
   "display_name": "Python 3 (ipykernel)",
   "language": "python",
   "name": "python3"
  },
  "language_info": {
   "codemirror_mode": {
    "name": "ipython",
    "version": 3
   },
   "file_extension": ".py",
   "mimetype": "text/x-python",
   "name": "python",
   "nbconvert_exporter": "python",
   "pygments_lexer": "ipython3",
   "version": "3.9.5"
  }
 },
 "nbformat": 4,
 "nbformat_minor": 5
}
