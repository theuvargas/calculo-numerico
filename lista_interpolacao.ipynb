{
 "cells": [
  {
   "cell_type": "markdown",
   "id": "e403a03c-c0aa-4460-aaf8-96333e50ed98",
   "metadata": {},
   "source": [
    "### QUESTÃO 1: Dados os pontos $(0, 0), (0.2, 0.60667), (0.3, 0.92252), (0.5, 1.60443), (0.6, 1.98054), (0.8, 2.82936), (1.0, 3.84147), (1.4, 6.52945)$ e $(1.5, 7.37249)$, faça o seguinte:"
   ]
  },
  {
   "cell_type": "markdown",
   "id": "e714b9f0-8bf3-4240-a102-ddc31864c795",
   "metadata": {},
   "source": [
    "#### a) Calcule $f(0.32)$ por interpolação linear e estime o erro.\n",
    "\n",
    "O intervalo deve ser $[0.3, 0.5]$\n",
    "$$\n",
    "y = ax + b \\\\\n",
    "0.92252 = 0.3a + b \\\\\n",
    "1.60443 = 0.5a + b\n",
    "$$"
   ]
  },
  {
   "cell_type": "code",
   "execution_count": 1,
   "id": "c8b090a1-3eba-4c05-abec-7a5ac9c9d7f5",
   "metadata": {},
   "outputs": [
    {
     "data": {
      "text/plain": [
       "3.40955"
      ]
     },
     "execution_count": 1,
     "metadata": {},
     "output_type": "execute_result"
    }
   ],
   "source": [
    "(1.60443 - 0.92252) / 0.2"
   ]
  },
  {
   "cell_type": "markdown",
   "id": "a5c9f43b-819d-4e98-8051-eedf19b2855b",
   "metadata": {},
   "source": [
    "Então $a = 3.40955$"
   ]
  },
  {
   "cell_type": "code",
   "execution_count": 2,
   "id": "7e07c6d7-b198-49b1-a412-ca18288c83fe",
   "metadata": {},
   "outputs": [
    {
     "data": {
      "text/plain": [
       "-0.1003449999999999"
      ]
     },
     "execution_count": 2,
     "metadata": {},
     "output_type": "execute_result"
    }
   ],
   "source": [
    "1.60443 - 0.5 * 3.40955"
   ]
  },
  {
   "cell_type": "markdown",
   "id": "99660490-01c2-4e68-b0c7-5835a4df6b9e",
   "metadata": {},
   "source": [
    "E $b = -0.100345$\n",
    "\n",
    "Então a função de interpolação linear é:\n",
    "$$\n",
    "p(x) = 3.40955x - 0.100345\n",
    "$$"
   ]
  },
  {
   "cell_type": "code",
   "execution_count": 3,
   "id": "68ebb34d-8e9a-442e-827f-0a92a71c1e29",
   "metadata": {},
   "outputs": [
    {
     "data": {
      "text/plain": [
       "0.990711"
      ]
     },
     "execution_count": 3,
     "metadata": {},
     "output_type": "execute_result"
    }
   ],
   "source": [
    "def p(x): # função de interpolação acima\n",
    "    return 3.40955 * x - 0.100345\n",
    "\n",
    "p(0.32)"
   ]
  },
  {
   "cell_type": "markdown",
   "id": "8c854151-e9fb-48e9-8458-9442319634fb",
   "metadata": {},
   "source": [
    "$$\n",
    "p(0.32) = 0.990711\n",
    "$$"
   ]
  },
  {
   "cell_type": "markdown",
   "id": "8acd2397-83ca-474f-90ee-738f70e8c90c",
   "metadata": {},
   "source": [
    "#### b) Calcule $f(1.46)$ por interpolação linear e estime o erro."
   ]
  },
  {
   "cell_type": "markdown",
   "id": "9eca7de6-2b3d-4b32-bb29-5e964429fa2d",
   "metadata": {
    "tags": []
   },
   "source": [
    "Usando o intervalo $[1.4, 1.5]$ e agora resolvendo pela fórmula:"
   ]
  },
  {
   "cell_type": "code",
   "execution_count": 4,
   "id": "9f0adc2a-1f10-492f-a679-824a69007780",
   "metadata": {},
   "outputs": [],
   "source": [
    "def interpolacao_linear(a, fa, b, fb, x):\n",
    "    \"\"\"\n",
    "    a e b são os intervalos, fa e fb são os valores da função em a e b,\n",
    "    x é o ponto em que se quer descobrir o valor da função\n",
    "    \"\"\"\n",
    "    \n",
    "    return fa + ((fb-fa)/(b-a)) * (x-a)"
   ]
  },
  {
   "cell_type": "code",
   "execution_count": 5,
   "id": "0599db96-854c-46ba-ac07-24ad6e28f293",
   "metadata": {},
   "outputs": [
    {
     "data": {
      "text/plain": [
       "7.035274"
      ]
     },
     "execution_count": 5,
     "metadata": {},
     "output_type": "execute_result"
    }
   ],
   "source": [
    "interpolacao_linear(1.4, 6.52945, 1.5, 7.37249, 1.46)"
   ]
  },
  {
   "cell_type": "markdown",
   "id": "e4fd9d7f-46bc-4dea-9671-f422c8da7f17",
   "metadata": {},
   "source": [
    "$$\n",
    "p(1.46) = 7.035274\n",
    "$$"
   ]
  },
  {
   "cell_type": "markdown",
   "id": "ff97c2c7-2259-43b6-a6e4-fb5d99c80c43",
   "metadata": {},
   "source": [
    "#### c) Encontre um valor aproximado para $f(0.7)$ usando um polinômio interpolador de grau 2 adequado e estime o erro."
   ]
  },
  {
   "cell_type": "markdown",
   "id": "ec0dc518-73cc-44c4-ada5-b33ceefc7432",
   "metadata": {},
   "source": [
    "Usando os pontos $(0.5, 1.60443), (0.6, 1.98054), (0.8, 2.82936)$"
   ]
  },
  {
   "cell_type": "markdown",
   "id": "63d74fd5-0517-4cf9-b7d2-45a18e7c01a0",
   "metadata": {},
   "source": [
    "Pelo polinômio de Lagrange:\n",
    "$$\n",
    "p(x) = 1.60443 \\cdot \\frac{x-0.6}{0.5-0.6} \\cdot \\frac{x-0.8}{0.5-0.8} + 1.98054 \\cdot \\frac{x-0.5}{0.6-0.5} \\cdot \\frac{x-0.8}{0.6-0.8} + 2.82936 \\cdot \\frac{x-0.5}{0.8-0.5} \\cdot \\frac{x-0.6}{0.8-0.6} \\\\\n",
    "p(x) = 1.60443 \\cdot \\frac{x-0.6}{-0.1} \\cdot \\frac{x-0.8}{-0.3} + 1.98054 \\cdot \\frac{x-0.5}{0.1} \\cdot \\frac{x-0.8}{-0.2} + 2.82936 \\cdot \\frac{x-0.5}{0.3} \\cdot \\frac{x-0.6}{0.2} \\\\\n",
    "p(x) = 1.60443 \\cdot \\frac{x-0.6}{0.1} \\cdot \\frac{x-0.8}{0.3} - 1.98054 \\cdot \\frac{x-0.5}{0.1} \\cdot \\frac{x-0.8}{0.2} + 2.82936 \\cdot \\frac{x-0.5}{0.3} \\cdot \\frac{x-0.6}{0.2} \\\\\n",
    "p(x) = 53.481 x^2 - 74.8734 x + 25.6709 - 99.027 x^2 + 128.735 x - 39.6108 + 47.156 x^2 - 51.8716 x + 14.1468 \\\\\n",
    "p(x) = 1.61 x^2 + 1.99 x + 0.2069\n",
    "$$"
   ]
  },
  {
   "cell_type": "code",
   "execution_count": 6,
   "id": "d5019017-b704-4f75-8d04-98f481719c5a",
   "metadata": {},
   "outputs": [
    {
     "data": {
      "text/plain": [
       "2.3888"
      ]
     },
     "execution_count": 6,
     "metadata": {},
     "output_type": "execute_result"
    }
   ],
   "source": [
    "(lambda x: 1.61*x**2 + 1.99*x + 0.2069)(0.7)"
   ]
  },
  {
   "cell_type": "markdown",
   "id": "40094ad1-0a3d-490b-be6d-eeca7633e361",
   "metadata": {},
   "source": [
    "$$\n",
    "p(0.7) = 2.3888\n",
    "$$"
   ]
  },
  {
   "cell_type": "markdown",
   "id": "5c0eaf6c-6b22-4c4a-b839-937f61dcda7d",
   "metadata": {},
   "source": [
    "#### d) Sabendo que $f(x) = x^3 + 2x + \\mathrm{sen}(x)$, encontre novas estimativas para os erros acima."
   ]
  },
  {
   "cell_type": "markdown",
   "id": "2f2cfd69-4ff7-409e-ad06-68520ad3e617",
   "metadata": {},
   "source": [
    "Os limites dos erros serão encontrados pelo resto de Lagrange:\n",
    "\n",
    "$$\n",
    "R(x) \\leq \\frac{M \\cdot (x_k-x_0)^{k+1}}{(k+1)!}\n",
    "$$\n",
    "\n",
    "Onde $M$ é o valor máximo de $|f^{(k+1)}(x)|$ no intervalo $x_0 \\leqslant x \\leqslant x_k$ e $k$ é o grau da interpolação."
   ]
  },
  {
   "cell_type": "markdown",
   "id": "6f83953e-1741-4425-b4df-5b95c29bf705",
   "metadata": {},
   "source": [
    "##### $f(0.32)$"
   ]
  },
  {
   "cell_type": "markdown",
   "id": "946b8562-56e4-4cdf-a811-0c512baf17c0",
   "metadata": {},
   "source": [
    "Pontos: $(0.3, 0.92252), (0.5, 1.60443)$"
   ]
  },
  {
   "cell_type": "markdown",
   "id": "2ff009ca-dde0-475d-8a46-73a756c08197",
   "metadata": {},
   "source": [
    "$$\n",
    "f^{(2)}(x) = 6x - \\mathrm{sen}(x) \\\\\n",
    "$$\n",
    "E o valor máximo no intervalo $[0.3, 0.5]$ será em $x = 0.5$\n",
    "$$\n",
    "M = 6(0.5) - \\mathrm{sen}(0.5) \\\\\n",
    "M = 2.52057\n",
    "$$"
   ]
  },
  {
   "cell_type": "markdown",
   "id": "775fd2a4-b98f-4184-b286-473063694474",
   "metadata": {},
   "source": [
    "Então\n",
    "$$\n",
    "R(x) \\leq \\frac{M \\cdot (x_k-x_0)^{k+1}}{(k+1)!} \\\\\n",
    "R(x) \\leq \\frac{2.52057 \\cdot (0.5-0.3)^{1+1}}{(1+1)!} \\\\\n",
    "R(x) \\leq \\frac{2.52057 \\cdot (0.2)^{2}}{2!} \\\\\n",
    "R(x) \\leq 0.0504114\n",
    "$$"
   ]
  },
  {
   "cell_type": "markdown",
   "id": "833cff23-7776-461c-b890-58993dc37aca",
   "metadata": {},
   "source": [
    "##### $f(1.46)$"
   ]
  },
  {
   "cell_type": "markdown",
   "id": "cf801f95-ec1c-4549-9ce8-65bab9532a43",
   "metadata": {},
   "source": [
    "Pontos: $(1.4, 6.52945), (1.5, 7.37249)$"
   ]
  },
  {
   "cell_type": "markdown",
   "id": "09b28bfa-6b2c-4f21-b5d3-c4bd615bd351",
   "metadata": {},
   "source": [
    "$$\n",
    "f^{(2)}(x) = 6x - \\mathrm{sen}(x) \\\\\n",
    "$$\n",
    "E o valor máximo no intervalo $[1.4, 1.5]$ será em $x = 1.5$\n",
    "$$\n",
    "M = 6(1.5) - \\mathrm{sen}(1.5) \\\\\n",
    "M = 8.00251\n",
    "$$"
   ]
  },
  {
   "cell_type": "markdown",
   "id": "90bebf00-2414-4f7e-963e-a2439faed7dc",
   "metadata": {},
   "source": [
    "Então\n",
    "$$\n",
    "R(x) \\leq \\frac{M \\cdot (x_k-x_0)^{k+1}}{(k+1)!} \\\\\n",
    "R(x) \\leq \\frac{8.00251 \\cdot (1.5-1.4)^{1+1}}{(1+1)!} \\\\\n",
    "R(x) \\leq \\frac{8.00251 \\cdot (0.1)^{2}}{2!} \\\\\n",
    "R(x) \\leq 0.04001255\n",
    "$$"
   ]
  },
  {
   "cell_type": "markdown",
   "id": "f0ca2bd9-c167-4e5b-bdd2-fc46f71bb538",
   "metadata": {},
   "source": [
    "##### $f(0.7)$"
   ]
  },
  {
   "cell_type": "markdown",
   "id": "47bdef2d-d456-47ab-b1d9-181143878272",
   "metadata": {},
   "source": [
    "Pontos: $(0.5, 1.60443), (0.6, 1.98054), (0.8, 2.82936)$"
   ]
  },
  {
   "cell_type": "markdown",
   "id": "3d81dae9-d198-4ec8-bc2e-a9080808c441",
   "metadata": {},
   "source": [
    "$$\n",
    "f^{(3)}(x) = 6 - \\cos(x) \\\\\n",
    "$$\n",
    "E o valor máximo no intervalo $[0.5, 0.8]$ será em $x = 0.8$\n",
    "$$\n",
    "M = 6 - \\cos(0.8) \\\\\n",
    "M = 5.30329\n",
    "$$"
   ]
  },
  {
   "cell_type": "markdown",
   "id": "bb719815-f2eb-4aa0-9701-4b6b9534ea1e",
   "metadata": {},
   "source": [
    "Então\n",
    "$$\n",
    "R(x) \\leq \\frac{M \\cdot (x_k-x_0)^{k+1}}{(k+1)!} \\\\\n",
    "R(x) \\leq \\frac{5.30329 \\cdot (0.8-0.5)^{3+1}}{(3+1)!} \\\\\n",
    "R(x) \\leq \\frac{5.30329 \\cdot (0.3)^{4}}{4!} \\\\\n",
    "R(x) \\leq 0.001789860375\n",
    "$$"
   ]
  },
  {
   "cell_type": "markdown",
   "id": "1571fa66-0c97-4f52-b262-b2b9d7c7a801",
   "metadata": {},
   "source": [
    "---"
   ]
  },
  {
   "cell_type": "markdown",
   "id": "7d3841fa-7190-47eb-95c0-f70730b8bc51",
   "metadata": {},
   "source": [
    "### QUESTÃO 3: A função $y = e^x$ é tabelada para $x \\in [0, 1]$, com $h = 0.01$. Encontre o erro máximo para uma interpolação linear."
   ]
  },
  {
   "cell_type": "markdown",
   "id": "f939e26d-6a38-4957-95e3-ccc9bec5698c",
   "metadata": {},
   "source": [
    "Pelo Teorema de Rolle, o erro de uma interpolação linear tem o seguinte limite\n",
    "$$\n",
    "E \\leq \\frac{M \\cdot (x_1 - x_0)^2}{8}\n",
    "$$\n",
    "Onde $M$ é o valor máximo de $|f^{(2)}(x)|$ no intervalo $x_0 \\leq x \\leq x_1$."
   ]
  },
  {
   "cell_type": "markdown",
   "id": "af9be53e-e0cb-4a2d-b3b7-785879096eab",
   "metadata": {},
   "source": [
    "Como qualquer derivada de $e^x$ é $e^x$, $M$ será máximo em $x = 1$"
   ]
  },
  {
   "cell_type": "markdown",
   "id": "cf6a7412-908c-4f32-9fb5-62b4d963df63",
   "metadata": {},
   "source": [
    "$$\n",
    "M = e\n",
    "$$"
   ]
  },
  {
   "cell_type": "markdown",
   "id": "aa4aae4c-c714-4f7e-bf10-da8eeb26b4ca",
   "metadata": {},
   "source": [
    "Então\n",
    "$$\n",
    "E \\leq \\frac{M \\cdot (x_1 - x_0)^2}{8} \\\\\n",
    "E \\leq \\frac{e \\cdot (1 - 0)^2}{8} \\\\\n",
    "E \\leq \\frac{e}{8} \\\\\n",
    "E \\leq 0.339785\n",
    "$$"
   ]
  }
 ],
 "metadata": {
  "kernelspec": {
   "display_name": "Python 3 (ipykernel)",
   "language": "python",
   "name": "python3"
  },
  "language_info": {
   "codemirror_mode": {
    "name": "ipython",
    "version": 3
   },
   "file_extension": ".py",
   "mimetype": "text/x-python",
   "name": "python",
   "nbconvert_exporter": "python",
   "pygments_lexer": "ipython3",
   "version": "3.9.5"
  }
 },
 "nbformat": 4,
 "nbformat_minor": 5
}
