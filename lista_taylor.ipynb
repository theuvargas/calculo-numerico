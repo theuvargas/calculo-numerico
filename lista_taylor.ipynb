{
 "cells": [
  {
   "cell_type": "markdown",
   "id": "d1cc14a8-5e1f-4e95-9fd3-519353c6a29f",
   "metadata": {},
   "source": [
    "### 1)\n",
    "\n",
    "##### a) Obtenha as aproximações linear e quadrática para $f(x) = \\cos(x)$, em torno de $x = \\pi/4$ usando formula de Taylor."
   ]
  },
  {
   "cell_type": "markdown",
   "id": "911b7ca3-626a-4a09-acf0-f303090f2d39",
   "metadata": {},
   "source": [
    "$$\n",
    "T(x) = \\sum_{n = 0}^{\\infty} \\left( \\frac{ f^{(n)} (\\pi/4) \\cdot (x - \\pi/4)^n }{ n! } \\right)\n",
    "$$"
   ]
  },
  {
   "cell_type": "markdown",
   "id": "7ec6c508-0880-4e67-bf18-d4a94d2ed197",
   "metadata": {},
   "source": [
    "Aproximação linear:\n",
    "$$\n",
    "T(x) = \\mathrm{cos}(\\pi/4) + \\mathrm{cos}'(\\pi/4) \\cdot (x - \\pi/4)^1 \\\\\n",
    "T(x) = \\mathrm{cos}(\\pi/4) - \\mathrm{sen}(\\pi/4) \\cdot (x - \\pi/4) \\\\\n",
    "T(x) = \\frac{1}{\\sqrt{2}} - \\frac{1}{\\sqrt{2}} \\cdot (x - \\pi/4) \\\\\n",
    "T_1(x) = \\frac{1}{\\sqrt{2}} \\left( 1 - (x - \\pi/4) \\right)\n",
    "$$"
   ]
  },
  {
   "cell_type": "markdown",
   "id": "c19fbe02-e0de-4055-87f1-a379c28e4969",
   "metadata": {},
   "source": [
    "Aproximação quadrática:\n",
    "$$\n",
    "T(x) = \\mathrm{cos}(\\pi/4) + \\mathrm{cos}'(\\pi/4) \\cdot (x - \\pi/4)^1 + \\frac{ \\mathrm{cos}''(\\pi/4) \\cdot (x - \\pi/4)^2 }{ 2 } \\\\\n",
    "T(x) = \\mathrm{cos}(\\pi/4) - \\mathrm{sen}(\\pi/4) \\cdot (x - \\pi/4)^1 - \\frac{ \\mathrm{cos}(\\pi/4) \\cdot (x - \\pi/4)^2 }{ 2 } \\\\\n",
    "T(x) = \\frac{1}{\\sqrt{2}} - \\frac{(x - \\pi/4)}{\\sqrt{2}} - \\frac{ (x - \\pi/4)^2 }{ 2 \\sqrt{2} } \\\\\n",
    "T_2(x) = \\frac{1}{\\sqrt{2}} \\left( 1 - (x - \\pi/4) - \\frac{(x - \\pi/4)^2}{2} \\right)\n",
    "$$"
   ]
  },
  {
   "cell_type": "markdown",
   "id": "90721ecc-0c61-4ebd-a669-6f38ce64ac4c",
   "metadata": {},
   "source": [
    "### 2) Cálculo de ln(x + 1)"
   ]
  },
  {
   "cell_type": "markdown",
   "id": "5a99cfaa-642d-49fd-885f-bc68be03166f",
   "metadata": {},
   "source": [
    "##### a) Obtenha a fórmula de Taylor ao redor de 0 para f(x) = ln(x + 1).\n",
    "\n",
    "$$\n",
    "T_k(x) = \\sum_{n = 0}^{k} \\left( \\frac{ f^{(n)} (0) \\cdot x^n }{ n! } \\right) \\\\\n",
    "T_{\\infty}(x) = \\frac{0}{0!} + \\frac{x}{1!} - \\frac{x^2}{2!} + \\frac{x^3}{3!} - \\, \\dots \\\\\n",
    "T_k(x) = \\sum_{n = 0}^{k} \\left( \\frac{-(-1)^n \\cdot x^n }{ n } \\right) \\\\\n",
    "T_k(x) = \\sum_{n = 0}^{k} \\left( \\frac{-(-1)^n \\cdot x^n }{ n } \\right) + \\frac{f^{(k+1)}(\\xi) \\cdot x^{k+1}}{(k+1)!} \\\\\n",
    "T_k(x) = \\sum_{n = 0}^{k} \\left( \\frac{-(-1)^n \\cdot x^n }{ n } \\right) + \\frac{(-1)^k \\cdot x^{k+1}}{(k+1)(1+\\xi)^{k+1}} \\\\\n",
    "$$"
   ]
  },
  {
   "cell_type": "markdown",
   "id": "6d541682-e3c0-42db-89cb-01809c03b6f0",
   "metadata": {},
   "source": [
    "##### b) Obtenha o polinômio de Taylor de terceiro grau $T_3(x)$ ao redor de 0 da função f(x) do item anterior, o erro e um limitante superior do erro para o ponto x = 0.5.\n",
    "\n",
    "Calculando o polinômio de Taylor de terceiro grau:\n",
    "$$\n",
    "T_3(x) = x - \\frac{x^2}{2} + \\frac{x^3}{3} \\\\\n",
    "$$\n",
    "No ponto x = 0.5:\n",
    "$$\n",
    "T_3(0.5) = 0.5 - \\frac{1}{8} + \\frac{1}{24} \\\\\n",
    "T_3(0.5) = 0.41666... \\\\\n",
    "$$\n",
    "Agora calculando o limite superior de erro:\n",
    "$$\n",
    "R_n(x) \\leq \\frac{M \\cdot |x-a|^{n+1}}{(n+1)!}\n",
    "$$\n",
    "O $M$ é valor o máximo de $|f^{(4)}(x)|$ no intervalo $0 \\leqslant x \\leqslant 0.5$\n",
    "\n",
    "$$\n",
    "f^{(4)}(x) = -\\frac{6}{(x+1)^4}\n",
    "$$\n",
    "Então o máximo será o menor valor (pois $x$ está no denominador) , que é 0:\n",
    "$$\n",
    "f^{(4)}(0) = -\\frac{6}{(0+1)^4} \\\\\n",
    "f^{(4)}(0) = -6\n",
    "$$\n",
    "\n",
    "Então $M = 6$\n",
    "\n",
    "$$\n",
    "R_n(x) \\leq \\frac{M \\cdot |x-a|^{n+1}}{(n+1)!} \\\\\n",
    "R_3(0.5) \\leq \\frac{6 \\cdot 0.5^{4}}{4!} \\\\\n",
    "R_3(0.5) \\leq 0.015625\n",
    "$$"
   ]
  },
  {
   "cell_type": "markdown",
   "id": "03f7d6cc-b30b-47e6-b253-e9ff1fffa2b2",
   "metadata": {},
   "source": [
    "### 3. Numa calculadora aproxima-se o valor de $\\exp(x)$, para todo $x \\in [−1, 1]$, pelo valor do polinômio de Taylor de grau 3, obtido através da expansão de $\\exp(x)$ em série de Taylor em torno do ponto $x_0 = 0$."
   ]
  },
  {
   "cell_type": "markdown",
   "id": "4743f3f2-96ff-4dd7-8bca-cb8589d3403d",
   "metadata": {},
   "source": [
    "##### a) Qual a aproximação de exp(0.5) fornecida pela calculadora?"
   ]
  },
  {
   "cell_type": "markdown",
   "id": "a5b0f4fd-66a6-42f8-bdc8-052a0d54537f",
   "metadata": {},
   "source": [
    "$$\n",
    "T(x) = \\sum_{n=0}^{3} \\left( \\frac{f^{(n)}(x_0) \\cdot (x-x_0)^n}{n!} \\right) \\\\\n",
    "T(x) = \\sum_{n=0}^{3} \\left( \\frac{\\exp^{(n)}(x_0) \\cdot (x-x_0)^n}{n!} \\right) \\\\\n",
    "T(x) = \\sum_{n=0}^{3} \\left( \\frac{e^{x_0} \\cdot (x-x_0)^n}{n!} \\right) \\\\\n",
    "$$\n",
    "\n",
    "Substituindo no ponto $x_0 = 0$\n",
    "$$\n",
    "T(x) = \\sum_{n=0}^{3} \\left( \\frac{x^n}{n!} \\right) \\\\\n",
    "T(x) = 1 + x + \\frac{x^2}{2} + \\frac{x^3}{6} \\\\\n",
    "$$\n",
    "\n",
    "Agora em x = 0.5\n",
    "$$\n",
    "T(0.5) = 1 + 0.5 + \\frac{0.5^2}{2} + \\frac{0.5^3}{6} \\\\\n",
    "T(0.5) = 1.6458333...\n",
    "$$"
   ]
  },
  {
   "cell_type": "markdown",
   "id": "bed7363e-38d4-4b96-97bf-66c0218768b2",
   "metadata": {},
   "source": [
    "##### b) Utilizando a expressão do erro cometido ao se aproximar a função exp pela sua expansão em série de Taylor, forneça um limitante superior para o erro cometido no item a)."
   ]
  },
  {
   "cell_type": "markdown",
   "id": "698cfc6b-edb5-4641-bb8d-5222a8a399f3",
   "metadata": {},
   "source": [
    "Utilizando o Resto de Lagrange\n",
    "$$\n",
    "R_n(x) \\leq \\frac{M \\cdot |x-x_0|^{n+1}}{(n+1)!}\n",
    "$$\n",
    "\n",
    "Onde $M$ é o valor máximo de $|f^{(n+1)}(x)|$ no intervalo $0 \\leqslant x \\leqslant 0.5$\n",
    "\n",
    "$$\n",
    "f^{(4)}(x) = e^x\n",
    "$$\n",
    "\n",
    "O máximo será então com $x=0.5$\n",
    "$$\n",
    "M = e^{0.5} \\\\\n",
    "M = 1.6487212 \\, (\\rm{truncado}) \\\\\n",
    "$$\n",
    "Por fim\n",
    "$$\n",
    "R_3(x) \\leq \\frac{M \\cdot |x-x_0|^{4}}{4!} \\\\\n",
    "R_3(x) \\leq \\frac{1.6487212 \\cdot x^{4}}{4!}\n",
    "$$\n",
    "Em $x=0.5$\n",
    "$$\n",
    "R_3(x) \\leq \\frac{1.6487212 \\cdot 0.5^{4}}{4!} \\\\\n",
    "R_3(x) \\leq 0.004293544791666...\n",
    "$$"
   ]
  },
  {
   "cell_type": "markdown",
   "id": "b5d679e0-0f0b-4b85-9bb5-93c73656c5f2",
   "metadata": {},
   "source": [
    "### 6) Usando a fórmula de Taylor para a função $e^x$ em torno de $x_0 = 0$, quantos termos devem ser considerados para aproximar $e^2$ com uma precisão de $10^{−4}$?"
   ]
  },
  {
   "cell_type": "markdown",
   "id": "602d817b-3e16-460f-95fc-0f854c39d34b",
   "metadata": {},
   "source": [
    "Pelo Resto de Lagrange"
   ]
  },
  {
   "cell_type": "markdown",
   "id": "d45817fc-8687-4139-afea-aab2ecb3882c",
   "metadata": {},
   "source": [
    "$$\n",
    "R_n(x) \\leq \\frac{M \\cdot |x-x_0|^{n+1}}{(n+1)!} = 10^{-4} \\\\\n",
    "R_n(x) \\leq \\frac{M \\cdot x^{n+1}}{(n+1)!} = 10^{-4} \\\\\n",
    "R_n(2) \\leq \\frac{M \\cdot 2^{n+1}}{(n+1)!} = 10^{-4} \\\\\n",
    "$$"
   ]
  },
  {
   "cell_type": "markdown",
   "id": "632019c0-a1d9-46fc-b4cc-9c2a9b0916ad",
   "metadata": {},
   "source": [
    "Onde $M$ é o valor máximo de $|f^{(n+1)}(x)|$ no intervalo $0 \\leqslant x \\leqslant 2$"
   ]
  },
  {
   "cell_type": "markdown",
   "id": "057585d3-1fee-4469-b592-8ffbd36e9caf",
   "metadata": {},
   "source": [
    "Mas como qualquer derivada de $e^x$ é igual a $e^x$"
   ]
  },
  {
   "cell_type": "markdown",
   "id": "5de0a38c-d90d-43dd-ab4b-681420bdb9b0",
   "metadata": {},
   "source": [
    "$$\n",
    "M = e^2\n",
    "$$"
   ]
  },
  {
   "cell_type": "markdown",
   "id": "6423f634-7334-4577-9838-6bae41eab273",
   "metadata": {},
   "source": [
    "Então\n",
    "\n",
    "$$\n",
    "\\frac{M \\cdot 2^{n+1}}{(n+1)!} = 10^{-4} \\\\\n",
    "\\frac{e^2 \\cdot 2^{n+1}}{(n+1)!} = 10^{-4} \\\\\n",
    "$$\n",
    "\n",
    "Posso então fazer um pequeno programa em Python para encontrar a solução"
   ]
  },
  {
   "cell_type": "code",
   "execution_count": 1,
   "id": "a3e60664-1b98-42a8-81ee-7cda0a7bae07",
   "metadata": {},
   "outputs": [
    {
     "data": {
      "text/plain": [
       "11"
      ]
     },
     "execution_count": 1,
     "metadata": {},
     "output_type": "execute_result"
    }
   ],
   "source": [
    "from math import exp, factorial\n",
    "\n",
    "def questao_6():\n",
    "    for i in range(100):\n",
    "        if exp(2) * 2**(i+1) / factorial(i+1) <= 10**-4:\n",
    "            return i\n",
    "\n",
    "questao_6()"
   ]
  },
  {
   "cell_type": "markdown",
   "id": "e146aae5-985b-4479-b45d-ed6b6af9b1a0",
   "metadata": {},
   "source": [
    "Portanto, 11 termos serão necessários para aproxima $e^2$ com precisão de $10^{-4}$."
   ]
  },
  {
   "cell_type": "markdown",
   "id": "ef8ab5fd-052c-41ff-be02-dcf445e3902e",
   "metadata": {},
   "source": [
    "### 10) Obtenha o polinômio de Taylor de segundo grau $T_2(x)$ correspondente à função $f(x) = e^x \\cos(x)$ ao redor da origem."
   ]
  },
  {
   "cell_type": "markdown",
   "id": "f51d768d-ac12-4ee4-a9e5-b90636ead88e",
   "metadata": {},
   "source": [
    "##### a) Aproxime $f(0.5)$ por $T_2(0.5)$."
   ]
  },
  {
   "cell_type": "markdown",
   "id": "3d9acfe9-03f2-4b2b-99cd-37f69e763e99",
   "metadata": {},
   "source": [
    "$$\n",
    "T_2(x) = \\sum_{n=0}^{2} \\left( \\frac{f^{(n)}(0) \\cdot x^n}{n!} \\right) \\\\\n",
    "T_2(x) = 1 + x \\\\\n",
    "$$\n",
    "Em $x=0.5$\n",
    "$$\n",
    "T(0.5) = 1.5\n",
    "$$"
   ]
  },
  {
   "cell_type": "markdown",
   "id": "6169aaa8-6d8f-4c7d-9e5c-3aec26170e76",
   "metadata": {},
   "source": [
    "##### b) Ache uma cota superior para o erro $|f(0.5)− T_2(0.5)|$ usando a fórmula do erro de Taylor."
   ]
  },
  {
   "cell_type": "markdown",
   "id": "dc1f500d-68e7-4526-b095-7069ca6e6b3b",
   "metadata": {},
   "source": [
    "$$\n",
    "R_n(x) \\leq \\frac{M \\cdot |x-x_0|^{n+1}}{(n+1)!}\n",
    "$$\n",
    "\n",
    "Onde $M$ é o valor máximo de $|f^{(n+1)}(x)|$ no intervalo $0 \\leqslant x \\leqslant 0.5$\n",
    "\n",
    "$$\n",
    "f^{(3)}(x) = -2e^x (\\sin(x) + \\cos(x))\n",
    "$$\n",
    "\n",
    "Maximizando essa função, começando pelos pontos críticos\n",
    "$$\n",
    "-4e^x\\cos(x) = 0 \\\\\n",
    "\\cos(x) = 0 \\\\\n",
    "x \\notin [0, 0.5]\n",
    "$$\n",
    "No intervalo, a função não tem pontos críticos, então o máximo será um dos extremos, 0 ou 0.5."
   ]
  },
  {
   "cell_type": "code",
   "execution_count": 2,
   "id": "c4854f19-360d-4e77-b9fb-0579655a80e2",
   "metadata": {},
   "outputs": [
    {
     "name": "stdout",
     "output_type": "stream",
     "text": [
      "4.0\n",
      "5.787556146336677\n"
     ]
    }
   ],
   "source": [
    "from math import exp, cos\n",
    "\n",
    "def funcao(x):\n",
    "    return 4*exp(x)*cos(x)\n",
    "\n",
    "print(funcao(0))\n",
    "print(funcao(0.5))"
   ]
  },
  {
   "cell_type": "markdown",
   "id": "c4df9fbe-90b8-4625-b6bf-04b5020dfe34",
   "metadata": {},
   "source": [
    "Então o máximo (em módulo) é 0.5.\n",
    "\n",
    "$$\n",
    "f^{(3)}(0.5) = -2e^{0.5} (\\sin(0.5) + \\cos(0.5)) \\\\\n",
    "f^{(3)}(0.5) = -4.474656\n",
    "$$\n",
    "\n",
    "Então $M = 4.474656$\n",
    "\n",
    "$$\n",
    "R_n(x) \\leq \\frac{M \\cdot |x-x_0|^{n+1}}{(n+1)!} \\\\\n",
    "R_2(x) \\leq \\frac{4.474656 \\cdot x^{3}}{3!} \\\\\n",
    "R_2(0.5) \\leq 0.093222\n",
    "$$"
   ]
  },
  {
   "cell_type": "markdown",
   "id": "077abfce-edbb-4d81-8740-78b168602082",
   "metadata": {},
   "source": [
    "##### c) Calcule uma cota superior para o erro $|f(x) − T_2(x)|$ no intervalo $[0, 1]$ usando a fórmula do erro de Taylor."
   ]
  },
  {
   "cell_type": "markdown",
   "id": "fdfc7f9c-9415-44e2-b5b9-72c8035e2814",
   "metadata": {},
   "source": [
    "$$\n",
    "R_n(x) \\leq \\frac{M \\cdot |x-x_0|^{n+1}}{(n+1)!}\n",
    "$$\n",
    "\n",
    "Onde $M$ é o valor máximo de $|f^{(n+1)}(x)|$ no intervalo $0 \\leqslant x \\leqslant 1$\n",
    "\n",
    "$$\n",
    "f^{(3)}(x) = -2e^x (\\sin(x) + \\cos(x))\n",
    "$$\n",
    "\n",
    "Como na letra b), não há pontos críticos, então o ponto de máximo será na extremidade maior do intervalo, que é 1. Então\n",
    "\n",
    "$$\n",
    "f^{(3)}(1) = -2e^{1} (\\sin(1) + \\cos(1)) \\\\\n",
    "f^{(3)}(1) = -7.512098\n",
    "$$\n",
    "Portanto $M = 7.512098$. Encontrando agora o erro\n",
    "\n",
    "$$\n",
    "R_2(x) \\leq \\frac{7.512098 \\cdot x^{3}}{3!}\n",
    "$$\n",
    "\n",
    "E o máximo dessa função no intervalo é com $x=1$, então\n",
    "\n",
    "$$\n",
    "R_2(1) \\leq \\frac{7.512098 \\cdot 1^{3}}{3!} \\\\\n",
    "R_2(1) \\leq 1.25202\n",
    "$$"
   ]
  }
 ],
 "metadata": {
  "kernelspec": {
   "display_name": "Python 3 (ipykernel)",
   "language": "python",
   "name": "python3"
  },
  "language_info": {
   "codemirror_mode": {
    "name": "ipython",
    "version": 3
   },
   "file_extension": ".py",
   "mimetype": "text/x-python",
   "name": "python",
   "nbconvert_exporter": "python",
   "pygments_lexer": "ipython3",
   "version": "3.9.5"
  }
 },
 "nbformat": 4,
 "nbformat_minor": 5
}
