{
 "cells": [
  {
   "cell_type": "markdown",
   "id": "5b45e7d4-c653-4478-aa29-33a74988051d",
   "metadata": {},
   "source": [
    "### 1) Através do método dos quadrados mínimos, ajuste, aos dados da tabela abaixo, as curvas:"
   ]
  },
  {
   "cell_type": "code",
   "execution_count": 1,
   "id": "97259053-6fe3-451a-8e38-a603d4635212",
   "metadata": {},
   "outputs": [],
   "source": [
    "lista_x = [  1,   2,   3,   4,   5,   6,   7,   8] # x\n",
    "lista_y = [0.5, 0.6, 0.9, 0.8, 1.2, 1.5, 1.7, 2.0] # f(x)"
   ]
  },
  {
   "cell_type": "markdown",
   "id": "956b2a2b-4aad-47c3-9753-6589a646ca18",
   "metadata": {},
   "source": [
    "#### (a) uma reta"
   ]
  },
  {
   "cell_type": "code",
   "execution_count": 2,
   "id": "34052424-400e-4f7d-865f-6f211dfcc398",
   "metadata": {},
   "outputs": [
    {
     "data": {
      "text/plain": [
       "<matplotlib.collections.PathCollection at 0x114d59f0280>"
      ]
     },
     "execution_count": 2,
     "metadata": {},
     "output_type": "execute_result"
    },
    {
     "data": {
      "image/png": "[encoded data removed]",
      "text/plain": [
       "<Figure size 432x288 with 1 Axes>"
      ]
     },
     "metadata": {
      "needs_background": "light"
     },
     "output_type": "display_data"
    }
   ],
   "source": [
    "import matplotlib.pyplot as plt\n",
    "\n",
    "fig, ax = plt.subplots()\n",
    "ax.scatter(x=lista_x, y=lista_y)"
   ]
  },
  {
   "cell_type": "markdown",
   "id": "fef0282d-6736-4617-93b0-25dfda722d57",
   "metadata": {},
   "source": [
    "A função de ajuste será do tipo:"
   ]
  },
  {
   "cell_type": "markdown",
   "id": "858ee9ad-ab3e-4fd5-a0ca-f53a7e6b2f42",
   "metadata": {},
   "source": [
    "$$\n",
    "\\varphi(x) = a_0 + a_1x\n",
    "$$"
   ]
  },
  {
   "cell_type": "markdown",
   "id": "59338a6f-b9f3-41c1-8549-b964a0d50690",
   "metadata": {},
   "source": [
    "tal que $a_0, a_1$ minimize"
   ]
  },
  {
   "cell_type": "markdown",
   "id": "302a1fd8-9efc-4439-a043-d6d686b725e4",
   "metadata": {},
   "source": [
    "$$\n",
    "\\sum_{i=1}^{8} (\\varphi(x_i) - y_i)^2\n",
    "$$"
   ]
  },
  {
   "cell_type": "markdown",
   "id": "63207ce3-125d-4d15-abb0-3570bcc9048f",
   "metadata": {},
   "source": [
    "Definindo então a função a ser minimizada\n",
    "$$\n",
    "F(a_0, a_1) = \\sum_{i=1}^{8} (a_0 + a_1 x_i - y_i)^2\n",
    "$$"
   ]
  },
  {
   "cell_type": "markdown",
   "id": "123d5bdd-fee3-4845-847f-7bf50f5b7aa1",
   "metadata": {},
   "source": [
    "Ou seja,\n",
    "$$\n",
    "\\nabla F = 0 \\\\\n",
    "\\frac{\\partial F}{\\partial a_0} = 0 \\quad \\frac{\\partial F}{\\partial a_1} = 0\n",
    "$$"
   ]
  },
  {
   "cell_type": "markdown",
   "id": "ab7b2909-45bb-4a4e-9ea6-fe3f2abcf9d4",
   "metadata": {},
   "source": [
    "Primeira equação: $\\frac{\\partial F}{\\partial a_0} = 0$\n",
    "$$\n",
    "\\frac{\\partial (\\sum_{i=1}^{8} (a_0 + a_1 x_i - y_i)^2)}{\\partial a_0} = 0 \\\\\n",
    "\\sum_{i=1}^{8} 2(a_0 + a_1 x_i - y_i) = 0 \\\\\n",
    "\\sum_{i=1}^{8} (a_0 + a_1 x_i - y_i) = 0 \\\\\n",
    "\\sum_{i=1}^{8} a_0 + \\sum_{i=1}^{8} a_1 x_i - \\sum_{i=1}^{8} y_i = 0 \\\\\n",
    "8 a_0 + a_1 \\sum_{i=1}^{8} x_i = \\sum_{i=1}^{8} y_i\n",
    "$$"
   ]
  },
  {
   "cell_type": "markdown",
   "id": "e64a2766-90b9-41aa-a7af-87c14ea73850",
   "metadata": {},
   "source": [
    "Segunda equação: $\\frac{\\partial F}{\\partial a_1} = 0$\n",
    "$$\n",
    "\\frac{\\partial (\\sum_{i=1}^{8} (a_0 + a_1 x_i - y_i)^2)}{\\partial a_1} = 0 \\\\\n",
    "\\sum_{i=1}^{8} 2x_i (a_0 + a_1 x_i - y_i) = 0 \\\\\n",
    "\\sum_{i=1}^{8} (a_0 x_i + a_1 x_i^2 - y_i x_i) = 0 \\\\\n",
    "\\sum_{i=1}^{8} a_0 x_i + \\sum_{i=1}^{8} a_1 x_i^2 - \\sum_{i=1}^{8} y_i x_i = 0 \\\\\n",
    "a_0 \\sum_{i=1}^{8} x_i + a_1 \\sum_{i=1}^{8} x_i^2 = \\sum_{i=1}^{8} y_i x_i\n",
    "$$"
   ]
  },
  {
   "cell_type": "markdown",
   "id": "af606082-11ee-4534-9d2b-545569c6fa63",
   "metadata": {},
   "source": [
    "Então temos o sistema\n",
    "$$\n",
    "\\begin{cases}\n",
    "\\begin{align}\n",
    "8 a_0 + a_1 \\sum_{i=1}^{8} x_i &= \\sum_{i=1}^{8} y_i \\\\\n",
    "a_0 \\sum_{i=1}^{8} x_i + a_1 \\sum_{i=1}^{8} x_i^2 &= \\sum_{i=1}^{8} y_i x_i\n",
    "\\end{align}\n",
    "\\end{cases}\n",
    "$$"
   ]
  },
  {
   "cell_type": "code",
   "execution_count": 3,
   "id": "281bf93b-7f28-4d6e-a0fe-dc5256d3d97b",
   "metadata": {},
   "outputs": [
    {
     "name": "stdout",
     "output_type": "stream",
     "text": [
      "[1, 2, 3, 4, 5, 6, 7, 8] Soma x -> 36\n",
      "[0.5, 0.6, 0.9, 0.8, 1.2, 1.5, 1.7, 2.0] Soma y -> 9.2\n",
      "[1, 4, 9, 16, 25, 36, 49, 64] Soma x^2 -> 204\n",
      "[0.5, 1.2, 2.7, 3.2, 6.0, 9.0, 11.9, 16.0] Soma x*y -> 50.5\n"
     ]
    }
   ],
   "source": [
    "print(f'{lista_x} Soma x -> {sum(lista_x)}')\n",
    "print(f'{lista_y} Soma y -> {sum(lista_y)}')\n",
    "print(f'{[x**2 for x in lista_x]} Soma x^2 -> {sum([x**2 for x in lista_x])}')\n",
    "print(f'{[x*y for x, y in zip(lista_x, lista_y)]} Soma x*y -> {sum([x*y for x, y in zip(lista_x, lista_y)])}')"
   ]
  },
  {
   "cell_type": "markdown",
   "id": "65e4bd94-2ef4-4222-80e0-4e1c4d071983",
   "metadata": {},
   "source": [
    "Substituindo os somatórios\n",
    "$$\n",
    "\\begin{cases}\n",
    "\\begin{align}\n",
    "8 a_0 + 36 a_1 &= 9.2 \\\\\n",
    "36 a_0 + 204 a_1 &= 50.5\n",
    "\\end{align}\n",
    "\\end{cases}\n",
    "$$"
   ]
  },
  {
   "cell_type": "code",
   "execution_count": 4,
   "id": "0ab4c8e5-e5c5-4ed0-a9dc-01efa45e0e18",
   "metadata": {},
   "outputs": [
    {
     "data": {
      "text/plain": [
       "array([0.175     , 0.21666667])"
      ]
     },
     "execution_count": 4,
     "metadata": {},
     "output_type": "execute_result"
    }
   ],
   "source": [
    "import numpy as np\n",
    "\n",
    "np.linalg.solve([[8, 36], [36, 204]], [9.2, 50.5])"
   ]
  },
  {
   "cell_type": "markdown",
   "id": "5dd4d70c-0b4a-4c5e-99dc-4935a3f09067",
   "metadata": {},
   "source": [
    "E o sistema tem a solução\n",
    "$$\n",
    "a_0 = 0.175 \\quad a_1 = 0.21666667\n",
    "$$"
   ]
  },
  {
   "cell_type": "markdown",
   "id": "ba513863-844c-40a8-af3f-2b862445ce1e",
   "metadata": {},
   "source": [
    "Logo, a reta será dada por\n",
    "$$\n",
    "\\varphi(x) = a_0 + a_1x \\\\\n",
    "\\varphi(x) = 0.175 + 0.21666667x\n",
    "$$"
   ]
  },
  {
   "cell_type": "code",
   "execution_count": 5,
   "id": "deb5d2d0-adbe-445e-b838-4abe5b7a9d34",
   "metadata": {},
   "outputs": [
    {
     "data": {
      "text/plain": [
       "[<matplotlib.lines.Line2D at 0x114efdd5430>]"
      ]
     },
     "execution_count": 5,
     "metadata": {},
     "output_type": "execute_result"
    },
    {
     "data": {
      "image/png": "[encoded data removed]",
      "text/plain": [
       "<Figure size 432x288 with 1 Axes>"
      ]
     },
     "metadata": {
      "needs_background": "light"
     },
     "output_type": "display_data"
    }
   ],
   "source": [
    "fig, ax = plt.subplots()\n",
    "ax.scatter(x=lista_x, y=lista_y)\n",
    "\n",
    "reta = [0.175 + 0.21666667*x for x in lista_x]\n",
    "ax.plot(lista_x, reta, c='orange')"
   ]
  },
  {
   "cell_type": "markdown",
   "id": "4db64642-1fc2-4cbd-8c33-9266793e7599",
   "metadata": {},
   "source": [
    "#### (b) uma parábola"
   ]
  },
  {
   "cell_type": "markdown",
   "id": "4c4afe60-16a6-4c06-9b76-f357259fec2d",
   "metadata": {},
   "source": [
    "Esse caso será resolvido através da resolução do Sistema Normal matricial\n",
    "$$\n",
    "\\phi^T \\phi a = \\phi^T y\n",
    "$$"
   ]
  },
  {
   "cell_type": "markdown",
   "id": "ed0dc258-225e-439e-91c1-a1ffde152a28",
   "metadata": {},
   "source": [
    "Onde $\\phi$ é a matriz de Vandermonde dos valores de $x$ e $a$ é a matriz coluna dos coeficientes da função $\\varphi(x)$ a ser obtida."
   ]
  },
  {
   "cell_type": "markdown",
   "id": "52f20046-690b-47b5-ad01-bd55a23b98ee",
   "metadata": {},
   "source": [
    "$$\n",
    "\\varphi(x) = a_0 + a_1 x + a_2 x^2\n",
    "$$"
   ]
  },
  {
   "cell_type": "markdown",
   "id": "c78cdb30-e3c4-4e43-98e3-74822d985cb3",
   "metadata": {},
   "source": [
    "$$\n",
    "\\phi = \\begin{bmatrix}\n",
    "1 & 1 & 1 \\\\\n",
    "1 & 2 & 4 \\\\\n",
    "1 & 3 & 9 \\\\\n",
    "1 & 4 & 16 \\\\\n",
    "1 & 5 & 25 \\\\\n",
    "1 & 6 & 36 \\\\\n",
    "1 & 7 & 49 \\\\\n",
    "1 & 8 & 64\n",
    "\\end{bmatrix} \\quad\n",
    "y = \\begin{bmatrix}\n",
    "0.5 \\\\\n",
    "0.6 \\\\\n",
    "0.9 \\\\\n",
    "0.8 \\\\\n",
    "1.2 \\\\\n",
    "1.5 \\\\\n",
    "1.7 \\\\\n",
    "2.0\n",
    "\\end{bmatrix} \\quad\n",
    "a = \\begin{bmatrix}\n",
    "a_0 \\\\\n",
    "a_1 \\\\\n",
    "a_2\n",
    "\\end{bmatrix}\n",
    "$$"
   ]
  },
  {
   "cell_type": "code",
   "execution_count": 6,
   "id": "7b2331e7-77a6-4455-ba43-39e3cbd26406",
   "metadata": {},
   "outputs": [],
   "source": [
    "import sympy as sp\n",
    "\n",
    "phi = sp.Matrix([\n",
    "    [1, 1, 1],\n",
    "    [1, 2, 4],\n",
    "    [1, 3, 9],\n",
    "    [1, 4, 16],\n",
    "    [1, 5, 25],\n",
    "    [1, 6, 36],\n",
    "    [1, 7, 49],\n",
    "    [1, 8, 64],\n",
    "])\n",
    "\n",
    "y = sp.Matrix([\n",
    "    [0.5],\n",
    "    [0.6],\n",
    "    [0.9],\n",
    "    [0.8],\n",
    "    [1.2],\n",
    "    [1.5],\n",
    "    [1.7],\n",
    "    [2.0],\n",
    "])"
   ]
  },
  {
   "cell_type": "markdown",
   "id": "ee87ae42-2cbc-4f6f-90be-677f0cb3732e",
   "metadata": {},
   "source": [
    "$$\n",
    "A = \\phi^T \\cdot \\phi\n",
    "$$"
   ]
  },
  {
   "cell_type": "code",
   "execution_count": 7,
   "id": "a6c40b58-a042-46f0-b564-5aac351bffec",
   "metadata": {},
   "outputs": [
    {
     "data": {
      "text/latex": [
       "$\\displaystyle \\left[\\begin{matrix}8 & 36 & 204\\\\36 & 204 & 1296\\\\204 & 1296 & 8772\\end{matrix}\\right]$"
      ],
      "text/plain": [
       "Matrix([\n",
       "[  8,   36,  204],\n",
       "[ 36,  204, 1296],\n",
       "[204, 1296, 8772]])"
      ]
     },
     "execution_count": 7,
     "metadata": {},
     "output_type": "execute_result"
    }
   ],
   "source": [
    "A = phi.T * phi\n",
    "A"
   ]
  },
  {
   "cell_type": "markdown",
   "id": "3aa709bc-4df5-42a4-b0e2-54ef0e137f08",
   "metadata": {},
   "source": [
    "$$\n",
    "B = \\phi^T \\cdot y\n",
    "$$"
   ]
  },
  {
   "cell_type": "code",
   "execution_count": 8,
   "id": "b252b226-8974-411e-a0b9-5255bbf551dc",
   "metadata": {},
   "outputs": [
    {
     "data": {
      "text/latex": [
       "$\\displaystyle \\left[\\begin{matrix}9.2\\\\50.5\\\\319.1\\end{matrix}\\right]$"
      ],
      "text/plain": [
       "Matrix([\n",
       "[  9.2],\n",
       "[ 50.5],\n",
       "[319.1]])"
      ]
     },
     "execution_count": 8,
     "metadata": {},
     "output_type": "execute_result"
    }
   ],
   "source": [
    "B = phi.T * y\n",
    "B"
   ]
  },
  {
   "cell_type": "markdown",
   "id": "6fae6b0d-5932-406c-a4d6-40d552160488",
   "metadata": {},
   "source": [
    "$$\n",
    "Aa = B \\\\\n",
    "\\begin{bmatrix}\n",
    "8 & 36 & 204 \\\\\n",
    "36 & 204 & 1296 \\\\\n",
    "204 & 1296 & 8772 \\\\\n",
    "\\end{bmatrix} \\,\n",
    "\\begin{bmatrix}\n",
    "a_0 \\\\\n",
    "a_1 \\\\\n",
    "a_2 \\\\\n",
    "\\end{bmatrix} =\n",
    "\\begin{bmatrix}\n",
    "9.2 \\\\\n",
    "50.5 \\\\\n",
    "319.1 \\\\\n",
    "\\end{bmatrix}\n",
    "$$"
   ]
  },
  {
   "cell_type": "code",
   "execution_count": 9,
   "id": "4510e244-2cf3-44d3-9e35-01ee76e9889a",
   "metadata": {},
   "outputs": [
    {
     "data": {
      "text/latex": [
       "$\\displaystyle \\left[\\begin{matrix}0.407142857142859\\\\0.0773809523809515\\\\0.0154761904761906\\end{matrix}\\right]$"
      ],
      "text/plain": [
       "Matrix([\n",
       "[ 0.407142857142859],\n",
       "[0.0773809523809515],\n",
       "[0.0154761904761906]])"
      ]
     },
     "execution_count": 9,
     "metadata": {},
     "output_type": "execute_result"
    }
   ],
   "source": [
    "A.gauss_jordan_solve(B)[0]"
   ]
  },
  {
   "cell_type": "markdown",
   "id": "2b2f4b5b-fbaf-4a45-943c-b702fe5ad467",
   "metadata": {},
   "source": [
    "Então\n",
    "$$\n",
    "a_0 = 0.40714286 \\quad a_1 = 0.07738095 \\quad a_2 = 0.01547619\n",
    "$$\n",
    "são os coeficientes da parábola. A função será:\n",
    "$$\n",
    "\\varphi(x) = 0.40714286 + 0.07738095x + 0.01547619x^2\n",
    "$$"
   ]
  },
  {
   "cell_type": "code",
   "execution_count": 10,
   "id": "9d10eb89-700d-43ec-b05e-f4c4c14afa4b",
   "metadata": {},
   "outputs": [
    {
     "data": {
      "text/plain": [
       "[<matplotlib.lines.Line2D at 0x114f10a4550>]"
      ]
     },
     "execution_count": 10,
     "metadata": {},
     "output_type": "execute_result"
    },
    {
     "data": {
      "image/png": "[encoded data removed]",
      "text/plain": [
       "<Figure size 432x288 with 1 Axes>"
      ]
     },
     "metadata": {
      "needs_background": "light"
     },
     "output_type": "display_data"
    }
   ],
   "source": [
    "fig, ax = plt.subplots()\n",
    "ax.scatter(x=lista_x, y=lista_y)\n",
    "\n",
    "parabola = [0.40714286 + 0.07738095*x + 0.01547619*x**2 for x in lista_x]\n",
    "parabola_curva = [0.40714286 + 0.07738095*x + 0.01547619*x**2 for x in np.linspace(1, 8, 100)]\n",
    "\n",
    "ax.plot(np.linspace(1, 8, 100), parabola_curva, c='green')"
   ]
  },
  {
   "cell_type": "markdown",
   "id": "eaf53fa1-2f1d-4f25-9297-6abd79133f68",
   "metadata": {},
   "source": [
    "#### Qual das curvas melhor se ajusta aos dados no sentido dos quadrados mínimos? Justifique."
   ]
  },
  {
   "cell_type": "code",
   "execution_count": 11,
   "id": "48ddd2d1-1928-41ea-8713-543f0e29211d",
   "metadata": {},
   "outputs": [
    {
     "data": {
      "text/plain": [
       "[<matplotlib.lines.Line2D at 0x114f11471c0>]"
      ]
     },
     "execution_count": 11,
     "metadata": {},
     "output_type": "execute_result"
    },
    {
     "data": {
      "image/png": "[encoded data removed]",
      "text/plain": [
       "<Figure size 432x288 with 1 Axes>"
      ]
     },
     "metadata": {
      "needs_background": "light"
     },
     "output_type": "display_data"
    }
   ],
   "source": [
    "fig, ax = plt.subplots()\n",
    "ax.scatter(x=lista_x, y=lista_y)\n",
    "\n",
    "ax.plot(lista_x, reta, c='orange')\n",
    "ax.plot(np.linspace(1, 8, 100), parabola_curva, c='green')"
   ]
  },
  {
   "cell_type": "code",
   "execution_count": 12,
   "id": "ffefd394-5554-40b1-9e5c-430e16fe29d1",
   "metadata": {},
   "outputs": [],
   "source": [
    "media = sum(lista_y)/len(lista_y)\n",
    "diferencas_media = sum([(media - y)**2 for y in lista_y]) # soma dos quadradis das diferenças entre os pontos y e a média dos pontos y\n",
    "diferencas_reta = sum([(phi - y)**2 for phi, y in zip(reta, lista_y)]) # soma dos quadrados das diferenças entre os pontos y reais e os pontos estimados pela reta\n",
    "diferencas_parabola = sum([(phi - y)**2 for phi, y in zip(parabola, lista_y)]) # soma dos quadrados das diferenças entre os pontos y reais e os pontos estimados pela parábola"
   ]
  },
  {
   "cell_type": "code",
   "execution_count": 13,
   "id": "1e176d06-87a1-4392-8090-db45347325dd",
   "metadata": {},
   "outputs": [
    {
     "name": "stdout",
     "output_type": "stream",
     "text": [
      "2.06 0.0883333333333356 0.04809523809524319\n"
     ]
    }
   ],
   "source": [
    "print(diferencas_media, diferencas_reta, diferencas_parabola)"
   ]
  },
  {
   "cell_type": "code",
   "execution_count": 14,
   "id": "be331b70-2513-4ffa-a20e-c82e0cfa9b8f",
   "metadata": {},
   "outputs": [
    {
     "name": "stdout",
     "output_type": "stream",
     "text": [
      "0.9571197411003225 0.976652797041144\n"
     ]
    }
   ],
   "source": [
    "print(1 - diferencas_reta/diferencas_media, 1 - diferencas_parabola/diferencas_media) # R^2"
   ]
  },
  {
   "cell_type": "markdown",
   "id": "a66ba3b1-4a16-4278-9672-f504ca76a49d",
   "metadata": {},
   "source": [
    "As distâncias dos pontos da parábola para os pontos reais é menor do que as distâncias dos pontos da reta para os pontos reais. Portanto, o ajuste pela parábola é melhor do que o ajuste pela reta."
   ]
  },
  {
   "cell_type": "code",
   "execution_count": 15,
   "id": "fe88f442-de18-4ee6-8afb-ff0e4d209d66",
   "metadata": {},
   "outputs": [],
   "source": [
    "def equacoes_normais(lista_x, lista_y, grau):\n",
    "    vandermonde = [[x**p for p in range(grau+1)] for x in lista_x] # cria a matriz de Vandermonde\n",
    "    \n",
    "    phi = sp.Matrix(vandermonde)\n",
    "    y = sp.Matrix(lista_y) # matriz coluna dos valores de f(x)\n",
    "    \n",
    "    A = phi.T * phi\n",
    "    B = phi.T * y\n",
    "    \n",
    "    return A.gauss_jordan_solve(B)[0] # resolve Ax = B e retorna x"
   ]
  },
  {
   "cell_type": "markdown",
   "id": "589c56c7-dc20-4667-bc69-92d860544da4",
   "metadata": {},
   "source": [
    "---"
   ]
  },
  {
   "cell_type": "markdown",
   "id": "b1429c18-9b40-4666-ba7f-72983be286aa",
   "metadata": {},
   "source": [
    "### 2) A tabela mostra as alturas e pesos de uma amostra de nove pessoas entre as idades de 25 e 29 anos:"
   ]
  },
  {
   "cell_type": "code",
   "execution_count": 16,
   "id": "6db9516a-c7bf-4fe1-a465-3d93e12b5c9a",
   "metadata": {},
   "outputs": [],
   "source": [
    "alturas = [183, 173, 168, 188, 158, 163, 193, 163, 178] # cm\n",
    "pesos   = [79.0,  69,  70,  81,  61,  63,  79,  71,  73] # kg"
   ]
  },
  {
   "cell_type": "markdown",
   "id": "24f7ee15-9f67-4bba-9f29-7bbce3d76e64",
   "metadata": {},
   "source": [
    "#### a) através do diagrama de dispersão dos dados, observe que parece existir uma relação linear entre a altura e o peso."
   ]
  },
  {
   "cell_type": "code",
   "execution_count": 17,
   "id": "1b6501ae-3a98-4edd-a98b-227eb153373d",
   "metadata": {},
   "outputs": [
    {
     "data": {
      "text/plain": [
       "(55.0, 85.0)"
      ]
     },
     "execution_count": 17,
     "metadata": {},
     "output_type": "execute_result"
    },
    {
     "data": {
      "image/png": "[encoded data removed]",
      "text/plain": [
       "<Figure size 432x288 with 1 Axes>"
      ]
     },
     "metadata": {
      "needs_background": "light"
     },
     "output_type": "display_data"
    }
   ],
   "source": [
    "fig, ax = plt.subplots()\n",
    "\n",
    "ax.scatter(x=alturas, y=pesos)\n",
    "ax.set_ylim(bottom=55, top=85)"
   ]
  },
  {
   "cell_type": "markdown",
   "id": "f95e666e-fe87-4a25-a6f6-7e6cb32ad3b2",
   "metadata": {},
   "source": [
    "#### (b) ajuste uma reta que descreva o comportamento do peso em função da altura."
   ]
  },
  {
   "cell_type": "code",
   "execution_count": 18,
   "id": "fccc3c03-3e5e-45c6-8952-f85398516f16",
   "metadata": {},
   "outputs": [
    {
     "data": {
      "text/latex": [
       "$\\displaystyle \\left[\\begin{matrix}-20.0780373831776\\\\0.527570093457944\\end{matrix}\\right]$"
      ],
      "text/plain": [
       "Matrix([\n",
       "[-20.0780373831776],\n",
       "[0.527570093457944]])"
      ]
     },
     "execution_count": 18,
     "metadata": {},
     "output_type": "execute_result"
    }
   ],
   "source": [
    "equacoes_normais(lista_x=alturas, lista_y=pesos, grau=1)"
   ]
  },
  {
   "cell_type": "markdown",
   "id": "1400a18e-748d-4169-847a-3ec035f1dc46",
   "metadata": {},
   "source": [
    "Então\n",
    "$$\n",
    "\\varphi(x) = -20.07803738 + 0.52757009x\n",
    "$$"
   ]
  },
  {
   "cell_type": "code",
   "execution_count": 19,
   "id": "1de668c6-8f1d-4d34-a0fc-3ef83b195120",
   "metadata": {},
   "outputs": [
    {
     "data": {
      "text/plain": [
       "(55.0, 85.0)"
      ]
     },
     "execution_count": 19,
     "metadata": {},
     "output_type": "execute_result"
    },
    {
     "data": {
      "image/png": "[encoded data removed]",
      "text/plain": [
       "<Figure size 432x288 with 1 Axes>"
      ]
     },
     "metadata": {
      "needs_background": "light"
     },
     "output_type": "display_data"
    }
   ],
   "source": [
    "reta_2b = [-20.07803738 + 0.52757009*x for x in alturas]\n",
    "\n",
    "fig, ax = plt.subplots()\n",
    "\n",
    "ax.scatter(x=alturas, y=pesos)\n",
    "ax.plot(alturas, reta_2b, c='orange')\n",
    "\n",
    "ax.set_ylim(bottom=55, top=85)"
   ]
  },
  {
   "cell_type": "code",
   "execution_count": 20,
   "id": "82416cf7-a3ef-45e3-a205-e4071f4dcb14",
   "metadata": {},
   "outputs": [
    {
     "data": {
      "text/plain": [
       "64.6518691588818"
      ]
     },
     "execution_count": 20,
     "metadata": {},
     "output_type": "execute_result"
    }
   ],
   "source": [
    "sum([(phi - y)**2 for phi, y in zip(reta_2b, pesos)])"
   ]
  },
  {
   "cell_type": "markdown",
   "id": "3431e5f1-1a5f-48ca-8327-31cddb77d124",
   "metadata": {},
   "source": [
    "#### c) estime o peso de uma pessoa com 175 cm de altura e estime a altura de uma pessoa com 80 kg."
   ]
  },
  {
   "cell_type": "markdown",
   "id": "8136b69e-4a3f-4070-a776-c2add7c9fa0c",
   "metadata": {},
   "source": [
    "Peso de uma pessoa com 175 cm de altura:"
   ]
  },
  {
   "cell_type": "code",
   "execution_count": 21,
   "id": "c8151506-a34c-4488-903c-2c11dd0e69de",
   "metadata": {},
   "outputs": [
    {
     "data": {
      "text/plain": [
       "72.24672837"
      ]
     },
     "execution_count": 21,
     "metadata": {},
     "output_type": "execute_result"
    }
   ],
   "source": [
    "(lambda x: -20.07803738 + 0.52757009*x)(175)"
   ]
  },
  {
   "cell_type": "markdown",
   "id": "89780dad-c430-4c45-bd74-92d90acc57fd",
   "metadata": {},
   "source": [
    "Aproximadamente 72.25 kg segundo o modelo."
   ]
  },
  {
   "cell_type": "markdown",
   "id": "1933af80-3e20-4fed-a8e7-958d4aed11d6",
   "metadata": {},
   "source": [
    "Altura de uma pessoa com 80 kg:"
   ]
  },
  {
   "cell_type": "markdown",
   "id": "c36e20e2-98ef-4e4d-845f-382229e26022",
   "metadata": {},
   "source": [
    "$$\n",
    "80 = −20.07803738 + 0.52757009x \\\\\n",
    "x = \\frac{80 + 20.07803738}{0.52757009}\n",
    "$$"
   ]
  },
  {
   "cell_type": "code",
   "execution_count": 22,
   "id": "b3af91c5-d24a-4eee-85a3-736475000081",
   "metadata": {},
   "outputs": [
    {
     "data": {
      "text/plain": [
       "189.69619255708753"
      ]
     },
     "execution_count": 22,
     "metadata": {},
     "output_type": "execute_result"
    }
   ],
   "source": [
    "(80 + 20.07803738)/0.52757009"
   ]
  },
  {
   "cell_type": "markdown",
   "id": "aef4de69-261f-4d4f-92ad-551c0ab43ab4",
   "metadata": {},
   "source": [
    "Aproximadamente 189.70 cm segundo o modelo."
   ]
  },
  {
   "cell_type": "markdown",
   "id": "74e59be0-0494-467a-ac57-41b750959216",
   "metadata": {},
   "source": [
    "#### d) ajuste a reta que descreve o comportamento da altura em função do peso."
   ]
  },
  {
   "cell_type": "code",
   "execution_count": 23,
   "id": "8b50f4c8-119b-431d-8194-b758b1a8fb14",
   "metadata": {},
   "outputs": [
    {
     "data": {
      "text/plain": [
       "(154.0, 195.0)"
      ]
     },
     "execution_count": 23,
     "metadata": {},
     "output_type": "execute_result"
    },
    {
     "data": {
      "image/png": "[encoded data removed]",
      "text/plain": [
       "<Figure size 432x288 with 1 Axes>"
      ]
     },
     "metadata": {
      "needs_background": "light"
     },
     "output_type": "display_data"
    }
   ],
   "source": [
    "fig, ax = plt.subplots()\n",
    "\n",
    "ax.scatter(x=pesos, y=alturas)\n",
    "ax.set_ylim(bottom=154, top=195)"
   ]
  },
  {
   "cell_type": "code",
   "execution_count": 24,
   "id": "614d045c-c0e9-4158-b815-5a30a2cc00af",
   "metadata": {},
   "outputs": [
    {
     "data": {
      "text/latex": [
       "$\\displaystyle \\left[\\begin{matrix}60.2949438202247\\\\1.58567415730337\\end{matrix}\\right]$"
      ],
      "text/plain": [
       "Matrix([\n",
       "[60.2949438202247],\n",
       "[1.58567415730337]])"
      ]
     },
     "execution_count": 24,
     "metadata": {},
     "output_type": "execute_result"
    }
   ],
   "source": [
    "equacoes_normais(lista_x=pesos, lista_y=alturas, grau=1)"
   ]
  },
  {
   "cell_type": "markdown",
   "id": "8ff1bacb-4fe2-491a-add5-c287375dea06",
   "metadata": {},
   "source": [
    "Então\n",
    "$$\n",
    "\\varphi(x) = 60.29494382 + 1.58567416x\n",
    "$$"
   ]
  },
  {
   "cell_type": "code",
   "execution_count": 25,
   "id": "bcda46b8-b7ea-4e6f-9d36-13c8831ce1db",
   "metadata": {},
   "outputs": [
    {
     "data": {
      "text/plain": [
       "(154.0, 195.0)"
      ]
     },
     "execution_count": 25,
     "metadata": {},
     "output_type": "execute_result"
    },
    {
     "data": {
      "image/png": "[encoded data removed]",
      "text/plain": [
       "<Figure size 432x288 with 1 Axes>"
      ]
     },
     "metadata": {
      "needs_background": "light"
     },
     "output_type": "display_data"
    }
   ],
   "source": [
    "fig, ax = plt.subplots()\n",
    "\n",
    "reta_2d = [60.29494382 + 1.58567416*x for x in pesos]\n",
    "\n",
    "ax.scatter(x=pesos, y=alturas)\n",
    "ax.plot(pesos, reta_2d, c='orange')\n",
    "ax.set_ylim(bottom=154, top=195)"
   ]
  },
  {
   "cell_type": "code",
   "execution_count": 26,
   "id": "a7a3b895-4610-4d37-bb83-39c2015c6d87",
   "metadata": {},
   "outputs": [
    {
     "data": {
      "text/plain": [
       "194.31882022471902"
      ]
     },
     "execution_count": 26,
     "metadata": {},
     "output_type": "execute_result"
    }
   ],
   "source": [
    "sum([(phi - y)**2 for phi, y in zip(reta_2d, alturas)])"
   ]
  },
  {
   "cell_type": "markdown",
   "id": "3d1e60e8-abe5-4cf0-925a-7b3142a2e24c",
   "metadata": {},
   "source": [
    "#### e) resolva o item (c) com esta nova função e compare os resultados."
   ]
  },
  {
   "cell_type": "markdown",
   "id": "15117362-7d8b-4aa2-bf61-03dac3bf91df",
   "metadata": {},
   "source": [
    "Peso de uma pessoa com 175 cm de altura:"
   ]
  },
  {
   "cell_type": "markdown",
   "id": "c430af8e-9eee-4d98-9f12-b25ab61c781c",
   "metadata": {},
   "source": [
    "$$\n",
    "175 = 60.29494382 + 1.58567416x \\\\\n",
    "x = \\frac{175 - 60.29494382}{1.58567416}\n",
    "$$"
   ]
  },
  {
   "cell_type": "code",
   "execution_count": 27,
   "id": "9a5a8530-90e3-40fb-b3e6-2914f98ae244",
   "metadata": {},
   "outputs": [
    {
     "data": {
      "text/plain": [
       "72.33835240147951"
      ]
     },
     "execution_count": 27,
     "metadata": {},
     "output_type": "execute_result"
    }
   ],
   "source": [
    "(175 - 60.29494382)/1.58567416"
   ]
  },
  {
   "cell_type": "markdown",
   "id": "27348cf1-e267-4a7e-9208-75ebc6bd2418",
   "metadata": {},
   "source": [
    "Aproximadamente 72.34 kg segundo o modelo."
   ]
  },
  {
   "cell_type": "markdown",
   "id": "db454198-508c-47fb-820a-c827c60bc305",
   "metadata": {},
   "source": [
    "Altura de uma pessoa com 80 kg:"
   ]
  },
  {
   "cell_type": "code",
   "execution_count": 28,
   "id": "285c4fea-064b-4996-9741-d792b8721897",
   "metadata": {},
   "outputs": [
    {
     "data": {
      "text/plain": [
       "187.14887662"
      ]
     },
     "execution_count": 28,
     "metadata": {},
     "output_type": "execute_result"
    }
   ],
   "source": [
    "(lambda x: 60.29494382 + 1.58567416*x)(80)"
   ]
  },
  {
   "cell_type": "markdown",
   "id": "e72cbfc6-4cf1-49a2-bd6d-cd92b5d71ff6",
   "metadata": {},
   "source": [
    "Aproximadamente 187.15 cm segundo o modelo."
   ]
  },
  {
   "cell_type": "markdown",
   "id": "9f78880f-0925-4e92-83dc-d4e75426da51",
   "metadata": {},
   "source": [
    "Comparação"
   ]
  },
  {
   "cell_type": "markdown",
   "id": "380cbba5-e472-4350-94cf-f8341ffc772f",
   "metadata": {},
   "source": [
    "Ocorrem pequenas divergências entre os dois modelos.\n",
    "\n",
    "Alturas: 189.7 vs 187.15 \\\n",
    "Pesos: 72.25 vs 72.34"
   ]
  },
  {
   "cell_type": "code",
   "execution_count": 29,
   "id": "3bcb9e6e-d92b-484d-ab70-6bad79e32ad8",
   "metadata": {},
   "outputs": [
    {
     "data": {
      "text/plain": [
       "0.8365542633623775"
      ]
     },
     "execution_count": 29,
     "metadata": {},
     "output_type": "execute_result"
    }
   ],
   "source": [
    "media_pesos = sum(pesos)/len(pesos)\n",
    "soma_quadrados_pesos = sum([(media_pesos - y)**2 for y in pesos])\n",
    "soma_quadrados_reta_2b = sum([(phi - y)**2 for phi, y in zip(reta_2b, pesos)])\n",
    "\n",
    "1 - soma_quadrados_reta_2b / soma_quadrados_pesos"
   ]
  },
  {
   "cell_type": "code",
   "execution_count": 30,
   "id": "d0895274-65c5-4136-b81f-2265faeaaf24",
   "metadata": {},
   "outputs": [
    {
     "data": {
      "text/plain": [
       "0.8365542633623858"
      ]
     },
     "execution_count": 30,
     "metadata": {},
     "output_type": "execute_result"
    }
   ],
   "source": [
    "media_alturas = sum(alturas)/len(alturas)\n",
    "soma_quadrados_alturas = sum([(media_alturas - y)**2 for y in alturas])\n",
    "soma_quadrados_reta_2d = sum([(phi - y)**2 for phi, y in zip(reta_2d, alturas)])\n",
    "\n",
    "1 - soma_quadrados_reta_2d / soma_quadrados_alturas"
   ]
  },
  {
   "cell_type": "markdown",
   "id": "04ccf38b-3488-43a2-9743-f95ee2aca93c",
   "metadata": {},
   "source": [
    "As duas retas tem $R^2 = 0.84$ aproximadamente, o que indica que elas têm a mesma precisão."
   ]
  },
  {
   "cell_type": "markdown",
   "id": "8d26b6b9-7ec9-4ddd-8588-d13fde67a46e",
   "metadata": {},
   "source": [
    "---"
   ]
  },
  {
   "cell_type": "markdown",
   "id": "a29dd450-0fe7-41a5-806b-8c273202c4a3",
   "metadata": {},
   "source": [
    "### 4) O número de bactérias por unidade de volume, existente em uma cultura após x horas é apresentado na tabela:"
   ]
  },
  {
   "cell_type": "code",
   "execution_count": 33,
   "id": "f63cd4f0-f9c5-446f-b0ca-82af29a5e695",
   "metadata": {},
   "outputs": [],
   "source": [
    "horas =     [0.0, 1, 2, 3, 4, 5, 6]\n",
    "bacterias = [32, 47, 65, 92, 132, 190, 275]"
   ]
  },
  {
   "cell_type": "markdown",
   "id": "0d9ec466-9da8-45b0-a37b-2522b817b27e",
   "metadata": {},
   "source": [
    "#### a) verifique que uma curva para se ajustar ao diagrama de dispersão é do tipo exponencial."
   ]
  },
  {
   "cell_type": "code",
   "execution_count": 34,
   "id": "a3d39f03-bd03-4737-adeb-bdb8cf6f2465",
   "metadata": {},
   "outputs": [
    {
     "data": {
      "text/plain": [
       "<matplotlib.collections.PathCollection at 0x114f23c8eb0>"
      ]
     },
     "execution_count": 34,
     "metadata": {},
     "output_type": "execute_result"
    },
    {
     "data": {
      "image/png": "[encoded data removed]",
      "text/plain": [
       "<Figure size 432x288 with 1 Axes>"
      ]
     },
     "metadata": {
      "needs_background": "light"
     },
     "output_type": "display_data"
    }
   ],
   "source": [
    "fig, ax = plt.subplots()\n",
    "\n",
    "ax.scatter(x=horas, y=bacterias)"
   ]
  },
  {
   "cell_type": "markdown",
   "id": "540a1dc5-86f0-4de4-b03e-109d54a17652",
   "metadata": {},
   "source": [
    "#### b) ajuste aos dados as curvas $y \\approx ae^{bx}$ e $y \\approx ax^b$. Escolha uma das curvas para representar os dados e justifique."
   ]
  },
  {
   "cell_type": "markdown",
   "id": "79cfda07-f2b9-4d82-82a6-0c26b038bec8",
   "metadata": {},
   "source": [
    "##### $y = ae^{bx}$"
   ]
  },
  {
   "cell_type": "markdown",
   "id": "b775d517-874a-4470-9c9f-ee4d292b9227",
   "metadata": {},
   "source": [
    "Linearizando\n",
    "$$\n",
    "z = \\ln(y) = \\ln(ae^{bx}) \\\\\n",
    "z = \\ln(a) + bx \\\\\n",
    "t = \\ln(a) \\\\\n",
    "z = t + bx\n",
    "$$"
   ]
  },
  {
   "cell_type": "code",
   "execution_count": 35,
   "id": "380f0eaa-eef8-46c5-a3a4-eb8afe2c25eb",
   "metadata": {},
   "outputs": [
    {
     "data": {
      "text/latex": [
       "$\\displaystyle \\left[\\begin{matrix}3.4703145086034\\\\0.355545470649718\\end{matrix}\\right]$"
      ],
      "text/plain": [
       "Matrix([\n",
       "[  3.4703145086034],\n",
       "[0.355545470649718]])"
      ]
     },
     "execution_count": 35,
     "metadata": {},
     "output_type": "execute_result"
    }
   ],
   "source": [
    "from math import log\n",
    "equacoes_normais(lista_x=horas, lista_y=[log(y) for y in bacterias], grau=1)"
   ]
  },
  {
   "cell_type": "markdown",
   "id": "5a860365-a635-4f29-9f48-458c806303d4",
   "metadata": {},
   "source": [
    "$$\n",
    "t = 3.470315 \\\\\n",
    "b = 0.355545\n",
    "$$"
   ]
  },
  {
   "cell_type": "markdown",
   "id": "ef77f328-c512-4659-9c2d-08b304d5f4e7",
   "metadata": {},
   "source": [
    "Voltando para as variáveis iniciais\n",
    "$$\n",
    "\\ln(a) = t \\\\\n",
    "\\ln(a) = 3.470315 \\\\\n",
    "e^{\\ln(a)} = e^{3.470315} \\\\\n",
    "a = e^{3.470315}\n",
    "$$"
   ]
  },
  {
   "cell_type": "code",
   "execution_count": 36,
   "id": "b569172f-aca9-46c6-8ed0-02e001454f9c",
   "metadata": {},
   "outputs": [
    {
     "data": {
      "text/plain": [
       "32.1468671131748"
      ]
     },
     "execution_count": 36,
     "metadata": {},
     "output_type": "execute_result"
    }
   ],
   "source": [
    "from math import exp\n",
    "exp(3.470315)"
   ]
  },
  {
   "cell_type": "markdown",
   "id": "8f5c7bf7-ecf7-4847-8691-d1db4d4fb59d",
   "metadata": {},
   "source": [
    "$$\n",
    "a = 32.146867 \\\\\n",
    "y(x) = 32.146867 \\cdot e^{0.355545x}\n",
    "$$"
   ]
  },
  {
   "cell_type": "code",
   "execution_count": 37,
   "id": "052310a1-3f0f-443b-8dc4-2320989ad25c",
   "metadata": {},
   "outputs": [
    {
     "data": {
      "text/plain": [
       "[<matplotlib.lines.Line2D at 0x114f246eca0>]"
      ]
     },
     "execution_count": 37,
     "metadata": {},
     "output_type": "execute_result"
    },
    {
     "data": {
      "image/png": "[encoded data removed]",
      "text/plain": [
       "<Figure size 432x288 with 1 Axes>"
      ]
     },
     "metadata": {
      "needs_background": "light"
     },
     "output_type": "display_data"
    }
   ],
   "source": [
    "fig, ax = plt.subplots()\n",
    "\n",
    "exponencial = [32.146867 * exp(0.355545*x) for x in horas]\n",
    "exponencial_curva = [32.146867 * exp(0.355545*x) for x in np.linspace(-0.2, 6.2, 100)]\n",
    "\n",
    "ax.scatter(x=horas, y=bacterias, zorder=2)\n",
    "ax.plot(np.linspace(-0.2, 6.2, 100), exponencial_curva, c='orange', zorder=1)"
   ]
  },
  {
   "cell_type": "code",
   "execution_count": 38,
   "id": "aacf7e0d-aa94-4def-9d29-53b369292402",
   "metadata": {},
   "outputs": [
    {
     "data": {
      "text/plain": [
       "[0.021569915689000088,\n",
       " 1.27185757854848,\n",
       " 0.2095410631586153,\n",
       " 1.9753689338512268,\n",
       " 1.653042267002652,\n",
       " 0.03729676486337812,\n",
       " 12.977105566095988]"
      ]
     },
     "execution_count": 38,
     "metadata": {},
     "output_type": "execute_result"
    }
   ],
   "source": [
    "[(phi - y)**2 for phi, y in zip(exponencial, bacterias)]"
   ]
  }
 ],
 "metadata": {
  "kernelspec": {
   "display_name": "Python 3 (ipykernel)",
   "language": "python",
   "name": "python3"
  },
  "language_info": {
   "codemirror_mode": {
    "name": "ipython",
    "version": 3
   },
   "file_extension": ".py",
   "mimetype": "text/x-python",
   "name": "python",
   "nbconvert_exporter": "python",
   "pygments_lexer": "ipython3",
   "version": "3.9.5"
  }
 },
 "nbformat": 4,
 "nbformat_minor": 5
}
