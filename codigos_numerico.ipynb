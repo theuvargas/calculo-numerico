{
 "cells": [
  {
   "cell_type": "code",
   "execution_count": 46,
   "id": "5fcdfe3f-8cd2-4e3a-b8ca-dc123b89a6ba",
   "metadata": {},
   "outputs": [],
   "source": [
    "import sympy as sp\n",
    "\n",
    "def polinomio_lagrange(pontos):\n",
    "    x = sp.symbols('x')\n",
    "    expr = 0\n",
    "    \n",
    "    for ponto in pontos:\n",
    "        outros_pontos = [outro for outro in pontos if outro != ponto]\n",
    "        sub_expr = ponto[1]\n",
    "        \n",
    "        for xi, yi in outros_pontos:\n",
    "            sub_expr *= (x-xi)/(ponto[0]-xi)\n",
    "            \n",
    "        expr += sub_expr\n",
    "        \n",
    "    return sp.simplify(expr)"
   ]
  },
  {
   "cell_type": "code",
   "execution_count": 48,
   "id": "17e31853-253e-4473-889d-c45a842aebc6",
   "metadata": {},
   "outputs": [],
   "source": [
    "import sympy as sp\n",
    "\n",
    "def polinomio_lagrange_print(pontos):\n",
    "    x = sp.symbols('x')\n",
    "    expr = 0\n",
    "    \n",
    "    for ponto in pontos:\n",
    "        outros_pontos = [outro for outro in pontos if outro != ponto]\n",
    "        sub_expr = ponto[1]\n",
    "        \n",
    "        for xi, yi in outros_pontos:\n",
    "            sub_expr *= (x-xi)/(ponto[0]-xi)\n",
    "            print(f'\\\\frac{{{x}-{xi}}}{{{ponto[0]}-{xi}}}', end=' \\cdot ')\n",
    "            \n",
    "        print(ponto[1])\n",
    "        expr += sub_expr\n",
    "        \n",
    "    return sp.simplify(expr)"
   ]
  },
  {
   "cell_type": "code",
   "execution_count": 2,
   "id": "5569106d-e88d-4795-b75d-c9d65cf5e5e2",
   "metadata": {},
   "outputs": [],
   "source": [
    "def divided_differences(points):\n",
    "    if len(points) == 1:\n",
    "        return points[0][1]\n",
    "    \n",
    "    return (divided_differences(points[1:]) - divided_differences(points[:-1]))/(points[len(points)-1][0] - points[0][0])"
   ]
  },
  {
   "cell_type": "code",
   "execution_count": 3,
   "id": "01bac987-4751-412b-9a44-c04a99e9e481",
   "metadata": {},
   "outputs": [],
   "source": [
    "def newton_polynomial(points):\n",
    "    x = sp.symbols('x')\n",
    "    expr = 0\n",
    "    \n",
    "    for i in range(1, len(points)+1):\n",
    "        sub_expr = divided_differences(points[:i])\n",
    "        for j in range(i-1):\n",
    "            sub_expr *= (x - points[j][0])\n",
    "        \n",
    "        expr += sub_expr\n",
    "    \n",
    "    return sp.simplify(expr)"
   ]
  },
  {
   "cell_type": "markdown",
   "id": "67aea8ec-bcaf-47d6-a553-e0abea54259d",
   "metadata": {},
   "source": [
    "---"
   ]
  },
  {
   "cell_type": "code",
   "execution_count": 8,
   "id": "3e6e38ba-2e24-4555-b20a-d931d54794c9",
   "metadata": {},
   "outputs": [],
   "source": [
    "import sympy as sp\n",
    "def equacoes_normais(lista_x, lista_y, grau):\n",
    "    vandermonde = [[x**p for p in range(grau+1)] for x in lista_x] # cria a matriz de Vandermonde\n",
    "    \n",
    "    phi = sp.Matrix(vandermonde)\n",
    "    y = sp.Matrix(lista_y) # matriz coluna dos valores de f(x)\n",
    "    \n",
    "    A = phi.T * phi\n",
    "    B = phi.T * y\n",
    "    \n",
    "    return A.gauss_jordan_solve(B)[0] # resolve Ax = B e retorna x"
   ]
  },
  {
   "cell_type": "code",
   "execution_count": 5,
   "id": "d00ae282-b13d-4dd6-85bf-2c64604eb918",
   "metadata": {},
   "outputs": [],
   "source": [
    "import sympy as sp\n",
    "def equacoes_normais_print(lista_x, lista_y, grau):\n",
    "    vandermonde = [[x**p for p in range(grau+1)] for x in lista_x] # cria a matriz de Vandermonde\n",
    "    \n",
    "    phi = sp.Matrix(vandermonde)\n",
    "    print(f'\\phi = {sp.latex(phi)}', end=' \\quad\\n')\n",
    "    \n",
    "    y = sp.Matrix(lista_y) # matriz coluna dos valores de f(x)\n",
    "    print(f'y = {sp.latex(y)}', end=' \\\\\\\\\\n')\n",
    "    \n",
    "    A = phi.T * phi\n",
    "    print(f'\\phi^T \\cdot \\phi = {sp.latex(A)}', end=' \\\\\\\\\\n')\n",
    "    \n",
    "    B = phi.T * y\n",
    "    print(f'\\phi^T \\cdot y = {sp.latex(B)}', end=' \\\\\\\\\\n')\n",
    "    \n",
    "    print(f'{sp.latex(A.gauss_jordan_solve(B)[0])}')"
   ]
  },
  {
   "cell_type": "markdown",
   "id": "ab14c05f-ea79-4ea7-979e-01eb5eae0bc5",
   "metadata": {},
   "source": [
    "---"
   ]
  },
  {
   "cell_type": "code",
   "execution_count": 1,
   "id": "af240a60-74e6-4dd9-b785-9c9ec767bd7b",
   "metadata": {},
   "outputs": [],
   "source": [
    "from numpy import linspace\n",
    "def regra_trapezio(f, a, b, intervalos):\n",
    "    soma = f(a) + f(b) # inicializa a soma com o valor de f(a) + f(b)\n",
    "    \n",
    "    for x in linspace(a, b, intervalos+1)[1:-1]: # divide [a, b] em intervalos\n",
    "        soma += 2 * f(x)\n",
    "    \n",
    "    delta_x = (b-a)/intervalos\n",
    "    \n",
    "    return (delta_x/2) * soma"
   ]
  },
  {
   "cell_type": "code",
   "execution_count": 6,
   "id": "ee8c1035-8e19-4a96-9dd1-22b397c6e0f1",
   "metadata": {},
   "outputs": [],
   "source": [
    "from numpy import linspace\n",
    "def simpson_terco(f, a, b, intervalos):\n",
    "    delta_x = (b-a)/intervalos # tamanho dos intervalos\n",
    "\n",
    "    soma = f(a) + f(b)\n",
    "    for i, x in enumerate(linspace(a, b, intervalos+1)[1:-1], start=1):\n",
    "        if i % 2 == 0:\n",
    "            soma += 2 * f(x)\n",
    "        else:\n",
    "            soma += 4 * f(x)\n",
    "\n",
    "    return (delta_x/3) * soma"
   ]
  },
  {
   "cell_type": "code",
   "execution_count": 7,
   "id": "7f51950e-2daf-410a-bcaa-f839fe79ef4b",
   "metadata": {},
   "outputs": [],
   "source": [
    "from numpy import arange\n",
    "def simpson_terco_h(f, a, b, h):\n",
    "    soma = f(a) + f(b)\n",
    "    \n",
    "    for i, x in enumerate(arange(a+h, b, h), start=1):\n",
    "        if i % 2 == 0:\n",
    "            soma += 2 * f(x)\n",
    "        else:\n",
    "            soma += 4 * f(x)\n",
    "    \n",
    "    return h/3 * soma"
   ]
  },
  {
   "cell_type": "code",
   "execution_count": 8,
   "id": "6a8d0e6f-765b-4a58-8d58-fa9801256590",
   "metadata": {},
   "outputs": [],
   "source": [
    "from numpy import arange\n",
    "def simpson_terco_h_print(f, a, b, h):  \n",
    "    print(f'(f({a}) + ', end='')\n",
    "    \n",
    "    for i, x in enumerate(arange(a+h, b, h), start=1):\n",
    "        if i % 2 == 0:\n",
    "            print(f'2*f({x}) + ', end='')\n",
    "        else:\n",
    "            print(f'4*f({x}) + ', end='')\n",
    "    \n",
    "    print(f'f({b})) * {h}/3')\n",
    "    \n",
    "    print(f'({f(a)} + ', end='')\n",
    "    \n",
    "    for i, x in enumerate(arange(a+h, b, h), start=1):\n",
    "        if i % 2 == 0:\n",
    "            print(f'{2*f(x)} + ', end='')\n",
    "        else:\n",
    "            print(f'{4*f(x)} + ', end='')\n",
    "    \n",
    "    print(f'{f(b)}) * {h/3} = ')\n",
    "    \n",
    "    return simpson_terco_h(f, a, b, h)"
   ]
  },
  {
   "cell_type": "code",
   "execution_count": 9,
   "id": "214919a8-a809-41bb-aa48-e2fa150367b2",
   "metadata": {},
   "outputs": [],
   "source": [
    "def erro_trapezio(a, b, M, n):\n",
    "    return (M * (b-a)**3) / (12 * n**2)"
   ]
  },
  {
   "cell_type": "code",
   "execution_count": 10,
   "id": "a0c88e48-1e25-48f1-b476-b7af670e6f36",
   "metadata": {},
   "outputs": [],
   "source": [
    "def erro_simpson(a, b, M, n):\n",
    "    return (M * (b-a)**5) / (180 * n**4)"
   ]
  },
  {
   "cell_type": "code",
   "execution_count": 11,
   "id": "433e2c0c-4cd7-495c-8de6-cbaa91f33bbf",
   "metadata": {},
   "outputs": [],
   "source": [
    "def simpson_terco_discreto(x, fx):\n",
    "    delta_x = x[1] - x[0] # descobre o tamanho do intervalo\n",
    "    \n",
    "    soma = fx[0] + fx[-1]\n",
    "    for i, y in enumerate(fx[1:-1], start=1):\n",
    "        if i % 2 == 0:\n",
    "            soma += 2 * y\n",
    "        else:\n",
    "            soma += 4 * y\n",
    "    \n",
    "    return (delta_x/3) * soma"
   ]
  },
  {
   "cell_type": "markdown",
   "id": "343bc39b-3f61-4453-ab93-f5842525c305",
   "metadata": {},
   "source": [
    "---"
   ]
  },
  {
   "cell_type": "code",
   "execution_count": 12,
   "id": "96956484-4564-434b-93ea-0173eb7ecf49",
   "metadata": {},
   "outputs": [],
   "source": [
    "from numpy import arange\n",
    "\n",
    "def euler(x0, x_f, h, f, y0):\n",
    "    resultado = y0\n",
    "    for x in arange(x0, x_f, h):\n",
    "        resultado = resultado + h * f(x, resultado)\n",
    "        \n",
    "    return resultado"
   ]
  },
  {
   "cell_type": "code",
   "execution_count": 13,
   "id": "dc5068cb-d84b-4041-b783-242dbcb6cc89",
   "metadata": {},
   "outputs": [],
   "source": [
    "from numpy import arange\n",
    "def heun(x0, x_f, h, f, y0):\n",
    "    resultado = y0\n",
    "    \n",
    "    for x in arange(x0, x_f, h):\n",
    "        intermediario = resultado + (h * f(x, resultado))\n",
    "        resultado = resultado + (h/2 * (f(x, resultado) + f(x+h, intermediario)))\n",
    "        \n",
    "    return resultado"
   ]
  }
 ],
 "metadata": {
  "kernelspec": {
   "display_name": "Python 3 (ipykernel)",
   "language": "python",
   "name": "python3"
  },
  "language_info": {
   "codemirror_mode": {
    "name": "ipython",
    "version": 3
   },
   "file_extension": ".py",
   "mimetype": "text/x-python",
   "name": "python",
   "nbconvert_exporter": "python",
   "pygments_lexer": "ipython3",
   "version": "3.9.5"
  }
 },
 "nbformat": 4,
 "nbformat_minor": 5
}
