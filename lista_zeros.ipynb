{
 "cells": [
  {
   "cell_type": "markdown",
   "id": "359b11af-7761-4a45-937a-ba49699ee79c",
   "metadata": {},
   "source": [
    "### 1. Utilize o método da bissecção para encontrar uma solução com precisão de $10^{−5}$ para os seguintes problemas:\n",
    "\n",
    "##### (b) $x \\cos(x) − 2x^2 + 3x − 1 = 0$ para $0.2 ≤ x ≤ 0.3$ e $1.2 ≤ x ≤ 1.3$."
   ]
  },
  {
   "cell_type": "code",
   "execution_count": 1,
   "id": "0775afa2-d47c-417d-bd06-401aa7f6647b",
   "metadata": {},
   "outputs": [
    {
     "name": "stdout",
     "output_type": "stream",
     "text": [
      "Raiz de f(x) no intervalo [0.2, 0.3]: 0.29752807617187504\n",
      "Raiz de f(x) no intervalo [1.2, 1.3]: 1.256622314453125\n"
     ]
    }
   ],
   "source": [
    "from math import cos\n",
    "\n",
    "def funcao(x):\n",
    "    return x * cos(x) - 2*x**2 + 3*x - 1\n",
    "\n",
    "# a e b são os intervalos, f é a função para a qual queremos encontrar a raiz\n",
    "def bissecao(a, b, f, precisao, max_iteracoes):\n",
    "    for k in range(0, max_iteracoes):\n",
    "        p = (a+b)/2 # a possível raiz é o ponto médio entre a e b\n",
    "        fp = f(p) # pega o valor da possível raiz\n",
    "        if fp == 0 or abs(fp) < precisao: # se f(p) estiver dentro da precisão, p é um 0\n",
    "            return p\n",
    "        if f(a) * fp < 0: # se houver 0 no intervalo [a,p] então [a,p] é o novo intervalo\n",
    "            b = p\n",
    "        else: # caso contrário, [p, b] é o novo intervalo\n",
    "            a = p\n",
    "    return f'não foi encontrada uma raiz de f no intervalo com precisão de {precisao} e \\\n",
    "            número de iterações {max_iteracoes}'\n",
    "\n",
    "print(f'Raiz de f(x) no intervalo [0.2, 0.3]: {bissecao(0.2, 0.3, funcao, 10**-5, 100)}')\n",
    "print(f'Raiz de f(x) no intervalo [1.2, 1.3]: {bissecao(1.2, 1.3, funcao, 10**-5, 100)}')"
   ]
  },
  {
   "cell_type": "markdown",
   "id": "be0f829f-256a-4d1b-bc68-978f9bdd5282",
   "metadata": {},
   "source": [
    "### 3. Para cada uma das equações a seguir determine uma função de iteração φ(x) e um intervalo [a, b] no qual as iterações convergirão para uma solução positiva da equação:\n",
    "##### (a) $3x^2 − e^x = 0$\n",
    "##### Encontre as soluções com precisão de $10^{−2}$ usando o método do ponto fixo com a função de iteração escolhida."
   ]
  },
  {
   "cell_type": "markdown",
   "id": "74d409d8-a4b4-4120-bed2-f1b38d02b8c8",
   "metadata": {},
   "source": [
    "Definindo a função no Python"
   ]
  },
  {
   "cell_type": "code",
   "execution_count": 2,
   "id": "58a62b7c-76e3-4ca4-9433-103ff4cd04a4",
   "metadata": {},
   "outputs": [],
   "source": [
    "from math import exp\n",
    "\n",
    "def funcao_3(x):\n",
    "    return 3*x**2 - exp(x)"
   ]
  },
  {
   "cell_type": "markdown",
   "id": "0e60bff1-955e-4c33-b3e9-84c590c5ac99",
   "metadata": {},
   "source": [
    "Escolhendo o intervalo"
   ]
  },
  {
   "cell_type": "code",
   "execution_count": 3,
   "id": "4bf107ef-1e8b-4184-937a-3fa0a0b12d59",
   "metadata": {},
   "outputs": [
    {
     "name": "stdout",
     "output_type": "stream",
     "text": [
      "6.914463076812332\n",
      "-6.598150033144236\n"
     ]
    }
   ],
   "source": [
    "print(funcao_3(3))\n",
    "print(funcao_3(4))"
   ]
  },
  {
   "cell_type": "markdown",
   "id": "a0489b7d-20d6-48e2-9fcf-05e263ee22df",
   "metadata": {},
   "source": [
    "O intervalo [3, 4] tem uma raiz de $f(x)$ (sinal muda)."
   ]
  },
  {
   "cell_type": "markdown",
   "id": "8640c469-49b6-4849-b0f4-8727e54e4216",
   "metadata": {},
   "source": [
    "Agora é preciso definir a função de iteração.\n",
    "$$\n",
    "3x^2 - e^x = 0 \\\\\n",
    "e^x = 3x^2 \\\\\n",
    "g(x) = \\ln(3x^2) \\\\\n",
    "$$\n",
    "A derivada da função é\n",
    "$$\n",
    "g'(x) = \\frac{2}{x}\n",
    "$$\n",
    "E ela tem que ser menor do que 1 em módulo em todo o intervalo $3 < x < 4$, o que claramente é verdade.\n"
   ]
  },
  {
   "cell_type": "markdown",
   "id": "1d955e43-2d38-41ca-ab4e-429234b21d23",
   "metadata": {},
   "source": [
    "Definindo a função $g(x)$ em Python"
   ]
  },
  {
   "cell_type": "code",
   "execution_count": 4,
   "id": "463c7456-28f9-44af-a03e-13a93f1354fd",
   "metadata": {},
   "outputs": [],
   "source": [
    "from math import log\n",
    "\n",
    "def g(x):\n",
    "    return log(3*x**2)"
   ]
  },
  {
   "cell_type": "markdown",
   "id": "f1998f07-09e3-435a-adf5-9bc2f23b7cd3",
   "metadata": {},
   "source": [
    "Aplicando o método do ponto fixo"
   ]
  },
  {
   "cell_type": "code",
   "execution_count": 5,
   "id": "8589d615-202b-418f-81f9-a4e72628c99c",
   "metadata": {},
   "outputs": [
    {
     "name": "stdout",
     "output_type": "stream",
     "text": [
      "3.7325920355902507\n"
     ]
    }
   ],
   "source": [
    "# x_0 é o palpite inicial, g é a função de iteração \n",
    "# e f é a função para a qual queremos encontrar a raiz\n",
    "def ponto_fixo(x_0, g, f, precisao, max_iteracoes):\n",
    "    x = g(x_0)\n",
    "    for i in range(max_iteracoes):\n",
    "        if abs(f(x)) < precisao: # se f(x) estiver perto o suficiente de 0, retorna x\n",
    "            return x\n",
    "        x = g(x) # utiliza a função de iteração g\n",
    "    return f'não foi possível encontrar o zero da função com precisao de {precisao}'\n",
    "\n",
    "print(ponto_fixo(3.5, g, funcao_3, 10**-2, 100))"
   ]
  },
  {
   "cell_type": "markdown",
   "id": "c4fd0e12-d0ae-420d-bcd8-cea2d47eec64",
   "metadata": {},
   "source": [
    "Então 3.732592 é aproximadamente um zero da função."
   ]
  },
  {
   "cell_type": "markdown",
   "id": "aefe9784-7b7a-4b45-9eb1-410c3a9e5fbe",
   "metadata": {},
   "source": [
    "##### (b) x − cos(x) = 0"
   ]
  },
  {
   "cell_type": "markdown",
   "id": "633be7d7-c7f6-4d9d-b13a-d9ef7ca37662",
   "metadata": {},
   "source": [
    "Definindo a função e o intervalo:"
   ]
  },
  {
   "cell_type": "code",
   "execution_count": 6,
   "id": "5538af33-3781-4615-b618-9179d677d32f",
   "metadata": {},
   "outputs": [
    {
     "name": "stdout",
     "output_type": "stream",
     "text": [
      "-1.0\n",
      "0.45969769413186023\n"
     ]
    }
   ],
   "source": [
    "from math import cos\n",
    "\n",
    "def funcao_3_b(x):\n",
    "    return x-cos(x)\n",
    "\n",
    "print(funcao_3_b(0))\n",
    "print(funcao_3_b(1))"
   ]
  },
  {
   "cell_type": "markdown",
   "id": "4b25b135-2899-4a02-8787-7742fee6fb20",
   "metadata": {},
   "source": [
    "Então há um zero da função no intervalo [0, 1]. Definindo a função iterativa $g(x)$:\n",
    "$$\n",
    "g(x) = \\cos(x)\n",
    "$$\n",
    "\n",
    "E a sua derivada, $-\\mathrm{sen}(x)$ tem ser ser menor do que $1$ em módulo no intervalo, o que é verdade."
   ]
  },
  {
   "cell_type": "markdown",
   "id": "426cde0b-f639-481a-9b6f-4a94da75db44",
   "metadata": {},
   "source": [
    "Basta agora usar a função do ponto fixo definida na letra a) com os novos parâmetros para encontrar a resposta:"
   ]
  },
  {
   "cell_type": "code",
   "execution_count": 7,
   "id": "7f4dea5a-d001-4089-a1fc-6adb38161d87",
   "metadata": {},
   "outputs": [
    {
     "name": "stdout",
     "output_type": "stream",
     "text": [
      "0.7442373549005569\n"
     ]
    }
   ],
   "source": [
    "from math import cos\n",
    "\n",
    "def g(x):\n",
    "    return cos(x)\n",
    "\n",
    "print(ponto_fixo(0, g, funcao_3_b, 10**-2, 100))"
   ]
  },
  {
   "cell_type": "markdown",
   "id": "ad6b0151-6efc-41af-98a3-4b93d36f19d3",
   "metadata": {},
   "source": [
    "Então 0.744237 é aproximadamente um zero da função."
   ]
  }
 ],
 "metadata": {
  "kernelspec": {
   "display_name": "Python 3 (ipykernel)",
   "language": "python",
   "name": "python3"
  },
  "language_info": {
   "codemirror_mode": {
    "name": "ipython",
    "version": 3
   },
   "file_extension": ".py",
   "mimetype": "text/x-python",
   "name": "python",
   "nbconvert_exporter": "python",
   "pygments_lexer": "ipython3",
   "version": "3.9.5"
  }
 },
 "nbformat": 4,
 "nbformat_minor": 5
}
