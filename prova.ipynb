{
 "cells": [
  {
   "cell_type": "markdown",
   "id": "bd303e7b-2a31-45d0-b039-d42c05bf3bb5",
   "metadata": {},
   "source": [
    "a=0.0451479, b=0.0000125, c=0.0034543."
   ]
  },
  {
   "cell_type": "markdown",
   "id": "2f40d5c5-ad77-4909-af4a-cefb2f144469",
   "metadata": {},
   "source": [
    "### 1)"
   ]
  },
  {
   "cell_type": "markdown",
   "id": "c57ef25d-a220-4ece-bc5e-d1e11a850dab",
   "metadata": {},
   "source": [
    "#### a)"
   ]
  },
  {
   "cell_type": "markdown",
   "id": "9dd67d88-56fe-472b-8b1f-381bc75bbffb",
   "metadata": {},
   "source": [
    "a = $4.515 \\cdot 10^{-2}$"
   ]
  },
  {
   "cell_type": "markdown",
   "id": "eaad92c6-95b5-410c-9928-5c82c2955c14",
   "metadata": {},
   "source": [
    "b = $1.250 \\cdot 10^{-5}$"
   ]
  },
  {
   "cell_type": "markdown",
   "id": "60d195ed-b3c8-4e13-befc-2a578ad4d467",
   "metadata": {},
   "source": [
    "c = $3.454 \\cdot 10^{-3}$"
   ]
  },
  {
   "cell_type": "markdown",
   "id": "9b9e1458-6e01-4972-9bce-bf4e9c2eb9ec",
   "metadata": {},
   "source": [
    "#### b)"
   ]
  },
  {
   "cell_type": "markdown",
   "id": "f1603928-bf1c-4633-9bc2-cf7245617cff",
   "metadata": {},
   "source": [
    "(a + b)+c"
   ]
  },
  {
   "cell_type": "markdown",
   "id": "625b97fb-eeca-4b34-b1c6-bc7b91fc83b2",
   "metadata": {},
   "source": [
    "a+b:\n",
    "$$\n",
    "4.515 \\cdot 10^{-2} + 1.250 \\cdot 10^{-5} = \\\\\n",
    "4.515 \\cdot 10^{-2} + 0.001250 \\cdot 10^{-2} = 4.51625 \\cdot 10^{-2} \\\\\n",
    "4.516 \\cdot 10^{-2}\n",
    "$$"
   ]
  },
  {
   "cell_type": "markdown",
   "id": "dab5a7ed-e357-4a92-9d0a-bb8b2b17e056",
   "metadata": {},
   "source": [
    "(a+b)+c:\n",
    "$$\n",
    "4.516 \\cdot 10^{-2} + 3.454 \\cdot 10^{-3} \\\\\n",
    "4.516 \\cdot 10^{-2} + 0.3454 \\cdot 10^{-2} = 4.8614 \\cdot 10^{-2} \\\\\n",
    "4.861 \\cdot 10^{-2}\n",
    "$$"
   ]
  },
  {
   "cell_type": "markdown",
   "id": "7b0c5f6d-822b-42af-ac3c-5b2769fb4aaf",
   "metadata": {},
   "source": [
    "a+(b+c)"
   ]
  },
  {
   "cell_type": "markdown",
   "id": "d8bb7876-940f-482b-bb1c-409dbb1a5282",
   "metadata": {},
   "source": [
    "b+c:\n",
    "$$\n",
    "1.250 \\cdot 10^{-5} + 3.454 \\cdot 10^{-3} \\\\\n",
    "0.01250 \\cdot 10^{-3} + 3.454 \\cdot 10^{-3} = 3.4665 \\cdot 10^{-3} \\\\\n",
    "3.467 \\cdot 10^{-3}\n",
    "$$"
   ]
  },
  {
   "cell_type": "markdown",
   "id": "2ec2d476-4d29-4a10-8f6f-9b0ce8e84592",
   "metadata": {},
   "source": [
    "a+(b+c):\n",
    "$$\n",
    "4.515 \\cdot 10^{-2} + 3.467 \\cdot 10^{-3} \\\\\n",
    "4.515 \\cdot 10^{-2} + 0.3467 \\cdot 10^{-2} = 4.8617 \\cdot 10^{-2} \\\\\n",
    "4.862 \\cdot 10^{-2}\n",
    "$$"
   ]
  },
  {
   "cell_type": "markdown",
   "id": "11344bd5-ba8c-47e4-96b4-868474b6bc6a",
   "metadata": {},
   "source": [
    "Podemos concluir que não há associatividade, pois ordenações diferentes nas operações muda os resultados."
   ]
  },
  {
   "cell_type": "markdown",
   "id": "9d62471b-6cd7-4304-9edf-9b2fc3b3f8de",
   "metadata": {},
   "source": [
    "Multiplicando pelo conjugado:\n",
    "$$\n",
    "\\frac{-1+\\sqrt{x^4-2}}{2} \\cdot \\frac{-1-\\sqrt{x^4-2}}{-1-\\sqrt{x^4-2}} = \\frac{3-x^4}{2(-1-\\sqrt{x^4-2}}\n",
    "$$"
   ]
  },
  {
   "cell_type": "markdown",
   "id": "722a0588-4dd2-4094-8731-37c626aaf942",
   "metadata": {},
   "source": [
    "### 2)"
   ]
  },
  {
   "cell_type": "markdown",
   "id": "e73e21d2-50d5-46ef-b9a2-f6c8bdb4e621",
   "metadata": {},
   "source": [
    "Ao redor de $\\pi/2$:"
   ]
  },
  {
   "cell_type": "markdown",
   "id": "1ec0e1f5-a643-4263-984e-b2a297237fdf",
   "metadata": {},
   "source": [
    "$$\n",
    "T_k(x) = \\sum_{n = 0}^{k} \\left( \\frac{ f^{(n)} (x_0) \\cdot (x - x_0)^n }{ n! } \\right)\n",
    "$$"
   ]
  },
  {
   "cell_type": "markdown",
   "id": "ad4c8e04-993a-43a8-9880-527b932daf61",
   "metadata": {},
   "source": [
    "$$\n",
    "T_4(x) = \\frac{ f^{(n)} (0) \\cdot (x)^n }{ n! }\n",
    "$$"
   ]
  },
  {
   "cell_type": "markdown",
   "id": "95c38dae-ae81-4501-99a1-33a8af244045",
   "metadata": {},
   "source": [
    "$$\n",
    "T_4(x) = \\cos(1) - (x - \\pi/2) \\sin(1) - \\frac{(x - \\pi/2)^2 \\cos(1)}{2} + \\frac{(x - \\pi/2)^3 \\sin(1)}{6} + \\frac{(x - \\pi/2)^4 \\cos(1)}{24}\n",
    "$$"
   ]
  },
  {
   "cell_type": "markdown",
   "id": "eb11e601-2f90-40ab-a925-2fded0319e94",
   "metadata": {},
   "source": [
    "$$\n",
    "T_4(0) = \\cos(1) - (-\\pi/2) \\sin(1) - \\frac{(-\\pi/2)^2 \\cos(1)}{2} + \\frac{(-\\pi/2)^3 \\sin(1)}{6} + \\frac{(-\\pi/2)^4 \\cos(1)}{24} \\\\\n",
    "T_4(0) = 0.7890087606877\n",
    "$$"
   ]
  },
  {
   "cell_type": "markdown",
   "id": "8af88b7b-0ea0-443f-8b04-65746fa1dd57",
   "metadata": {},
   "source": [
    "#### b)"
   ]
  },
  {
   "cell_type": "markdown",
   "id": "c7f8e164-a5e3-4fd8-89fc-94f32a19a7ad",
   "metadata": {},
   "source": [
    "$$\n",
    "R_n(x) \\leq \\frac{M \\cdot |x-x_0|^{n+1}}{(n+1)!}\n",
    "$$\n",
    "\n",
    "Onde $M$ é o valor máximo de $|f^{(5)}(x)|$ no intervalo $0 \\leqslant x \\leqslant 3$"
   ]
  },
  {
   "cell_type": "markdown",
   "id": "c039c77d-7615-462b-b7eb-9dc6da339315",
   "metadata": {},
   "source": [
    "$$\n",
    "f^{(5)}(x) = \\cos(x+1)\n",
    "$$"
   ]
  },
  {
   "cell_type": "markdown",
   "id": "1ffdfd84-6daa-47d8-9077-b2d7d04054e8",
   "metadata": {},
   "source": [
    "E o máximo será em $x = 0$"
   ]
  },
  {
   "cell_type": "markdown",
   "id": "243d887f-7eff-492b-a8bd-37b318873a98",
   "metadata": {},
   "source": [
    "$$\n",
    "R_4(x) \\leq \\frac{0.54 \\cdot |x-\\pi/2|^{5}}{5!} \\\\\n",
    "R_4(0) \\leq \\frac{0.54 \\cdot (\\pi/2)^{5}}{5!} \\\\\n",
    "R_4(0) \\leq 0.0430340\n",
    "$$"
   ]
  },
  {
   "cell_type": "markdown",
   "id": "710d73c2-0250-44fa-b239-bead87ff6441",
   "metadata": {},
   "source": [
    "### 3)"
   ]
  },
  {
   "cell_type": "markdown",
   "id": "686fda60-8b58-4dbf-a3d5-d1a4a8e12982",
   "metadata": {},
   "source": [
    "$$\n",
    "f(x) = x^3 + 4x^2 - 9 \\\\\n",
    "f(1) = -4 \\\\\n",
    "f(2) = 15\n",
    "$$\n",
    "\n",
    "Então há uma raiz no intervalo."
   ]
  },
  {
   "cell_type": "markdown",
   "id": "31e5a99b-302c-4243-a1ec-e0a0a832faf7",
   "metadata": {},
   "source": [
    "$$\n",
    "\\phi_1(x) = \\sqrt{\\frac{9}{4+x}} \\\\\n",
    "\\phi_1'(x) = \\frac{3}{2\\sqrt{(4+x)^3}}\n",
    "$$\n",
    "$\\phi_1'(x)$ tem que ser menor do que 1 para o intervalo, o que é claramente verdade."
   ]
  },
  {
   "cell_type": "markdown",
   "id": "13053d97-8383-4edf-b153-655548a83b4f",
   "metadata": {},
   "source": [
    "$$\n",
    "\\phi_2'(x) = | \\frac{-4x^2-9}{2x^2\\sqrt{\\frac{-4x^2+9}{x}}} |\n",
    "$$"
   ]
  },
  {
   "cell_type": "markdown",
   "id": "b1536bcc-5627-45a1-9187-11e2892f378d",
   "metadata": {},
   "source": [
    "$\\phi_2'(x)$ tem que ser menor do que 1 para o intervalo, o que é falso em $x=1$"
   ]
  },
  {
   "cell_type": "markdown",
   "id": "6d4dd8c5-d57f-44c1-ac01-f143f249a91a",
   "metadata": {},
   "source": [
    "#### a)\n",
    "A função $\\phi_1$, pois ela converge no intervalo."
   ]
  },
  {
   "cell_type": "markdown",
   "id": "2d7eb132-dbc1-413c-a5a3-650c36abdf76",
   "metadata": {},
   "source": [
    "a = 1, b = 2, p = 1.5, f(p) = 3.375"
   ]
  },
  {
   "cell_type": "markdown",
   "id": "c5a6ff5f-8f80-4543-be56-3be55491300f",
   "metadata": {},
   "source": [
    "a = 1, b = 1.5, p = 1.25, f(p) = -0.7968"
   ]
  },
  {
   "cell_type": "markdown",
   "id": "1fa9a642-5e45-433e-90b2-8ede9ba9cc4d",
   "metadata": {},
   "source": [
    "a = 1.25, b = 1.5, p = 1.375, f(p) = 1.1621"
   ]
  },
  {
   "cell_type": "markdown",
   "id": "42eb9aad-26ae-4bbd-b476-9d3c8823b147",
   "metadata": {},
   "source": [
    "#### b)"
   ]
  },
  {
   "cell_type": "markdown",
   "id": "75535f6a-7b1f-4574-aa13-06c38c460c69",
   "metadata": {},
   "source": [
    "p = 1.5, $\\phi$(p) = 1.2792, f($\\phi$(p)) = -0.3613"
   ]
  },
  {
   "cell_type": "markdown",
   "id": "062b7bc7-9bb1-4423-96f3-038bfad9079b",
   "metadata": {},
   "source": [
    "p = 1.2792, $\\phi$(p) = 1.3058, f($\\phi$(p)) = 0.0469"
   ]
  },
  {
   "cell_type": "markdown",
   "id": "bd4a7974-f89a-4a97-abbb-72e786567754",
   "metadata": {},
   "source": [
    "p = 1.3058, $\\phi$(p) = 1.3024, f($\\phi$(p)) = -0.0058"
   ]
  },
  {
   "cell_type": "markdown",
   "id": "7b9669af-7e4c-4f71-ba45-ace583772096",
   "metadata": {},
   "source": [
    "p = 1.3024, $\\phi$(p) = 1.3028, f($\\phi$(p)) = 0.0003"
   ]
  },
  {
   "cell_type": "markdown",
   "id": "5a1c6943-5f4f-4892-b26c-7c673858bba6",
   "metadata": {},
   "source": [
    "### 4)"
   ]
  },
  {
   "cell_type": "markdown",
   "id": "ae85514c-0df3-4649-a6f8-6ded756f6c16",
   "metadata": {},
   "source": [
    "#### a)"
   ]
  },
  {
   "cell_type": "markdown",
   "id": "c81edfb7-bcb9-4397-8c11-176e176192bd",
   "metadata": {},
   "source": [
    "Gauss-Seidel, pois ele converge mais rapidamente."
   ]
  },
  {
   "cell_type": "markdown",
   "id": "c3950b08-faff-4d1d-9251-429022d4a031",
   "metadata": {},
   "source": [
    "#### b)"
   ]
  },
  {
   "cell_type": "markdown",
   "id": "ba7ae266-15e4-4dcf-b066-7f6ecb4f3dd6",
   "metadata": {},
   "source": [
    "$$\n",
    "x_1 = \\frac{3-x_2-x_3}{3} \\\\\n",
    "x_2 = \\frac{x_1 - x_3}{4} \\\\\n",
    "x_3 = \\frac{-5-2x_1+x_2}{5}\n",
    "$$\n",
    "\n",
    "x_1 = 0, x_2 = 0, x_3 = 0"
   ]
  },
  {
   "cell_type": "markdown",
   "id": "e3408d20-5a41-4d84-8ba8-453dbe2d25d6",
   "metadata": {},
   "source": [
    "x_1 = 1, x_2 = 0.25, x_3 = -1.35"
   ]
  },
  {
   "cell_type": "markdown",
   "id": "fc2690bb-86ad-42c8-8825-dbd0dac805ac",
   "metadata": {},
   "source": [
    "x_1 = 1.3666, x_2 = 0.67916, x_3 = -1.41083"
   ]
  },
  {
   "cell_type": "markdown",
   "id": "c0e88218-2115-4abc-be07-cec9e4bd5cbe",
   "metadata": {},
   "source": [
    "x_1 = 1.24388, x_2 = 0.66368, x_3 = -1.36481"
   ]
  },
  {
   "cell_type": "markdown",
   "id": "534bf62d-c10b-4666-a6da-8f1d1680cba4",
   "metadata": {},
   "source": [
    "#### c)"
   ]
  },
  {
   "cell_type": "markdown",
   "id": "244841bd-267c-4797-a715-9b3f4518b3af",
   "metadata": {},
   "source": [
    "Primera iteração: M(0, 1) = -0.333..."
   ]
  },
  {
   "cell_type": "markdown",
   "id": "4d80272e-a4cc-4f51-b7ee-33dfa9b29e28",
   "metadata": {},
   "source": [
    "Segunda iteração: 0.666..."
   ]
  },
  {
   "cell_type": "markdown",
   "id": "4a5914da-3aa2-4b60-aa0f-168720e977a3",
   "metadata": {},
   "source": [
    "$$\n",
    "\\begin{bmatrix}\n",
    "3 & 1 & 1 & 3 \\\\\n",
    "0 & 4.333 & 1.333 & 1 \\\\\n",
    "0 & -1.666 & 4.333 & -7 \\\\\n",
    "\\end{bmatrix}\n",
    "$$"
   ]
  },
  {
   "cell_type": "markdown",
   "id": "268db4d9-db6d-48c4-8be0-b0a27906d24a",
   "metadata": {},
   "source": [
    "Terceira iteração: -0.38461"
   ]
  },
  {
   "cell_type": "markdown",
   "id": "e87d476e-73b4-4066-94ca-af292f9bcf13",
   "metadata": {},
   "source": [
    "$$\n",
    "\\begin{bmatrix}\n",
    "3 & 1 & 1 & 3 \\\\\n",
    "0 & 4.333 & 1.333 & 1 \\\\\n",
    "0 & 0 & 4.84615 & -6.61538 \\\\\n",
    "\\end{bmatrix}\n",
    "$$"
   ]
  },
  {
   "cell_type": "markdown",
   "id": "8dc9b4b9-8f3d-4fb1-b497-e29ae8e88160",
   "metadata": {},
   "source": [
    "$$\n",
    "x_3 = -1.36507 \\\\\n",
    "x_2 = 0.65079 \\\\\n",
    "x_1 = 1.23809\n",
    "$$"
   ]
  },
  {
   "cell_type": "markdown",
   "id": "9023a9de-f598-4e90-9655-ebb0542074ca",
   "metadata": {},
   "source": [
    "#### d)"
   ]
  },
  {
   "cell_type": "markdown",
   "id": "5dff40bb-6d82-40af-b55e-d390b8f80d00",
   "metadata": {},
   "source": [
    "x_1"
   ]
  },
  {
   "cell_type": "code",
   "execution_count": 1,
   "id": "9265571f-723f-4444-9c21-a0cf0c8a6814",
   "metadata": {},
   "outputs": [
    {
     "data": {
      "text/plain": [
       "0.004676558246977347"
      ]
     },
     "execution_count": 1,
     "metadata": {},
     "output_type": "execute_result"
    }
   ],
   "source": [
    "abs(1.24388 - 1.23809) / 1.23809"
   ]
  },
  {
   "cell_type": "markdown",
   "id": "348b61db-9b9f-47e8-a656-ed783413e5f3",
   "metadata": {},
   "source": [
    "x_2"
   ]
  },
  {
   "cell_type": "code",
   "execution_count": 2,
   "id": "39cf1c39-9f07-46d7-925e-0665c4f41b17",
   "metadata": {},
   "outputs": [
    {
     "data": {
      "text/plain": [
       "0.019806696476590096"
      ]
     },
     "execution_count": 2,
     "metadata": {},
     "output_type": "execute_result"
    }
   ],
   "source": [
    "abs(0.66368 - 0.65079) / 0.65079"
   ]
  },
  {
   "cell_type": "markdown",
   "id": "4e546f81-78b7-4040-a04e-7b8aae490ff6",
   "metadata": {},
   "source": [
    "x_3"
   ]
  },
  {
   "cell_type": "code",
   "execution_count": 3,
   "id": "ca48d822-3038-4f01-b570-3d600feca806",
   "metadata": {},
   "outputs": [
    {
     "data": {
      "text/plain": [
       "0.00019046642296726684"
      ]
     },
     "execution_count": 3,
     "metadata": {},
     "output_type": "execute_result"
    }
   ],
   "source": [
    "abs(-1.36481 - (-1.36507)) / 1.36507"
   ]
  }
 ],
 "metadata": {
  "kernelspec": {
   "display_name": "Python 3 (ipykernel)",
   "language": "python",
   "name": "python3"
  },
  "language_info": {
   "codemirror_mode": {
    "name": "ipython",
    "version": 3
   },
   "file_extension": ".py",
   "mimetype": "text/x-python",
   "name": "python",
   "nbconvert_exporter": "python",
   "pygments_lexer": "ipython3",
   "version": "3.9.5"
  }
 },
 "nbformat": 4,
 "nbformat_minor": 5
}
