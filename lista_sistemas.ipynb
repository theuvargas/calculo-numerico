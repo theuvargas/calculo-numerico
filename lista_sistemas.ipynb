{
 "cells": [
  {
   "cell_type": "markdown",
   "id": "d8eeab92-87fc-4e4d-9698-38d7140eb55e",
   "metadata": {},
   "source": [
    "### 1. Resolva o sistema linear abaixo utilizando o método de eliminação de Gauss (sem pivoteamento):\n",
    "\n",
    "$$\n",
    "\\large\n",
    "\\begin{cases}\n",
    "\\begin{align*}\n",
    "2x_1 + 2x_2 + 3x_3 + x_4 &= 7 \\\\\n",
    "x_1 - x_2 + 3x_3 - x_4 &= 1 \\\\\n",
    "3x_1 + 2x_2 - 3x_3 - 2x_4 &= 4 \\\\\n",
    "4x_1 + 3x_2 + 2x_3 + x_4 &= 12\n",
    "\\end{align*}\n",
    "\\end{cases}\n",
    "$$"
   ]
  },
  {
   "cell_type": "markdown",
   "id": "424f6162-f535-4ad5-9dd1-a03bb362e36d",
   "metadata": {},
   "source": [
    "Matriz aumentada do sistema:\n",
    "\n",
    "$$\n",
    "\\begin{bmatrix}\n",
    "2 & 2 & 3 & 1 & 7 \\\\\n",
    "1 & -1 & 3 & -1 & 1 \\\\\n",
    "3 & 2 & -3 & -2 & 4 \\\\\n",
    "4 & 3 & 2 & 1 & 12\n",
    "\\end{bmatrix}\n",
    "$$"
   ]
  },
  {
   "cell_type": "markdown",
   "id": "85b343db-9b3b-4297-a86c-95b7d804d927",
   "metadata": {},
   "source": [
    "Executando os passos da eliminação gaussiana"
   ]
  },
  {
   "cell_type": "markdown",
   "id": "849351ed-9fda-4cba-99d4-8524f64b6b35",
   "metadata": {},
   "source": [
    "$$\n",
    "\\begin{bmatrix}2 & 2 & 3 & 1 & 7\\\\\n",
    "0 & -2 & \\frac{3}{2} & -\\frac{3}{2} & -\\frac{5}{2}\\\\\n",
    "3 & 2 & -3 & -2 & 4\\\\\n",
    "4 & 3 & 2 & 1 & 12\\end{bmatrix}\n",
    "$$"
   ]
  },
  {
   "cell_type": "markdown",
   "id": "23115156-e7ab-4396-a5f7-d98fa7582d33",
   "metadata": {},
   "source": [
    "$$\n",
    "\\begin{bmatrix}2 & 2 & 3 & 1 & 7\\\\\n",
    "0 & -2 & \\frac{3}{2} & -\\frac{3}{2} & -\\frac{5}{2}\\\\\n",
    "0 & -1 & -\\frac{15}{2} & -\\frac{7}{2} & -\\frac{13}{2}\\\\\n",
    "4 & 3 & 2 & 1 & 12\\end{bmatrix}\n",
    "$$"
   ]
  },
  {
   "cell_type": "markdown",
   "id": "8604f562-a631-44f9-a5d3-fdc8ba794351",
   "metadata": {},
   "source": [
    "$$\n",
    "\\begin{bmatrix}2 & 2 & 3 & 1 & 7\\\\\n",
    "0 & -2 & \\frac{3}{2} & -\\frac{3}{2} & -\\frac{5}{2}\\\\\n",
    "0 & -1 & -\\frac{15}{2} & -\\frac{7}{2} & -\\frac{13}{2}\\\\\n",
    "0 & -1 & -4 & -1 & -2\\end{bmatrix}\n",
    "$$"
   ]
  },
  {
   "cell_type": "markdown",
   "id": "4351ddc3-607f-414d-afb0-7ec937d563ce",
   "metadata": {},
   "source": [
    "$$\n",
    "\\begin{bmatrix}2 & 2 & 3 & 1 & 7\\\\\n",
    "0 & -2 & \\frac{3}{2} & -\\frac{3}{2} & -\\frac{5}{2}\\\\\n",
    "0 & 0 & -\\frac{33}{4} & -\\frac{11}{4} & -\\frac{21}{4}\\\\\n",
    "0 & -1 & -4 & -1 & -2\\end{bmatrix}\n",
    "$$"
   ]
  },
  {
   "cell_type": "markdown",
   "id": "11a79b2c-2196-4846-b2cf-29b6a07c9fe1",
   "metadata": {},
   "source": [
    "$$\n",
    "\\begin{bmatrix}2 & 2 & 3 & 1 & 7\\\\\n",
    "0 & -2 & \\frac{3}{2} & -\\frac{3}{2} & -\\frac{5}{2}\\\\\n",
    "0 & 0 & -\\frac{33}{4} & -\\frac{11}{4} & -\\frac{21}{4}\\\\\n",
    "0 & 0 & -\\frac{19}{4} & -\\frac{1}{4} & -\\frac{3}{4}\\end{bmatrix}\n",
    "$$"
   ]
  },
  {
   "cell_type": "markdown",
   "id": "c6773744-0788-45e7-af6f-fdea28ec1b2f",
   "metadata": {},
   "source": [
    "$$\n",
    "\\begin{bmatrix}2 & 2 & 3 & 1 & 7\\\\\n",
    "0 & -2 & \\frac{3}{2} & -\\frac{3}{2} & -\\frac{5}{2}\\\\\n",
    "0 & 0 & -\\frac{33}{4} & -\\frac{11}{4} & -\\frac{21}{4}\\\\\n",
    "0 & 0 & 0 & \\frac{4}{3} & \\frac{25}{11}\\end{bmatrix}\n",
    "$$"
   ]
  },
  {
   "cell_type": "markdown",
   "id": "d2824a8a-0c24-41f9-88e5-e1f70390716e",
   "metadata": {},
   "source": [
    "Então temos o sistema\n",
    "\n",
    "$$\n",
    "\\begin{cases}\n",
    "\\begin{array} {rcr}\n",
    "2x_1 + 2x_2 + 3x_3 + x_4 &=& 7 \\\\\n",
    "-2x_2 + \\frac{3}{2}x_3 - \\frac{3}{2}x_4 &=& -\\frac{5}{2} \\\\\n",
    "-\\frac{33}{4}x_3 -\\frac{11}{4}x_4 &=& -\\frac{21}{4} \\\\\n",
    "\\frac{4}{3}x_4 &=& \\frac{25}{11}\n",
    "\\end{array}\n",
    "\\end{cases}\n",
    "$$"
   ]
  },
  {
   "cell_type": "markdown",
   "id": "ef76b8ae-8e3d-4c5f-9e9b-ab98ba31a7c3",
   "metadata": {},
   "source": [
    "Resolvendo de cima para baixo, começando com $x_4$:\n",
    "\n",
    "$$\n",
    "\\frac{4}{3}x_4 = \\frac{25}{11} \\\\\n",
    "x_4 = \\frac{75}{44} \\\\\n",
    "$$\n",
    "\n",
    "$x_3$:\n",
    "$$\n",
    "\\begin{align*}\n",
    "-\\frac{33}{4}x_3 -\\frac{11}{4}x_4 &= -\\frac{21}{4} \\\\\n",
    "-\\frac{33}{4}x_3 - \\frac{11}{4} \\cdot \\frac{75}{44} &= -\\frac{21}{4} \\\\\n",
    "-\\frac{33}{4}x_3 &= -\\frac{21}{4} + \\frac{825}{176} \\\\\n",
    "x_3 &= \\frac{3}{44}\n",
    "\\end{align*}\n",
    "$$\n",
    "\n",
    "$x_2$:\n",
    "$$\n",
    "\\begin{align*}\n",
    "-2x_2 + \\frac{3}{2}x_3 - \\frac{3}{2}x_4 &= -\\frac{5}{2} \\\\\n",
    "-2x_2 + \\frac{3}{2} \\cdot \\frac{3}{44} - \\frac{3}{2} \\cdot \\frac{75}{44} &= -\\frac{5}{2} \\\\\n",
    "x_2 &= \\frac{1}{44}\n",
    "\\end{align*}\n",
    "$$\n",
    "\n",
    "$x_1$:\n",
    "$$\n",
    "\\begin{align*}\n",
    "2x_1 + 2x_2 + 3x_3 + x_4 &= 7 \\\\\n",
    "2x_1 + 2 \\cdot \\frac{1}{44} + 3 \\cdot \\frac{3}{44} + \\frac{75}{44} &= 7 \\\\\n",
    "x_1 &= \\frac{111}{44}\n",
    "\\end{align*}\n",
    "$$"
   ]
  },
  {
   "cell_type": "markdown",
   "id": "7de327b9-f52b-42e7-973c-4919472bbecd",
   "metadata": {},
   "source": [
    "### 5. Faça a fatoração LU (usando o método de eliminação de Gauss) das seguintes matrizes:"
   ]
  },
  {
   "cell_type": "markdown",
   "id": "c5c82020-1b4b-46cb-b1bb-1cb41eafcce7",
   "metadata": {},
   "source": [
    "##### a)\n",
    "$$\n",
    "A = \\,\n",
    "\\begin{bmatrix}\n",
    "2 & -1 & 1 \\\\\n",
    "3 & 3 & 9 \\\\\n",
    "3 & 3 & 5\n",
    "\\end{bmatrix}\n",
    "$$"
   ]
  },
  {
   "cell_type": "markdown",
   "id": "28a47fe7-ef09-40d1-b8ef-ce94413ed1e5",
   "metadata": {},
   "source": [
    "Fatorando A:\n",
    "$$\n",
    "A = \\,\n",
    "\\begin{bmatrix}\n",
    "2 & -1 & 1 \\\\\n",
    "3 & 3 & 9 \\\\\n",
    "3 & 3 & 5\n",
    "\\end{bmatrix}\n",
    "= \\,\\begin{bmatrix}\n",
    "l_{1,1} & 0 & 0 \\\\\n",
    "l_{2,1} & l_{2,2} & 0 \\\\\n",
    "l_{3,1} & l_{3,2} & l_{3,3}\n",
    "\\end{bmatrix}\n",
    "\\cdot\n",
    "\\begin{bmatrix}\n",
    "u_{1,1} & u_{1,2} & u_{1,3} \\\\\n",
    "0 & u_{2,2} & u_{2,3} \\\\\n",
    "0 & 0 & u_{3,3}\n",
    "\\end{bmatrix}\n",
    "$$"
   ]
  },
  {
   "cell_type": "markdown",
   "id": "d72c32e8-17af-4d0a-b0e7-5697dc4b32b6",
   "metadata": {},
   "source": [
    "Iniciando o processo de eliminação gaussiana\n",
    "$$\n",
    "\\begin{bmatrix}\n",
    "2 & -1 & 1 \\\\\n",
    "3 & 3 & 9 \\\\\n",
    "3 & 3 & 5\n",
    "\\end{bmatrix}\n",
    "$$\n",
    "\n",
    "É preciso multiplicar a primeira linha por $\\frac{3}{2}$ e subtrair da segunda linha para zerar o termo $A_{2,1}$. Então $\\frac{3}{2}$ será o termo $L_{2,1}$.\n",
    "$$\n",
    "\\begin{bmatrix}\n",
    "2 & -1 & 1 \\\\\n",
    "\\frac{3}{2} & \\frac{9}{2} & \\frac{15}{2} \\\\\n",
    "3 & 3 & 5\n",
    "\\end{bmatrix}\n",
    "$$\n",
    "A multiplicação será novamente por $\\frac{3}{2}$ e $L_{3,1}$ será $\\frac{3}{2}$.\n",
    "\n",
    "$$\n",
    "\\begin{bmatrix}\n",
    "2 & -1 & 1 \\\\\n",
    "\\frac{3}{2} & \\frac{9}{2} & \\frac{15}{2} \\\\\n",
    "\\frac{3}{2} & \\frac{9}{2} & \\frac{7}{2} \\\\\n",
    "\\end{bmatrix}\n",
    "$$\n",
    "\n",
    "Por fim, é preciso multiplicar a segunda linha por $1$ e subtrair da terceira, e então $L_{3,2}$ será $1$\n",
    "$$\n",
    "\\begin{bmatrix}\n",
    "2 & -1 & 1 \\\\\n",
    "\\frac{3}{2} & \\frac{9}{2} & \\frac{15}{2} \\\\\n",
    "\\frac{3}{2} & 1 & -4 \\\\\n",
    "\\end{bmatrix}\n",
    "$$\n",
    "\n",
    "As matrizes $L$ e $U$ estão prontas:\n",
    "$$\n",
    "\\large\n",
    "L = \\begin{bmatrix}\n",
    "1 & 0 & 0 \\\\\n",
    "\\frac{3}{2} & 1 & 0 \\\\\n",
    "\\frac{3}{2} & 1 & 1 \\\\\n",
    "\\end{bmatrix}\\, , \\quad\n",
    "U = \\begin{bmatrix}\n",
    "2 & -1 & 1 \\\\\n",
    "0 & \\frac{9}{2} & \\frac{15}{2} \\\\\n",
    "0 & 0 & -4 \\\\\n",
    "\\end{bmatrix}\n",
    "$$"
   ]
  }
 ],
 "metadata": {
  "kernelspec": {
   "display_name": "Python 3 (ipykernel)",
   "language": "python",
   "name": "python3"
  },
  "language_info": {
   "codemirror_mode": {
    "name": "ipython",
    "version": 3
   },
   "file_extension": ".py",
   "mimetype": "text/x-python",
   "name": "python",
   "nbconvert_exporter": "python",
   "pygments_lexer": "ipython3",
   "version": "3.9.5"
  }
 },
 "nbformat": 4,
 "nbformat_minor": 5
}
