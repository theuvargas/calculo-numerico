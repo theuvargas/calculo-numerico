{
 "cells": [
  {
   "cell_type": "markdown",
   "id": "d2c5670c-6690-4333-b9c8-dd776f0a569a",
   "metadata": {},
   "source": [
    "### 2) Dado o PVI: $y' = 4 − 2x, y(0) = 2$. Considere $h = 0.25$ e $h = 0.1$."
   ]
  },
  {
   "cell_type": "markdown",
   "id": "8e5973ee-ae3e-410d-8109-76f97218c3b2",
   "metadata": {},
   "source": [
    "#### a) Encontre uma aproximação para $y(5)$ usando o método de Euler aperfeiçoado para cada $h$."
   ]
  },
  {
   "cell_type": "code",
   "execution_count": 1,
   "id": "c5c759f9-2439-4164-a948-65c1635cf773",
   "metadata": {},
   "outputs": [
    {
     "name": "stdout",
     "output_type": "stream",
     "text": [
      "-3.0\n",
      "-3.0000000000000027\n"
     ]
    }
   ],
   "source": [
    "from numpy import arange\n",
    "def euler_aperfeicoado(x0, x_f, h, f, y0):\n",
    "    resultado = y0\n",
    "    \n",
    "    for x in arange(x0, x_f, h):\n",
    "        intermediario = resultado + (h * f(x, resultado))\n",
    "        resultado = resultado + (h/2 * (f(x, resultado) + f(x+h, intermediario)))\n",
    "        \n",
    "    return resultado\n",
    "\n",
    "def f(x, y):\n",
    "    return 4 - 2*x\n",
    "\n",
    "print(euler_aperfeicoado(0, 5, 0.25, f, 2))\n",
    "print(euler_aperfeicoado(0, 5, 0.1, f, 2))"
   ]
  },
  {
   "cell_type": "markdown",
   "id": "19e42229-10f8-4b11-8705-427fcc74a280",
   "metadata": {},
   "source": [
    "#### b) Verifique que a solução exata é $y(x) = −x^2 + 4x + 2$."
   ]
  },
  {
   "cell_type": "markdown",
   "id": "7b8b1acb-863d-4c91-b25e-8f9cf5136594",
   "metadata": {},
   "source": [
    "$$\n",
    "y(0) = -0^2 + 4(0) + 2 \\\\\n",
    "y(0) = 2\n",
    "$$"
   ]
  },
  {
   "cell_type": "markdown",
   "id": "d173a896-2a74-4866-b7aa-93cd7024c530",
   "metadata": {},
   "source": [
    "Para a condição inicial, isso é verdade."
   ]
  },
  {
   "cell_type": "markdown",
   "id": "7083b8a7-d324-4bf8-9dcb-a930f932b527",
   "metadata": {},
   "source": [
    "$$\n",
    "y' = 4 - 2x \\\\\n",
    "\\int y' dy = \\int (4 - 2x) dx \\\\\n",
    "y = \\int (4 - 2x) dx \\\\\n",
    "y = 4x - x^2 + C \\\\\n",
    "$$"
   ]
  },
  {
   "cell_type": "markdown",
   "id": "19bddd15-9bce-450c-96ee-637f4a7805e5",
   "metadata": {},
   "source": [
    "Encontrando C"
   ]
  },
  {
   "cell_type": "markdown",
   "id": "1e554cce-51cc-42e0-ae7b-2dc6153a960d",
   "metadata": {},
   "source": [
    "$$\n",
    "y(x) = -x^2 + 4x + C \\\\\n",
    "y(0) = -x^2 + 4x + C \\\\\n",
    "2 = C \\\\\n",
    "$$"
   ]
  },
  {
   "cell_type": "markdown",
   "id": "42fef074-bc79-40a9-bef6-71c56140d32f",
   "metadata": {},
   "source": [
    "Portanto\n",
    "$$\n",
    "y(x) = −x^2 + 4x + 2\n",
    "$$"
   ]
  },
  {
   "cell_type": "markdown",
   "id": "6a68f371-8694-422f-9a26-c9918b13af98",
   "metadata": {},
   "source": [
    "#### c) Compare seus resultados com a solução exata. Justifique o comportamento dos erros nesses resultados."
   ]
  },
  {
   "cell_type": "markdown",
   "id": "79b4aea3-909f-4624-947c-f86727a26e90",
   "metadata": {},
   "source": [
    "$$\n",
    "y(x) = -x^2 + 4x + 2 \\\\\n",
    "y(5) = -5^2 + 4(5) + 2 \\\\\n",
    "y(5) = -25 + 20 + 2 \\\\\n",
    "y(5) = -3\n",
    "$$"
   ]
  },
  {
   "cell_type": "markdown",
   "id": "347ab2ae-5c86-4f27-8e3a-17a1bf713bdc",
   "metadata": {},
   "source": [
    "O erro foi nulo."
   ]
  },
  {
   "cell_type": "markdown",
   "id": "a42a317f-2add-44d7-a011-0ee39ddf4df4",
   "metadata": {},
   "source": [
    "### 4) Considere o PVI: $y' = \\frac{y^2 − 1}{x^2 + 1}$, $y(0) = 1$."
   ]
  },
  {
   "cell_type": "markdown",
   "id": "a5c9a024-86b0-44b4-b96a-0f7182f93953",
   "metadata": {},
   "source": [
    "#### a) Calcule aproximações para $y(1)$, usando o Método de Euler com $h = 0.2$ e $h = 0.25$"
   ]
  },
  {
   "cell_type": "code",
   "execution_count": 2,
   "id": "142a2b70-c960-42df-a7f4-cc9eed52874a",
   "metadata": {},
   "outputs": [],
   "source": [
    "from numpy import arange\n",
    "\n",
    "def euler(x0, x_f, h, f, y0):\n",
    "    resultado = y0\n",
    "    for x in arange(x0, x_f, h):\n",
    "        resultado = resultado + h * f(x, resultado)\n",
    "        \n",
    "    return resultado\n",
    "\n",
    "\n",
    "def f(x, y):\n",
    "    return (y**2 - 1) / (x**2 + 1)"
   ]
  },
  {
   "cell_type": "code",
   "execution_count": 3,
   "id": "cd86b6b3-d00d-4940-8f0b-6e46e6e0f9df",
   "metadata": {},
   "outputs": [
    {
     "name": "stdout",
     "output_type": "stream",
     "text": [
      "1.0\n",
      "1.0\n"
     ]
    }
   ],
   "source": [
    "print(euler(0, 1, 0.2, f, 1))\n",
    "print(euler(0, 1, 0.25, f, 1))"
   ]
  },
  {
   "cell_type": "markdown",
   "id": "f7810fa6-b86d-428c-9e69-b4b6fc45508c",
   "metadata": {},
   "source": [
    "O resultado é 1 para ambos os $h$'s"
   ]
  },
  {
   "cell_type": "markdown",
   "id": "f56d64e4-eb5b-4642-a21e-be90460c0695",
   "metadata": {},
   "source": [
    "#### b) Repita o item (a), usando agora o Método de Euler Aperfeiçoado."
   ]
  },
  {
   "cell_type": "code",
   "execution_count": 4,
   "id": "482bea11-688e-4393-9241-6773f00ba995",
   "metadata": {},
   "outputs": [
    {
     "name": "stdout",
     "output_type": "stream",
     "text": [
      "1.0\n",
      "1.0\n"
     ]
    }
   ],
   "source": [
    "print(euler_aperfeicoado(0, 1, 0.2, f, 1))\n",
    "print(euler_aperfeicoado(0, 1, 0.25, f, 1))"
   ]
  },
  {
   "cell_type": "markdown",
   "id": "01b85b96-29d5-462d-a894-9e8155343a62",
   "metadata": {},
   "source": [
    "O resultado foi o mesmo."
   ]
  }
 ],
 "metadata": {
  "kernelspec": {
   "display_name": "Python 3 (ipykernel)",
   "language": "python",
   "name": "python3"
  },
  "language_info": {
   "codemirror_mode": {
    "name": "ipython",
    "version": 3
   },
   "file_extension": ".py",
   "mimetype": "text/x-python",
   "name": "python",
   "nbconvert_exporter": "python",
   "pygments_lexer": "ipython3",
   "version": "3.9.5"
  }
 },
 "nbformat": 4,
 "nbformat_minor": 5
}
